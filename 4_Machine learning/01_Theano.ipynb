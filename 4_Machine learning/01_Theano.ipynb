{
 "cells": [
  {
   "cell_type": "markdown",
   "metadata": {},
   "source": [
    "### IRIS 데이터를 이용한 함수 생성"
   ]
  },
  {
   "cell_type": "code",
   "execution_count": 1,
   "metadata": {},
   "outputs": [],
   "source": [
    "import theano\n",
    "import theano.tensor as T"
   ]
  },
  {
   "cell_type": "code",
   "execution_count": 2,
   "metadata": {},
   "outputs": [],
   "source": [
    "X = T.dmatrix('X')\n",
    "w = T.dvector('w')\n",
    "b = T.dvector('b')\n",
    "y = T.dot(X, w) + b"
   ]
  },
  {
   "cell_type": "code",
   "execution_count": 3,
   "metadata": {},
   "outputs": [],
   "source": [
    "function = theano.function([X, w, b], y)"
   ]
  },
  {
   "cell_type": "code",
   "execution_count": 4,
   "metadata": {},
   "outputs": [],
   "source": [
    "from sklearn.datasets import load_iris\n",
    "iris = load_iris()"
   ]
  },
  {
   "cell_type": "code",
   "execution_count": 5,
   "metadata": {},
   "outputs": [],
   "source": [
    "X = iris.data\n",
    "y = iris.target"
   ]
  },
  {
   "cell_type": "code",
   "execution_count": 6,
   "metadata": {},
   "outputs": [],
   "source": [
    "w = np.array([1, -2, 0.5, 0.2])"
   ]
  },
  {
   "cell_type": "code",
   "execution_count": 7,
   "metadata": {},
   "outputs": [],
   "source": [
    "b = 0.1 * y"
   ]
  },
  {
   "cell_type": "code",
   "execution_count": 8,
   "metadata": {},
   "outputs": [
    {
     "data": {
      "text/plain": [
       "array([-1.16, -0.36, -1.01, -0.81, -1.46, -1.47, -1.44, -1.01, -0.66,\n",
       "       -0.53, -1.21, -1.16, -0.48, -1.13, -1.56, -2.27, -1.67, -1.14,\n",
       "       -0.99, -1.69, -0.51, -1.47, -2.06, -0.55, -1.01, -0.16, -0.92,\n",
       "       -1.01, -0.86, -0.86, -0.56, -0.57, -2.23, -2.16, -0.53, -0.76,\n",
       "       -0.81, -0.53, -0.91, -0.91, -1.29,  0.61, -1.31, -1.08, -1.47,\n",
       "       -0.44, -1.66, -1.06, -1.31, -0.86,  3.33,  2.65,  3.55,  3.26,\n",
       "        3.6 ,  2.71,  2.47,  2.05,  3.46,  2.13,  3.05,  2.4 ,  3.9 ,\n",
       "        3.03,  1.96,  3.08,  2.25,  2.75,  4.45,  2.87,  2.36,  2.86,\n",
       "        4.15,  3.19,  3.11,  3.18,  3.98,  3.64,  2.85,  2.55,  2.92,\n",
       "        2.85,  2.69,  3.57,  2.05,  1.87,  3.25,  4.26,  2.01,  2.86,\n",
       "        2.84,  2.78,  2.94,  2.35,  2.66,  2.14,  2.36,  2.91,  1.92,\n",
       "        2.51,  3.4 ,  3.53,  4.67,  3.86,  4.04,  5.52,  2.69,  5.21,\n",
       "        5.16,  3.75,  3.25,  4.23,  4.17,  3.8 ,  3.43,  3.31,  3.81,\n",
       "        4.09,  6.61,  4.6 ,  4.01,  3.05,  6.05,  3.91,  3.57,  4.36,\n",
       "        3.56,  3.11,  4.22,  4.62,  5.43,  4.1 ,  4.24,  3.75,  4.18,\n",
       "        5.41,  2.98,  3.51,  2.96,  4.02,  3.98,  3.91,  3.53,  4.01,\n",
       "        3.65,  3.96,  4.38,  3.7 ,  2.76,  3.01])"
      ]
     },
     "execution_count": 8,
     "metadata": {},
     "output_type": "execute_result"
    }
   ],
   "source": [
    "function(X, w, b)"
   ]
  }
 ],
 "metadata": {
  "kernelspec": {
   "display_name": "Python 3",
   "language": "python",
   "name": "python3"
  },
  "language_info": {
   "codemirror_mode": {
    "name": "ipython",
    "version": 3
   },
   "file_extension": ".py",
   "mimetype": "text/x-python",
   "name": "python",
   "nbconvert_exporter": "python",
   "pygments_lexer": "ipython3",
   "version": "3.6.4"
  }
 },
 "nbformat": 4,
 "nbformat_minor": 2
}
