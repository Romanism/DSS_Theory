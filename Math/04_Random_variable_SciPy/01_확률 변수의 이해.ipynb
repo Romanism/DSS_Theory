{
 "cells": [
  {
   "cell_type": "markdown",
   "metadata": {},
   "source": [
    "### 1. 확률 변수 (Random Variable)의 기초 개념"
   ]
  },
  {
   "cell_type": "markdown",
   "metadata": {},
   "source": [
    "#### 1) 숫자의 종류"
   ]
  },
  {
   "cell_type": "markdown",
   "metadata": {},
   "source": [
    "통계학에서 정의하는 숫자는 두 가지 종류로 구분한다.\n",
    "\n",
    "- 상수 : 항상 똑같은(상) 숫자(수)\n",
    "- 변수 : 변하는(변) 숫자(수)"
   ]
  },
  {
   "cell_type": "markdown",
   "metadata": {},
   "source": [
    "#### 2) 숫자로의 변환 "
   ]
  },
  {
   "cell_type": "markdown",
   "metadata": {},
   "source": [
    "일상 생활에서 일어나는 사건들은 숫자로 표현하지 않는 경우가 대부분이다. 통계학에서는 이런 사건들을 숫자로 변환하여 사용한다.\n",
    "\n",
    "- 동전 던지기 : 앞면 - 0, 뒷면 - 1\n",
    "- 성별 구분 : 남자 - 1, 여자 - 2"
   ]
  },
  {
   "cell_type": "markdown",
   "metadata": {},
   "source": [
    "#### 3) 확률 변수의 정의"
   ]
  },
  {
   "cell_type": "markdown",
   "metadata": {},
   "source": [
    "확률이라는 규칙을 가지면서 변하는 사건을 숫자로 표현한 것을 의미한다."
   ]
  },
  {
   "cell_type": "markdown",
   "metadata": {},
   "source": [
    "#### 4) 확률 변수의 표현"
   ]
  },
  {
   "cell_type": "markdown",
   "metadata": {},
   "source": [
    "- 보통 대문자 $X$로 표시한다.\n",
    "- 동전 던지기에서 앞면이 나오는 경우의 수로 정의되는 확률 변수 $X$ $\\rightarrow$ $X$ = 0, 1"
   ]
  },
  {
   "cell_type": "markdown",
   "metadata": {},
   "source": [
    "---"
   ]
  },
  {
   "cell_type": "markdown",
   "metadata": {},
   "source": [
    "### 2. 확률 변수의 종류"
   ]
  },
  {
   "cell_type": "markdown",
   "metadata": {},
   "source": [
    "#### 1. 이산 확률 변수 (discrete random variable)"
   ]
  },
  {
   "cell_type": "markdown",
   "metadata": {},
   "source": [
    "- 확률 변수가 가질 수 있는 값들을 셀 수 있는 경우\n",
    "- 사례 : 동전 던지기, 주사위 던지기 등"
   ]
  },
  {
   "cell_type": "markdown",
   "metadata": {},
   "source": [
    "#### 2. 연속 확률 변수 (continuous random variable)"
   ]
  },
  {
   "cell_type": "markdown",
   "metadata": {},
   "source": [
    "- 확률 변수가 가질 수 있는 값들을 셀 수 없는 경우\n",
    "- 사례 : 키, 몸무게"
   ]
  }
 ],
 "metadata": {
  "kernelspec": {
   "display_name": "Python 3",
   "language": "python",
   "name": "python3"
  },
  "language_info": {
   "codemirror_mode": {
    "name": "ipython",
    "version": 3
   },
   "file_extension": ".py",
   "mimetype": "text/x-python",
   "name": "python",
   "nbconvert_exporter": "python",
   "pygments_lexer": "ipython3",
   "version": "3.6.4"
  }
 },
 "nbformat": 4,
 "nbformat_minor": 2
}
