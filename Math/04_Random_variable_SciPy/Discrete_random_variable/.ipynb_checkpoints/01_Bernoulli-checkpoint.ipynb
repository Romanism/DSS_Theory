{
 "cells": [
  {
   "cell_type": "markdown",
   "metadata": {},
   "source": [
    "### 1. 베르누이 분포 (Bernoulli distribution)"
   ]
  },
  {
   "cell_type": "markdown",
   "metadata": {},
   "source": [
    "1) 정의"
   ]
  },
  {
   "cell_type": "markdown",
   "metadata": {},
   "source": [
    "결과가 성공(Success) 혹은 실패(Fail) 두 가지 중 하나로만 나오는 것 ex) 동전 던지기"
   ]
  },
  {
   "cell_type": "markdown",
   "metadata": {},
   "source": [
    "2) 특징"
   ]
  },
  {
   "cell_type": "markdown",
   "metadata": {},
   "source": [
    "- 0, 1 두 가지 값 중 하나만 가질 수 있으므로 이산 확률 변수임\n",
    "- 따라서 확률 질량 함수로 정의"
   ]
  },
  {
   "cell_type": "markdown",
   "metadata": {},
   "source": [
    "3) 공식 "
   ]
  },
  {
   "cell_type": "markdown",
   "metadata": {},
   "source": [
    "[1] Case 형식\n",
    "\n",
    "$$\n",
    "\\text{Bern}(x;\\theta) = \n",
    "\\begin{cases} \n",
    "\\theta   & \\text{if }x=1, \\\\\n",
    "1-\\theta & \\text{if }x=0\n",
    "\\end{cases}\n",
    "$$"
   ]
  },
  {
   "cell_type": "markdown",
   "metadata": {},
   "source": [
    "[2] 두 값이 1, 0일 때\n",
    "\n",
    "$$\n",
    "\\text{Bern}(x;\\theta) = \\theta^x(1-\\theta)^{(1-x)}\n",
    "$$"
   ]
  },
  {
   "cell_type": "markdown",
   "metadata": {},
   "source": [
    "- 1이 나올 확률을 의미하는 $\\theta$라는 하나의 모수를 가짐\n",
    "- 변수와 모수는 세미콜론(;, semi-colone)기호로 분리"
   ]
  },
  {
   "cell_type": "markdown",
   "metadata": {},
   "source": [
    "[3] 두 값이 1, -1일 때\n",
    "\n",
    "$$ \\text{Bern}(x; \\theta) = \\theta^{(1+x)/2} (1-\\theta)^{(1-x)/2} $$"
   ]
  },
  {
   "cell_type": "markdown",
   "metadata": {},
   "source": [
    "4) 의미 : 확률 변수 $X$가 베르누이 분포를 따른다"
   ]
  },
  {
   "cell_type": "markdown",
   "metadata": {},
   "source": [
    "$$ X \\sim \\text{Bern}(x;\\theta) $$"
   ]
  },
  {
   "cell_type": "code",
   "execution_count": 1,
   "metadata": {},
   "outputs": [],
   "source": [
    "# 베르누이 분포 구하기\n",
    "import scipy as sp\n",
    "import scipy.stats\n",
    "import matplotlib as mpl\n",
    "import matplotlib.pyplot as plt\n",
    "import seaborn as sns"
   ]
  },
  {
   "cell_type": "code",
   "execution_count": 2,
   "metadata": {},
   "outputs": [
    {
     "data": {
      "image/png": "[encoded data removed]",
      "text/plain": [
       "<matplotlib.figure.Figure at 0x11092eef0>"
      ]
     },
     "metadata": {
      "image/png": {
       "height": 277,
       "width": 387
      }
     },
     "output_type": "display_data"
    }
   ],
   "source": [
    "# 1. 확률 변수 만들기\n",
    "theta = 0.6 # 성공 확률 정의\n",
    "rv = sp.stats.bernoulli(theta) # 확률 분포 정의\n",
    "\n",
    "xx = [0, 1]\n",
    "plt.bar(xx, rv.pmf(xx))\n",
    "\n",
    "plt.xlim(-1, 2)\n",
    "plt.ylim(0, 1)\n",
    "\n",
    "plt.xticks([0, 1], [\"x=0\", \"x=1\"])\n",
    "plt.xlabel(\"$x$\")\n",
    "plt.ylabel(\"P(x)\")\n",
    "plt.title(\"Bernoulli distribution pmf\")\n",
    "plt.grid(True)\n",
    "\n",
    "plt.show()"
   ]
  },
  {
   "cell_type": "code",
   "execution_count": 3,
   "metadata": {},
   "outputs": [
    {
     "data": {
      "image/png": "[encoded data removed]",
      "text/plain": [
       "<matplotlib.figure.Figure at 0x11092e748>"
      ]
     },
     "metadata": {
      "image/png": {
       "height": 277,
       "width": 384
      }
     },
     "output_type": "display_data"
    }
   ],
   "source": [
    "# 2. 시뮬레이션\n",
    "x = rv.rvs(100, random_state=0) # rv에 따른 난수 100개 생성\n",
    "sns.countplot(x) # 단순히 몇번 나왔는지 확인하는 그래프\n",
    "\n",
    "plt.title(\"Simulation output\")\n",
    "plt.xlabel(\"$x$\")\n",
    "\n",
    "plt.show()"
   ]
  },
  {
   "cell_type": "code",
   "execution_count": 4,
   "metadata": {},
   "outputs": [
    {
     "data": {
      "text/html": [
       "<div>\n",
       "<style scoped>\n",
       "    .dataframe tbody tr th:only-of-type {\n",
       "        vertical-align: middle;\n",
       "    }\n",
       "\n",
       "    .dataframe tbody tr th {\n",
       "        vertical-align: top;\n",
       "    }\n",
       "\n",
       "    .dataframe thead th {\n",
       "        text-align: right;\n",
       "    }\n",
       "</style>\n",
       "<table border=\"1\" class=\"dataframe\">\n",
       "  <thead>\n",
       "    <tr style=\"text-align: right;\">\n",
       "      <th></th>\n",
       "      <th>simulation</th>\n",
       "      <th>theory</th>\n",
       "    </tr>\n",
       "  </thead>\n",
       "  <tbody>\n",
       "    <tr>\n",
       "      <th>0</th>\n",
       "      <td>0.38</td>\n",
       "      <td>0.4</td>\n",
       "    </tr>\n",
       "    <tr>\n",
       "      <th>1</th>\n",
       "      <td>0.62</td>\n",
       "      <td>0.6</td>\n",
       "    </tr>\n",
       "  </tbody>\n",
       "</table>\n",
       "</div>"
      ],
      "text/plain": [
       "   simulation  theory\n",
       "0        0.38     0.4\n",
       "1        0.62     0.6"
      ]
     },
     "execution_count": 4,
     "metadata": {},
     "output_type": "execute_result"
    }
   ],
   "source": [
    "# 확률 분포와 샘플의 확률 분포를 같이 표현\n",
    "y = np.bincount(x, minlength=2) / float(len(x))\n",
    "\n",
    "df = pd.DataFrame({\"theory\": rv.pmf(xx), \"simulation\": y})\n",
    "df.index = [0, 1]\n",
    "df"
   ]
  },
  {
   "cell_type": "code",
   "execution_count": 5,
   "metadata": {},
   "outputs": [
    {
     "data": {
      "text/html": [
       "<div>\n",
       "<style scoped>\n",
       "    .dataframe tbody tr th:only-of-type {\n",
       "        vertical-align: middle;\n",
       "    }\n",
       "\n",
       "    .dataframe tbody tr th {\n",
       "        vertical-align: top;\n",
       "    }\n",
       "\n",
       "    .dataframe thead th {\n",
       "        text-align: right;\n",
       "    }\n",
       "</style>\n",
       "<table border=\"1\" class=\"dataframe\">\n",
       "  <thead>\n",
       "    <tr style=\"text-align: right;\">\n",
       "      <th></th>\n",
       "      <th>sample</th>\n",
       "      <th>type</th>\n",
       "      <th>ratio</th>\n",
       "    </tr>\n",
       "  </thead>\n",
       "  <tbody>\n",
       "    <tr>\n",
       "      <th>0</th>\n",
       "      <td>0</td>\n",
       "      <td>simulation</td>\n",
       "      <td>0.38</td>\n",
       "    </tr>\n",
       "    <tr>\n",
       "      <th>1</th>\n",
       "      <td>0</td>\n",
       "      <td>theory</td>\n",
       "      <td>0.40</td>\n",
       "    </tr>\n",
       "    <tr>\n",
       "      <th>2</th>\n",
       "      <td>1</td>\n",
       "      <td>simulation</td>\n",
       "      <td>0.62</td>\n",
       "    </tr>\n",
       "    <tr>\n",
       "      <th>3</th>\n",
       "      <td>1</td>\n",
       "      <td>theory</td>\n",
       "      <td>0.60</td>\n",
       "    </tr>\n",
       "  </tbody>\n",
       "</table>\n",
       "</div>"
      ],
      "text/plain": [
       "   sample        type  ratio\n",
       "0       0  simulation   0.38\n",
       "1       0      theory   0.40\n",
       "2       1  simulation   0.62\n",
       "3       1      theory   0.60"
      ]
     },
     "execution_count": 5,
     "metadata": {},
     "output_type": "execute_result"
    }
   ],
   "source": [
    "df2 = df.stack().reset_index()\n",
    "df2.columns = [\"sample\", \"type\", \"ratio\"]\n",
    "df2"
   ]
  },
  {
   "cell_type": "code",
   "execution_count": 6,
   "metadata": {},
   "outputs": [
    {
     "data": {
      "image/png": "[encoded data removed]",
      "text/plain": [
       "<matplotlib.figure.Figure at 0x111a107b8>"
      ]
     },
     "metadata": {
      "image/png": {
       "height": 263,
       "width": 387
      }
     },
     "output_type": "display_data"
    }
   ],
   "source": [
    "sns.barplot(x=\"sample\", y=\"ratio\", hue=\"type\", data=df2)\n",
    "plt.show()"
   ]
  },
  {
   "cell_type": "markdown",
   "metadata": {},
   "source": [
    "5) 모멘트"
   ]
  },
  {
   "cell_type": "markdown",
   "metadata": {},
   "source": [
    "[1] 기대값 : $\\text{E}[X]  = \\theta$"
   ]
  },
  {
   "cell_type": "markdown",
   "metadata": {},
   "source": [
    "(증명)\n",
    "\n",
    "$$\\text{E}[X] = \\sum x_i P(x_i) = 1 \\cdot \\theta + 0 \\cdot (1 - \\theta) =  \\theta$$"
   ]
  },
  {
   "cell_type": "code",
   "execution_count": 7,
   "metadata": {},
   "outputs": [
    {
     "data": {
      "text/plain": [
       "0.62"
      ]
     },
     "execution_count": 7,
     "metadata": {},
     "output_type": "execute_result"
    }
   ],
   "source": [
    "# 베르누이 기대값 구하기\n",
    "np.mean(x)"
   ]
  },
  {
   "cell_type": "markdown",
   "metadata": {},
   "source": [
    "[2] 분산 : $\\text{Var}[X] = \\theta(1-\\theta)$"
   ]
  },
  {
   "cell_type": "markdown",
   "metadata": {},
   "source": [
    "(증명)\n",
    "\n",
    "$$\\text{Var}[X] = \\sum (x_i - \\mu)^2 P(x_i) = (1 - \\theta)^2 \\cdot \\theta + (0 - \\theta)^2 \\cdot (1 - \\theta) = \\theta(1-\\theta)$$"
   ]
  },
  {
   "cell_type": "code",
   "execution_count": 8,
   "metadata": {},
   "outputs": [
    {
     "data": {
      "text/plain": [
       "0.23797979797979804"
      ]
     },
     "execution_count": 8,
     "metadata": {},
     "output_type": "execute_result"
    }
   ],
   "source": [
    "# 베르누이 분산 구하기\n",
    "np.var(x, ddof = 1)"
   ]
  },
  {
   "cell_type": "code",
   "execution_count": 9,
   "metadata": {},
   "outputs": [
    {
     "data": {
      "text/plain": [
       "(0.62, 0.23797979797979804)"
      ]
     },
     "execution_count": 9,
     "metadata": {},
     "output_type": "execute_result"
    }
   ],
   "source": [
    "# 베르누이 기대값, 분산 둘다 구하기\n",
    "s = sp.stats.describe(x)\n",
    "s[2], s[3]"
   ]
  },
  {
   "cell_type": "markdown",
   "metadata": {},
   "source": [
    "6) 모수 추정"
   ]
  },
  {
   "cell_type": "markdown",
   "metadata": {},
   "source": [
    "$$ \\hat{\\theta} = \\dfrac{\\sum_{i=1}^N x_i}{N}= \\dfrac{N_1}{N} \\;\\;\\dfrac{(1이 나온 횟수)}{(전체 데이터 수)}$$ "
   ]
  },
  {
   "cell_type": "markdown",
   "metadata": {},
   "source": [
    "### 2. 베르누이 분포의 활용"
   ]
  },
  {
   "cell_type": "markdown",
   "metadata": {},
   "source": [
    "1) 언제 활용할 수 있을까?"
   ]
  },
  {
   "cell_type": "markdown",
   "metadata": {},
   "source": [
    "[1] 분류 예측 문제 출력 데이터가 두 개의 값으로 구분되는 카테고리 값인 경우\n",
    "\n",
    "$\\rightarrow$ 두 값 중 어느 값이 가능성이 높은지 알아볼 때"
   ]
  },
  {
   "cell_type": "markdown",
   "metadata": {},
   "source": [
    "[2] 입력 데이터가 0 또는 1 혹은 참 또는 거짓, 두 개의 값으로 구분되는 카테고리 값인 경우\n",
    "\n",
    "$\\rightarrow$ 두 종류의 값이 나타나는 비율을 표현할 때"
   ]
  },
  {
   "cell_type": "markdown",
   "metadata": {},
   "source": [
    "2) 활용 예 (스팸 메일, 정상 메일 구분)"
   ]
  },
  {
   "cell_type": "markdown",
   "metadata": {},
   "source": [
    "[1] 조건\n",
    "\n",
    "- $ P(Y) = \\text{Bern}(y; \\theta = 0.6) $\n",
    "- 확률 변수 $Y$는 메일이 스팸 메일인지 아닌지를 나타내며 $Y=1$이면 스팸 메일"
   ]
  },
  {
   "cell_type": "markdown",
   "metadata": {},
   "source": [
    "[2] BOW (Bag of Words)"
   ]
  },
  {
   "cell_type": "markdown",
   "metadata": {},
   "source": [
    "$$ \\begin{bmatrix} 1 \\\\ 0 \\\\ 1 \\\\ 0 \\end{bmatrix} $$\n",
    "\n",
    "$\\rightarrow$ (스팸 메일일 때, 첫번째 세번째 단어는 있고, 두번째 네번째 단어는 없음)"
   ]
  },
  {
   "cell_type": "markdown",
   "metadata": {},
   "source": [
    "$$ \n",
    "\\begin{bmatrix} \n",
    "1 & 0 & 1 & 0 \\\\\n",
    "1 & 1 & 1 & 0 \\\\\n",
    "1 & 1 & 0 & 1 \\\\\n",
    "0 & 0 & 1 & 1 \\\\\n",
    "1 & 1 & 0 & 0 \\\\\n",
    "1 & 1 & 0 & 1 \\\\\n",
    "\\end{bmatrix} \n",
    "$$"
   ]
  },
  {
   "cell_type": "markdown",
   "metadata": {},
   "source": [
    "$$ X_1 \\sim \\text{Bern}(x_1; \\theta_1) : \\text{스팸 메일이 첫번째 키워드를 포함하고 있을 확률}  = \\dfrac{5}{6} $$\n",
    "\n",
    "$$ X_2 \\sim \\text{Bern}(x_2; \\theta_2) : \\text{스팸 메일이 두번째 키워드를 포함하고 있을 확률} = \\dfrac{4}{6}$$\n",
    "\n",
    "$$ X_3 \\sim \\text{Bern}(x_3; \\theta_3) : \\text{스팸 메일이 세번째 키워드를 포함하고 있을 확률} = \\dfrac{3}{6} $$\n",
    "\n",
    "$$ X_4 \\sim \\text{Bern}(x_4; \\theta_4) : \\text{스팸 메일이 네번째 키워드를 포함하고 있을 확률} = \\dfrac{3}{6} $$"
   ]
  },
  {
   "cell_type": "markdown",
   "metadata": {},
   "source": [
    "### 연습 문제"
   ]
  },
  {
   "cell_type": "markdown",
   "metadata": {},
   "source": [
    "#### ``연습 문제 1``\n",
    "\n",
    "$$\n",
    "\\text{Bern}(x;\\theta) = \\theta^x(1-\\theta)^{(1-x)}\n",
    "$$\n",
    "\n",
    "위 식에서 $x=1$과 $x=0$을 각각 대입하여 원래의 확률 질량 함수 식이 나오는 것을 확인한다."
   ]
  },
  {
   "cell_type": "code",
   "execution_count": null,
   "metadata": {},
   "outputs": [],
   "source": []
  },
  {
   "cell_type": "markdown",
   "metadata": {},
   "source": [
    "#### ``연습 문제 2``\n",
    "\n",
    "베르누이 확률 분포의 모수가 다음과 같을 경우에 각각 샘플을 생성한 후 기댓값과 분산을 구하고 앞의 예제와 같이 확률 밀도 함수와 비교한 카운트 플롯을 그린다.\n",
    "샘플의 갯수가 10개인 경우와 1000개인 경우에 대해 각각 위의 계산을 한다.\n",
    "\n",
    "1. $\\theta = 0.5$\n",
    "2. $\\theta = 0.9$"
   ]
  },
  {
   "cell_type": "code",
   "execution_count": 10,
   "metadata": {},
   "outputs": [
    {
     "data": {
      "image/png": "[encoded data removed]",
      "text/plain": [
       "<matplotlib.figure.Figure at 0x10ea5add8>"
      ]
     },
     "metadata": {
      "image/png": {
       "height": 263,
       "width": 377
      }
     },
     "output_type": "display_data"
    }
   ],
   "source": [
    "# theta = 0.5, n = 10\n",
    "theta = 0.5 # 성공 확률 정의\n",
    "rv = sp.stats.bernoulli(theta) # 확률 변수 정하기\n",
    "xx = [0, 1]\n",
    "x = rv.rvs(10, random_state=0) # rv에 따른 난수 100개 생성\n",
    "sns.countplot(x)\n",
    "\n",
    "y = np.bincount(x, minlength=2) / float(len(x))\n",
    "df = pd.DataFrame({\"theory\": rv.pmf(xx), \"simulation\": y})\n",
    "df.index = [0, 1]\n",
    "df2 = df.stack().reset_index()\n",
    "df2.columns = [\"sampledata\", \"type\", \"ratio\"]\n",
    "\n",
    "sns.barplot(x=\"sampledata\", y=\"ratio\", hue=\"type\", data=df2)\n",
    "plt.show()"
   ]
  },
  {
   "cell_type": "code",
   "execution_count": 11,
   "metadata": {},
   "outputs": [
    {
     "data": {
      "image/png": "[encoded data removed]",
      "text/plain": [
       "<matplotlib.figure.Figure at 0x111c68860>"
      ]
     },
     "metadata": {
      "image/png": {
       "height": 263,
       "width": 390
      }
     },
     "output_type": "display_data"
    }
   ],
   "source": [
    "# theta = 0.5, n = 1000\n",
    "theta = 0.5 # 성공 확률 정의\n",
    "rv = sp.stats.bernoulli(theta) # 확률 변수 정하기\n",
    "xx = [0, 1]\n",
    "x = rv.rvs(1000, random_state=0) # rv에 따른 난수 100개 생성\n",
    "sns.countplot(x)\n",
    "\n",
    "y = np.bincount(x, minlength=2) / float(len(x))\n",
    "df = pd.DataFrame({\"theory\": rv.pmf(xx), \"simulation\": y})\n",
    "df.index = [0, 1]\n",
    "df2 = df.stack().reset_index()\n",
    "df2.columns = [\"sampledata\", \"type\", \"ratio\"]\n",
    "\n",
    "sns.barplot(x=\"sampledata\", y=\"ratio\", hue=\"type\", data=df2)\n",
    "plt.show()"
   ]
  },
  {
   "cell_type": "code",
   "execution_count": 12,
   "metadata": {},
   "outputs": [
    {
     "data": {
      "image/png": "[encoded data removed]",
      "text/plain": [
       "<matplotlib.figure.Figure at 0x111e67470>"
      ]
     },
     "metadata": {
      "image/png": {
       "height": 263,
       "width": 377
      }
     },
     "output_type": "display_data"
    }
   ],
   "source": [
    "# theta = 0.9, n = 10\n",
    "theta = 0.9 # 성공 확률 정의\n",
    "rv = sp.stats.bernoulli(theta) # 확률 변수 정하기\n",
    "xx = [0, 1]\n",
    "x = rv.rvs(10, random_state=0) # rv에 따른 난수 100개 생성\n",
    "sns.countplot(x)\n",
    "\n",
    "y = np.bincount(x, minlength=2) / float(len(x))\n",
    "df = pd.DataFrame({\"theory\": rv.pmf(xx), \"simulation\": y})\n",
    "df.index = [0, 1]\n",
    "df2 = df.stack().reset_index()\n",
    "df2.columns = [\"sampledata\", \"type\", \"ratio\"]\n",
    "\n",
    "sns.barplot(x=\"sampledata\", y=\"ratio\", hue=\"type\", data=df2)\n",
    "plt.show()"
   ]
  },
  {
   "cell_type": "code",
   "execution_count": 13,
   "metadata": {},
   "outputs": [
    {
     "data": {
      "image/png": "[encoded data removed]",
      "text/plain": [
       "<matplotlib.figure.Figure at 0x11204ad68>"
      ]
     },
     "metadata": {
      "image/png": {
       "height": 263,
       "width": 390
      }
     },
     "output_type": "display_data"
    }
   ],
   "source": [
    "# theta = 0.9, n = 1000\n",
    "theta = 0.9 # 성공 확률 정의\n",
    "rv = sp.stats.bernoulli(theta) # 확률 변수 정하기\n",
    "xx = [0, 1]\n",
    "x = rv.rvs(1000, random_state=0) # rv에 따른 난수 100개 생성\n",
    "sns.countplot(x)\n",
    "\n",
    "y = np.bincount(x, minlength=2) / float(len(x))\n",
    "df = pd.DataFrame({\"theory\": rv.pmf(xx), \"simulation\": y})\n",
    "df.index = [0, 1]\n",
    "df2 = df.stack().reset_index()\n",
    "df2.columns = [\"sampledata\", \"type\", \"ratio\"]\n",
    "\n",
    "sns.barplot(x=\"sampledata\", y=\"ratio\", hue=\"type\", data=df2)\n",
    "plt.show()"
   ]
  },
  {
   "cell_type": "markdown",
   "metadata": {},
   "source": [
    "#### ``연습 문제 3``\n",
    "\n",
    "스팸 메일이 아닌 정상 메일의 데이터가 다음과 같다면 정상 메일의 특성은 어떻게 나타낼 수 있는가?\n",
    "\n",
    "$$ \n",
    "\\begin{bmatrix} \n",
    "0 & 0 & 1 & 1 \\\\\n",
    "0 & 1 & 1 & 1 \\\\\n",
    "0 & 0 & 1 & 1 \\\\\n",
    "1 & 0 & 0 & 1 \\\\\n",
    "\\end{bmatrix} \n",
    "$$"
   ]
  },
  {
   "cell_type": "code",
   "execution_count": null,
   "metadata": {},
   "outputs": [],
   "source": []
  }
 ],
 "metadata": {
  "kernelspec": {
   "display_name": "Python 3",
   "language": "python",
   "name": "python3"
  },
  "language_info": {
   "codemirror_mode": {
    "name": "ipython",
    "version": 3
   },
   "file_extension": ".py",
   "mimetype": "text/x-python",
   "name": "python",
   "nbconvert_exporter": "python",
   "pygments_lexer": "ipython3",
   "version": "3.6.4"
  }
 },
 "nbformat": 4,
 "nbformat_minor": 2
}
