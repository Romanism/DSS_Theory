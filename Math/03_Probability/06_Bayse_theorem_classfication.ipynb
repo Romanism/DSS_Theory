{
 "cells": [
  {
   "cell_type": "markdown",
   "metadata": {},
   "source": [
    "### 1. 베이즈 정리와 분류 문제"
   ]
  },
  {
   "cell_type": "markdown",
   "metadata": {},
   "source": [
    "1) 베이즈 정리 - 머신러닝 중 분류 문제를 해결하는데 사용"
   ]
  },
  {
   "cell_type": "markdown",
   "metadata": {},
   "source": [
    "2) 분류(Classfication) - 입력자료 $X$의 값부터 출력자료 $Y$를 예측(prediction)하는 문제"
   ]
  },
  {
   "cell_type": "markdown",
   "metadata": {},
   "source": [
    "[1] 경계선을 구해서 분류"
   ]
  },
  {
   "cell_type": "markdown",
   "metadata": {},
   "source": [
    "[2] 조건부 확률 : $\\hat{f}(X) = \\arg\\max_{Y} P(Y | X)$ (확률적 방법, 모델)"
   ]
  },
  {
   "cell_type": "markdown",
   "metadata": {},
   "source": [
    "### 2. 과일 선택 문제"
   ]
  },
  {
   "cell_type": "markdown",
   "metadata": {},
   "source": [
    "1) 상황 설명"
   ]
  },
  {
   "cell_type": "markdown",
   "metadata": {},
   "source": [
    " [1] 과일가게에서 사과와 오렌지는 Red 농장과 Blue 농장에서 공급받음"
   ]
  },
  {
   "cell_type": "markdown",
   "metadata": {},
   "source": [
    "[2] Red 농장에서 붉은 상자에 사과 2개, 오렌지 6개를, Blue 농장에서는 푸른 상자에 사과가 3, 오렌지가 1개를 담아서 공급받음"
   ]
  },
  {
   "cell_type": "markdown",
   "metadata": {},
   "source": [
    "[3] 어떤 손님이 와서 오렌지를 하나 선택했을때, 오렌지가 Red 농장 것일까 Blue 농장 것일까?"
   ]
  },
  {
   "cell_type": "markdown",
   "metadata": {},
   "source": [
    "[4] 하나의 답을 정해야 한다면 어느 농장을 선택할 것인가?"
   ]
  },
  {
   "cell_type": "markdown",
   "metadata": {},
   "source": [
    "2) 변수 설정"
   ]
  },
  {
   "cell_type": "markdown",
   "metadata": {},
   "source": [
    "- 선택한 과일이 사과인 사건 $X=A$\n",
    "- 선택한 과일이 오렌지인 사건 $X=O$\n",
    "- 선택한 과일이 Red 농장에서 왔을 사건 $Y=R$\n",
    "- 선택한 과일이 Blue 농장에서 왔을 사건 $Y=B$"
   ]
  },
  {
   "cell_type": "markdown",
   "metadata": {},
   "source": [
    "3) 문제 풀이"
   ]
  },
  {
   "cell_type": "markdown",
   "metadata": {},
   "source": [
    "[1] $ P(Y=R) = \\dfrac{8}{8 + 4}  = \\dfrac{8}{12} $"
   ]
  },
  {
   "cell_type": "markdown",
   "metadata": {},
   "source": [
    "[2] $ P(Y=B) = \\dfrac{4}{8 + 4}  = \\dfrac{4}{12} $"
   ]
  },
  {
   "cell_type": "markdown",
   "metadata": {},
   "source": [
    "[3] $ P(X=O | Y=R) = \\dfrac{6}{2 + 6}  = \\dfrac{6}{8} $"
   ]
  },
  {
   "cell_type": "markdown",
   "metadata": {},
   "source": [
    "[4] $ P(X=O | Y=B) = \\dfrac{1}{1 + 3}  = \\dfrac{1}{4} $"
   ]
  },
  {
   "cell_type": "markdown",
   "metadata": {},
   "source": [
    "[5] 문제 풀이"
   ]
  },
  {
   "cell_type": "markdown",
   "metadata": {},
   "source": [
    "$$ \n",
    "\\begin{eqnarray}\n",
    "P(Y=R|X=O) \n",
    "&=& \\dfrac{P(X=O|Y=R)P(Y=R)}{P(X=O)} \\\\\\\\\n",
    "&=& \\dfrac{P(X=O|Y=R)P(Y=R)}{P(X=O|Y=R)P(Y=R) + P(X=O|Y=B)P(Y=B)} \\\\\\\\\n",
    "&=& \\dfrac{6/8 \\cdot 8/12}{6/8 \\cdot 8/12 + 1/4 \\cdot 4/12 } \\\\\\\\\n",
    "&=& \\dfrac{1/2}{1/2 + 1/12} = 6/7\\\\\\\\\n",
    "\\end{eqnarray}\n",
    "$$"
   ]
  },
  {
   "cell_type": "markdown",
   "metadata": {},
   "source": [
    "4) 생성론적 방법(generative method)"
   ]
  },
  {
   "cell_type": "markdown",
   "metadata": {},
   "source": [
    "[1] 베이즈 정리와 likelihood를 이용하여 각각의 $Y$ 값에 대한 확률 값을 모두 구한 후"
   ]
  },
  {
   "cell_type": "markdown",
   "metadata": {},
   "source": [
    "[2] 가장 확률 값이 높은 $Y$값을 선택하여 분류 문제를 푸는 방법 (위의 문제 풀이 방법)"
   ]
  },
  {
   "cell_type": "code",
   "execution_count": 7,
   "metadata": {},
   "outputs": [],
   "source": [
    "# 베이즈 정리 문제 풀이\n",
    "from pgmpy.factors.discrete import TabularCPD"
   ]
  },
  {
   "cell_type": "code",
   "execution_count": 8,
   "metadata": {},
   "outputs": [
    {
     "name": "stdout",
     "output_type": "stream",
     "text": [
      "╒═════╤══════════╕\n",
      "│ Y_0 │ 0.666667 │\n",
      "├─────┼──────────┤\n",
      "│ Y_1 │ 0.333333 │\n",
      "╘═════╧══════════╛\n"
     ]
    }
   ],
   "source": [
    "cpd_Y = TabularCPD('Y', 2, [[8/12, 4/12]])\n",
    "print(cpd_Y) #Y _0 : Red, Y_1 : Blue"
   ]
  },
  {
   "cell_type": "code",
   "execution_count": 9,
   "metadata": {},
   "outputs": [
    {
     "name": "stdout",
     "output_type": "stream",
     "text": [
      "╒═════╤══════╤══════╕\n",
      "│ Y   │ Y_0  │ Y_1  │\n",
      "├─────┼──────┼──────┤\n",
      "│ X_0 │ 0.75 │ 0.25 │\n",
      "├─────┼──────┼──────┤\n",
      "│ X_1 │ 0.25 │ 0.75 │\n",
      "╘═════╧══════╧══════╛\n"
     ]
    }
   ],
   "source": [
    "cpd_XY = TabularCPD('X', 2, np.array([[6/8, 1/4], [2/8, 3/4]]),\n",
    "                    evidence=['Y'], evidence_card=[2])\n",
    "print(cpd_XY)"
   ]
  },
  {
   "cell_type": "code",
   "execution_count": 10,
   "metadata": {},
   "outputs": [
    {
     "data": {
      "text/plain": [
       "True"
      ]
     },
     "execution_count": 10,
     "metadata": {},
     "output_type": "execute_result"
    }
   ],
   "source": [
    "from pgmpy.models import BayesianModel\n",
    "\n",
    "model = BayesianModel([('Y', 'X')])\n",
    "model.add_cpds(cpd_Y, cpd_XY)\n",
    "model.check_model()"
   ]
  },
  {
   "cell_type": "code",
   "execution_count": 5,
   "metadata": {
    "scrolled": true
   },
   "outputs": [
    {
     "name": "stdout",
     "output_type": "stream",
     "text": [
      "╒═════╤══════════╕\n",
      "│ Y   │   phi(Y) │\n",
      "╞═════╪══════════╡\n",
      "│ Y_0 │   0.8571 │\n",
      "├─────┼──────────┤\n",
      "│ Y_1 │   0.1429 │\n",
      "╘═════╧══════════╛\n"
     ]
    }
   ],
   "source": [
    "from pgmpy.inference import VariableElimination\n",
    "\n",
    "infer = VariableElimination(model)\n",
    "posterior = infer.query(['Y'], evidence={'X': 0})\n",
    "print(posterior['Y'])"
   ]
  },
  {
   "cell_type": "markdown",
   "metadata": {},
   "source": [
    "### 3. 아들과 딸 파라독스"
   ]
  },
  {
   "cell_type": "markdown",
   "metadata": {},
   "source": [
    "1) 두 아이가 있는 어떤 집에서 첫째 아이가 남자이다. 두 아이가 모두 남자일 확률은?"
   ]
  },
  {
   "cell_type": "markdown",
   "metadata": {},
   "source": [
    "<table class=\"table-bordered\">\n",
    "<tbody><tr>\n",
    "<tr>\n",
    "<td></td>\n",
    "<td>둘째=Boy</td>\n",
    "<td>둘째=Girl</td>\n",
    "</tr>\n",
    "<tr>\n",
    "<td>첫째=Boy</td>\n",
    "<td>BB</td>\n",
    "<td>BG</td>\n",
    "</tr>\n",
    "<tr>\n",
    "<td><s>첫째=Girl</s></td>\n",
    "<td><s>GB</s></td>\n",
    "<td><s>GG</s></td>\n",
    "</tr>\n",
    "</tbody></table>"
   ]
  },
  {
   "cell_type": "markdown",
   "metadata": {},
   "source": [
    "첫번째 문제의 답은 BB, BG 두가지 중 BB, $\\dfrac{1}{2}$"
   ]
  },
  {
   "cell_type": "markdown",
   "metadata": {},
   "source": [
    "2) 두 아이가 있는 어떤 집에서 두 아이 중 한 명이 남자일때, 두 아이가 모두 남자일 확률은?"
   ]
  },
  {
   "cell_type": "markdown",
   "metadata": {},
   "source": [
    "[1] \"두 아이 중 적어도 한 명이 남자인가요\"라는 질문에 부모가 \"네\"라고 대답한 경우"
   ]
  },
  {
   "cell_type": "markdown",
   "metadata": {},
   "source": [
    "<table class=\"table-bordered\">\n",
    "<tbody><tr>\n",
    "<tr>\n",
    "<td></td>\n",
    "<td>둘째=Boy</td>\n",
    "<td>둘째=Girl</td>\n",
    "</tr>\n",
    "<tr>\n",
    "<td>첫째=Boy</td>\n",
    "<td>BB</td>\n",
    "<td>BG</td>\n",
    "</tr>\n",
    "<tr>\n",
    "<td>첫째=Girl</td>\n",
    "<td>GB</td>\n",
    "<td><s>GG</s></td>\n",
    "</tr>\n",
    "</tbody></table>"
   ]
  },
  {
   "cell_type": "markdown",
   "metadata": {},
   "source": [
    "$$ \n",
    "\\begin{eqnarray}\n",
    "P(BB|Y) \n",
    "&=& \\dfrac{P(Y|BB)P(BB)}{P(Y)} \\\\\\\\\n",
    "&=& \\dfrac{P(Y|BB)P(BB)}{P(Y|BB)P(BB) + P(Y|BG)P(BG) + P(Y|GB)P(GB) + P(Y|GG)P(GG)} \\\\\\\\\n",
    "&=& \\dfrac{1\\cdot 0.25}{1\\cdot 0.25 + 1\\cdot 0.25 + 1\\cdot 0.25 + 0\\cdot 0.25} \\\\\\\\\n",
    "&=& \\dfrac{0.25}{0.75} = \\dfrac{1}{3}\n",
    "\\end{eqnarray}\n",
    "$$"
   ]
  },
  {
   "cell_type": "markdown",
   "metadata": {},
   "source": [
    "[2] 그 집에서 나오는 아이를 우연히 보았는데 그 아이가 남자인 경우 또는 그 집에 전화를 걸었는데 남자 어린 아이가 전화를 받은 경우"
   ]
  },
  {
   "cell_type": "markdown",
   "metadata": {},
   "source": [
    "<table class=\"table-bordered\">\n",
    "<tbody><tr>\n",
    "<tr>\n",
    "<td></td>\n",
    "<td>둘째=Boy</td>\n",
    "<td>둘째=Girl</td>\n",
    "</tr>\n",
    "<tr>\n",
    "<td>첫째=Boy</td>\n",
    "<td>BB</td>\n",
    "<td>BG (남자 목격 확률 1/2) </td>\n",
    "</tr>\n",
    "<tr>\n",
    "<td>첫째=Girl</td>\n",
    "<td>GB (남자 목격 확률 1/2) </td>\n",
    "<td><s>GG</s></td>\n",
    "</tr>\n",
    "</tbody></table>"
   ]
  },
  {
   "cell_type": "markdown",
   "metadata": {},
   "source": [
    "$$ \n",
    "\\begin{eqnarray}\n",
    "P(BB|Y) \n",
    "&=& \\dfrac{P(Y|BB)P(BB)}{P(Y)} \\\\\\\\\n",
    "&=& \\dfrac{P(Y|BB)P(BB)}{P(Y|BB)P(BB) + P(Y|BG)P(BG) + P(Y|GB)P(GB) + P(Y|GG)P(GG)} \\\\\\\\\n",
    "&=& \\dfrac{1\\cdot 0.25}{1\\cdot 0.25 + 0.5\\cdot 0.25 + 0.5\\cdot 0.25 + 0\\cdot 0.25} \\\\\\\\\n",
    "&=& \\dfrac{0.25}{0.50} = \\dfrac{1}{2}\n",
    "\\end{eqnarray}\n",
    "$$"
   ]
  }
 ],
 "metadata": {
  "kernelspec": {
   "display_name": "Python 3",
   "language": "python",
   "name": "python3"
  },
  "language_info": {
   "codemirror_mode": {
    "name": "ipython",
    "version": 3
   },
   "file_extension": ".py",
   "mimetype": "text/x-python",
   "name": "python",
   "nbconvert_exporter": "python",
   "pygments_lexer": "ipython3",
   "version": "3.6.4"
  }
 },
 "nbformat": 4,
 "nbformat_minor": 2
}
