{
 "cells": [
  {
   "cell_type": "markdown",
   "metadata": {},
   "source": [
    "### 1. 확률의 수학적 정의"
   ]
  },
  {
   "cell_type": "markdown",
   "metadata": {},
   "source": [
    "확률을 정확히 정의하기 위해선 표본공간, 확률표본, 사건을 알아야 함"
   ]
  },
  {
   "cell_type": "markdown",
   "metadata": {},
   "source": [
    "1) 표본공간 (Sample space) : 답이 될 수 있는 혹은 선택될 수 있는 모든 표본의 집합 ($\\Omega$)"
   ]
  },
  {
   "cell_type": "markdown",
   "metadata": {},
   "source": [
    "2) 확률표본 (Sample) : 풀고자하는 확률적 문제에서 선택될 수 있는 하나의 경우"
   ]
  },
  {
   "cell_type": "markdown",
   "metadata": {},
   "source": [
    "3) 사건 (event) : 표본공간의 부분집합"
   ]
  },
  {
   "cell_type": "markdown",
   "metadata": {},
   "source": [
    "ex) 동전을 한번 던지는 문제\n",
    "\n",
    "[1] 표본공간$(\\Omega) = \\{ H, T \\} $\n",
    "\n",
    "[2] 확률표본 : 앞면(Head), 뒷면(Tail)\n",
    "\n",
    "[3] 사건 : $ A = \\{\\} = \\emptyset, \\;\\;B = \\{H\\}, \\;\\;C = \\{T\\}, \\;\\;D = \\{H, T\\} = \\Omega $"
   ]
  },
  {
   "cell_type": "code",
   "execution_count": 1,
   "metadata": {},
   "outputs": [
    {
     "data": {
      "text/plain": [
       "{frozenset(), frozenset({'H'}), frozenset({'T'}), frozenset({'H', 'T'})}"
      ]
     },
     "execution_count": 1,
     "metadata": {},
     "output_type": "execute_result"
    }
   ],
   "source": [
    "# 부분집합 구하기 (frozenset)\n",
    "A = frozenset([])\n",
    "B = frozenset(['H'])\n",
    "C = frozenset(['T'])\n",
    "D = frozenset(['H', 'T'])\n",
    "set([A, B, C, D])"
   ]
  },
  {
   "cell_type": "markdown",
   "metadata": {},
   "source": [
    "### 2. 확률 (Probability)"
   ]
  },
  {
   "cell_type": "markdown",
   "metadata": {},
   "source": [
    "1) 정의"
   ]
  },
  {
   "cell_type": "markdown",
   "metadata": {},
   "source": [
    "- 사건 (부분 집합) 을 입력하면 숫자 (확률값)가 출력되는 함수\n",
    "- 각각의 사건 (부분 집합)에 어떤 숫자를 할당 (allocate)한 것"
   ]
  },
  {
   "cell_type": "markdown",
   "metadata": {},
   "source": [
    "$$ \\text{사건(부분집합)} \\rightarrow \\text{숫자} $$"
   ]
  },
  {
   "cell_type": "markdown",
   "metadata": {},
   "source": [
    "2) 콜모고르프의 공리 (Kolmogorov's axioms)"
   ]
  },
  {
   "cell_type": "markdown",
   "metadata": {},
   "source": [
    "[1] 모든 사건에 대해 확률은 실수이고 양수"
   ]
  },
  {
   "cell_type": "markdown",
   "metadata": {},
   "source": [
    "$$P(A)\\in\\mathbb{R}, P(A)\\geq 0 $$"
   ]
  },
  {
   "cell_type": "markdown",
   "metadata": {},
   "source": [
    "[2] 표본 공간이라는 사건에 대한 확률은 1"
   ]
  },
  {
   "cell_type": "markdown",
   "metadata": {},
   "source": [
    "$$P(\\Omega) = 1$$"
   ]
  },
  {
   "cell_type": "markdown",
   "metadata": {},
   "source": [
    "[3] 공통 원소가 없는 두 사건의 합집합은 확률의 각각의 사건의 확률의 합"
   ]
  },
  {
   "cell_type": "markdown",
   "metadata": {},
   "source": [
    "$$ A \\cap B = \\emptyset \\;\\;\\; \\rightarrow \\;\\;\\; P(A \\cup B) = P(A) + P(B) $$"
   ]
  },
  {
   "cell_type": "code",
   "execution_count": 3,
   "metadata": {},
   "outputs": [
    {
     "data": {
      "text/plain": [
       "{frozenset(): 0,\n",
       " frozenset({'H'}): 0.4,\n",
       " frozenset({'T'}): 0.6,\n",
       " frozenset({'H', 'T'}): 1}"
      ]
     },
     "execution_count": 3,
     "metadata": {},
     "output_type": "execute_result"
    }
   ],
   "source": [
    "# 확률 표현하기 - 딕셔너리 (key = 사건, value - 숫자)\n",
    "P = {A: 0, B: 0.4, C: 0.6, D: 1}\n",
    "P"
   ]
  },
  {
   "cell_type": "markdown",
   "metadata": {},
   "source": [
    "3) 확률은 표본이 아닌 사건(부분집합)을 입력으로 가지는 함수"
   ]
  },
  {
   "cell_type": "markdown",
   "metadata": {},
   "source": [
    "$$ P(1) = \\dfrac{1}{6} \\; \\rightarrow \\; (X)$$ "
   ]
  },
  {
   "cell_type": "markdown",
   "metadata": {},
   "source": [
    "$$ P(\\{1\\}) = \\dfrac{1}{6} \\; \\rightarrow \\; (O)$$ "
   ]
  },
  {
   "cell_type": "markdown",
   "metadata": {},
   "source": [
    "4) 진짜 주사위 한면의 확률은 각각 $\\dfrac{1}{6}$일까?"
   ]
  },
  {
   "cell_type": "markdown",
   "metadata": {},
   "source": [
    "이렇게 생각하는 이유는 주사위가 공정(fair)한 주사위이거나 공정하지 않다는 증거가 없기 때문"
   ]
  },
  {
   "cell_type": "markdown",
   "metadata": {},
   "source": [
    "$$ P(A) = \\dfrac{\\text{card}(A)}{\\text{card}(\\Omega)} $$"
   ]
  },
  {
   "cell_type": "markdown",
   "metadata": {},
   "source": [
    "5) 표본의 수가 무한한 경우"
   ]
  },
  {
   "cell_type": "markdown",
   "metadata": {},
   "source": [
    "[1] 시계 바늘 문제에서 분침이 정각 12시를 가르킬 확률 즉, 각도가 정확하게 0도가 될 확률은 얼마일까?"
   ]
  },
  {
   "cell_type": "markdown",
   "metadata": {},
   "source": [
    "[2] 각도가 나올 수 있는 경우는 무한대의 경우가 있으므로 만약  $x$가 0이 아니라면  $x×∞=∞$로 전체 표본 집합의 확률이 무한대"
   ]
  },
  {
   "cell_type": "markdown",
   "metadata": {},
   "source": []
  },
  {
   "cell_type": "markdown",
   "metadata": {},
   "source": []
  },
  {
   "cell_type": "markdown",
   "metadata": {},
   "source": []
  },
  {
   "cell_type": "markdown",
   "metadata": {},
   "source": []
  },
  {
   "cell_type": "markdown",
   "metadata": {},
   "source": []
  },
  {
   "cell_type": "markdown",
   "metadata": {},
   "source": []
  },
  {
   "cell_type": "markdown",
   "metadata": {},
   "source": []
  },
  {
   "cell_type": "markdown",
   "metadata": {},
   "source": []
  },
  {
   "cell_type": "markdown",
   "metadata": {},
   "source": []
  },
  {
   "cell_type": "markdown",
   "metadata": {},
   "source": []
  },
  {
   "cell_type": "markdown",
   "metadata": {},
   "source": [
    "#### ``연습 문제 1``\n",
    "\n",
    "1. 주사위를 던져 나오는 숫자를 구하는 문제를 확률론적으로 접근할 때 표본 공간 $\\Omega_3$을 구하라.\n",
    "2. 약속 날짜를 정하기로 했다. 결정된 날짜가 31일인가 아닌지 구하는 문제를 확률론적으로 접근할 때 표본 공간 $\\Omega_4$을 구하라."
   ]
  },
  {
   "cell_type": "code",
   "execution_count": null,
   "metadata": {},
   "outputs": [],
   "source": []
  },
  {
   "cell_type": "markdown",
   "metadata": {},
   "source": [
    "#### ``연습 문제 2``\n",
    "\n",
    "1. 잠을 자다 깨어나 시계를 보았을 때 분침이 가리키는 각도를 표본이라고 하면 표본 공간 $\\Omega_7$는? 이 표본 공간의 표본의 갯수는?\n",
    "1. 측정한 체온을 표본이라고 하면 표본 공간 $\\Omega_8$는? 이 표본 공간의 표본의 갯수는?"
   ]
  },
  {
   "cell_type": "code",
   "execution_count": null,
   "metadata": {},
   "outputs": [],
   "source": []
  },
  {
   "cell_type": "markdown",
   "metadata": {},
   "source": [
    "#### ``연습 문제 3``\n",
    "\n",
    "확률론으로 접근할 수 있는 문제와 그 표본 공간의 예를 4가지 더 만들어본다. 4가지 문제 중 2가지는 표본 공간의 크기가 무한대이어야 한다."
   ]
  },
  {
   "cell_type": "code",
   "execution_count": null,
   "metadata": {},
   "outputs": [],
   "source": []
  },
  {
   "cell_type": "markdown",
   "metadata": {},
   "source": [
    "#### ``연습 문제 4``\n",
    "\n",
    "1. 플레잉카드 한장을 뽑아서 무늬를 결정하는 문제의 표본 공간 $\\Omega_3$의 모든 부분집합을 구하고 이를 위와 같이 `frozenset`의 `set`으로 만든다.\n",
    "2. 주사위를 하나 던져서 숫자를 결정하는 문제의 표본 공간 $\\Omega_3$의 모든 부분집합을 구하고 이를 위와 같이 `frozenset`의 `set`으로 만든다."
   ]
  },
  {
   "cell_type": "code",
   "execution_count": null,
   "metadata": {},
   "outputs": [],
   "source": []
  },
  {
   "cell_type": "markdown",
   "metadata": {},
   "source": [
    "#### ``연습 문제 5``\n",
    "\n",
    "1. 플레잉카드 한장을 뽑아서 무늬를 결정하는 문제에 대해 위와 같이 파이썬으로 확률을 할당하여 본다.\n",
    "2. 주사위를 하나 던져서 숫자를 결정하는 문제에 대해 위와 같이 파이썬으로 확률을 할당하여 본다."
   ]
  },
  {
   "cell_type": "code",
   "execution_count": null,
   "metadata": {},
   "outputs": [],
   "source": []
  },
  {
   "cell_type": "markdown",
   "metadata": {},
   "source": [
    "#### ``연습 문제 6``\n",
    "\n",
    "위의 두 조건\n",
    "$$  P(\\{1\\}) = 0.5 $$\n",
    "$$  P(\\{6\\}) = 0 $$\n",
    "을 만족하도록 주사위의 확률을 모든 부분집합에 대해 할당해 본다. 파이썬으로 구현한다."
   ]
  },
  {
   "cell_type": "code",
   "execution_count": null,
   "metadata": {},
   "outputs": [],
   "source": []
  },
  {
   "cell_type": "markdown",
   "metadata": {},
   "source": [
    "#### ``연습 문제 7``\n",
    "\n",
    "1. 약속 날짜가 31일인가 아닌가를 결정하는 문제에서 확률을 할당해 보자. \n",
    "2. 과일가게에서에 손님이 선택한 과일(사과 혹은 오렌지)이 어떤 과일인지 결정하는 문제에 대해 확률을 할당해 보자. \n",
    "3. 과일가게에서에 과일이 100개가 진열되어 있고 이 중 70개가 사과, 30개가 오렌지이다. 손님이 선택한 과일을 결정하는 문제에 대해 확률을 할당해 보자. "
   ]
  },
  {
   "cell_type": "code",
   "execution_count": null,
   "metadata": {},
   "outputs": [],
   "source": []
  },
  {
   "cell_type": "markdown",
   "metadata": {},
   "source": [
    "#### ``연습 문제 8``\n",
    "\n",
    "위 시계바늘 문제에서 각자 여러가지 방법으로 확률을 할당해 보자. 그리고 이 결과를 다른 사람에게 요약하여 전달해 보자. 어떤 방법을 사용해야 효과적으로 그리고 정확하게 확률 할당 결과를 전달할 수 있겠는가?"
   ]
  },
  {
   "cell_type": "code",
   "execution_count": null,
   "metadata": {},
   "outputs": [],
   "source": []
  }
 ],
 "metadata": {
  "kernelspec": {
   "display_name": "Python 3",
   "language": "python",
   "name": "python3"
  },
  "language_info": {
   "codemirror_mode": {
    "name": "ipython",
    "version": 3
   },
   "file_extension": ".py",
   "mimetype": "text/x-python",
   "name": "python",
   "nbconvert_exporter": "python",
   "pygments_lexer": "ipython3",
   "version": "3.6.4"
  }
 },
 "nbformat": 4,
 "nbformat_minor": 2
}
