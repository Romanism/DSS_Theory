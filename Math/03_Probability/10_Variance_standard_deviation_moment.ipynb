{
 "cells": [
  {
   "cell_type": "markdown",
   "metadata": {},
   "source": [
    "### 분산과 표준편차"
   ]
  },
  {
   "cell_type": "markdown",
   "metadata": {},
   "source": [
    "분산은 분포의 폭(width)을 대표하는 값 (산포도 - 퍼져있는 정도)"
   ]
  },
  {
   "cell_type": "markdown",
   "metadata": {},
   "source": [
    "$$ \\text{표준 편차} = \\sqrt{\\text{분산}} $$"
   ]
  },
  {
   "cell_type": "markdown",
   "metadata": {},
   "source": [
    "### 1. 샘플 분산 (표본 분산)"
   ]
  },
  {
   "cell_type": "markdown",
   "metadata": {},
   "source": [
    "1) 편향 샘플 분산(biased sample variance)"
   ]
  },
  {
   "cell_type": "markdown",
   "metadata": {},
   "source": [
    "$$ s^2 = \\dfrac{1}{N}\\sum_{i=1}^{N} (x_i-m)^2\\;\\;\\rightarrow (편차)^2의\\;평균 $$ "
   ]
  },
  {
   "cell_type": "markdown",
   "metadata": {},
   "source": [
    "- 편향 - 원래 있어야 할 곳에 있지 않고 치우쳤을 때\n",
    "- 편차에 제곱을 하는 이유? - 편차를 다 더하면 0이 되기 때문에 의미 있는 숫자를 만들지 못함"
   ]
  },
  {
   "cell_type": "markdown",
   "metadata": {},
   "source": [
    "2) 비 편향 샘플 분산(Unbiased sample variance)"
   ]
  },
  {
   "cell_type": "markdown",
   "metadata": {},
   "source": [
    "$$ s^2_{\\text{unbiased}} = \\dfrac{1}{N-1}\\sum_{i=1}^{N} (x_i-m)^2 $$"
   ]
  },
  {
   "cell_type": "markdown",
   "metadata": {},
   "source": [
    "- 왜 N-1일까? 모 분산이 샘플 분산보다 분산이 크기 때문에\n",
    "- 모분산과 값을 맞추기 위해선 값을 높여야 함"
   ]
  },
  {
   "cell_type": "markdown",
   "metadata": {},
   "source": [
    "### 2. 확률 분포의 분산 (모 분산)"
   ]
  },
  {
   "cell_type": "markdown",
   "metadata": {},
   "source": [
    "1) 정의"
   ]
  },
  {
   "cell_type": "markdown",
   "metadata": {},
   "source": [
    "[1] 연속 확률 변수\n",
    "\n",
    "$$ \\sigma^2 = \\text{Var}[X] = \\text{E}[(X - \\mu)^2] = \\int_{-\\infty}^{\\infty} (x - \\mu)^2 f(x)dx$$"
   ]
  },
  {
   "cell_type": "markdown",
   "metadata": {},
   "source": [
    "[2] 이산 확률 변수\n",
    "\n",
    "\n",
    "$$ \\sigma^2 = \\text{Var}[X] = \\text{E}[(X - \\mu)^2] =  \\sum (x - \\mu)^2 P(x) $$"
   ]
  },
  {
   "cell_type": "markdown",
   "metadata": {},
   "source": [
    "### 3. 분산의 성질"
   ]
  },
  {
   "cell_type": "markdown",
   "metadata": {},
   "source": [
    "1) $ \\text{Var}[X] \\geq 0 $"
   ]
  },
  {
   "cell_type": "markdown",
   "metadata": {},
   "source": [
    "2) $ \\text{Var}[c] = 0 $"
   ]
  },
  {
   "cell_type": "markdown",
   "metadata": {},
   "source": [
    "3) $ \\text{Var}[cX] = c^2 \\text{Var}[X] $"
   ]
  },
  {
   "cell_type": "markdown",
   "metadata": {},
   "source": [
    "4) $ \\text{Var}[X] = \\text{E}[X^2] - (\\text{E}[X])^2  = \\text{E}[X^2] - \\mu^2$ (제평마평제)"
   ]
  },
  {
   "cell_type": "markdown",
   "metadata": {},
   "source": [
    "5) $ \\text{E}[X^2] = \\mu^2 + \\text{Var}[X] $"
   ]
  },
  {
   "cell_type": "markdown",
   "metadata": {},
   "source": [
    "(증명)\n",
    "\n",
    "$$ \n",
    "\\begin{eqnarray}\n",
    "\\text{Var}[X] \n",
    "&=& \\text{E}[(X - \\mu)^2] \\\\\\\\\n",
    "&=& \\text{E}[X^2 - 2\\mu X + \\mu^2] \\\\\\\\\n",
    "&=& \\text{E}[X^2] - 2\\mu\\text{E}[X] + \\mu^2 \\\\\\\\\n",
    "&=& \\text{E}[X^2] - 2\\mu^2 + \\mu^2 \\\\\\\\\n",
    "&=& \\text{E}[X^2] - \\mu^2\\\\\\\\\n",
    "\\end{eqnarray}\n",
    "$$"
   ]
  },
  {
   "cell_type": "markdown",
   "metadata": {},
   "source": [
    "### 4. 두 확률 변수의 합의 분산"
   ]
  },
  {
   "cell_type": "markdown",
   "metadata": {},
   "source": [
    "1) 독립이 아닌경우"
   ]
  },
  {
   "cell_type": "markdown",
   "metadata": {},
   "source": [
    "$$\\text{Var}\\left[ X + Y \\right] = \\text{E}\\left[ (X -\\mu_X)^2 \\right] + \\text{E}\\left[ (Y - \\mu_Y)^2 \\right] + 2\\text{E}\\left[ (X-\\mu_X)(Y-\\mu_Y) \\right]$$"
   ]
  },
  {
   "cell_type": "markdown",
   "metadata": {},
   "source": [
    "(증명)\n",
    "\n",
    "$$\\begin{eqnarray}\n",
    "\\text{Var}\\left[ X + Y \\right] \n",
    "&=& \\text{E}\\left[ (X + Y - (\\mu_X + \\mu_Y))^2 \\right] \\\\\\\\\n",
    "&=& \\text{E}\\left[ ((X -\\mu_X) + (Y - \\mu_Y))^2 \\right] \\\\\\\\\n",
    "&=& \\text{E}\\left[ (X -\\mu_X)^2 + (Y - \\mu_Y)^2 + 2(X-\\mu_X)(Y-\\mu_Y) \\right] \\\\\\\\\n",
    "&=& \\text{E}\\left[ (X -\\mu_X)^2 \\right] + \\text{E}\\left[ (Y - \\mu_Y)^2 \\right] + 2\\text{E}\\left[ (X-\\mu_X)(Y-\\mu_Y) \\right] \n",
    "\\end{eqnarray}$$"
   ]
  },
  {
   "cell_type": "markdown",
   "metadata": {},
   "source": [
    "2) 독립인 경우"
   ]
  },
  {
   "cell_type": "markdown",
   "metadata": {},
   "source": [
    "$$\\text{Var}\\left[ X + Y \\right] = \\text{Var}\\left[ X \\right] + \\text{Var}\\left[ Y \\right] = \\text{E}\\left[ (X -\\mu_X)^2 \\right] + \\text{E}\\left[ (Y - \\mu_Y)^2 \\right]$$"
   ]
  },
  {
   "cell_type": "markdown",
   "metadata": {},
   "source": [
    "$$ \\because \\text{E}\\left[ (X-\\mu_X)(Y-\\mu_Y) \\right] = 0$$"
   ]
  },
  {
   "cell_type": "markdown",
   "metadata": {},
   "source": [
    "### 5. 샘플 평균의 분산"
   ]
  },
  {
   "cell_type": "markdown",
   "metadata": {},
   "source": [
    "1) 공식 : 샘플 평균의 분산은 모 평균 분산에 (N-1)을 나눠줌"
   ]
  },
  {
   "cell_type": "markdown",
   "metadata": {},
   "source": [
    "$$ \n",
    "\\begin{eqnarray}\n",
    "\\text{Var}[\\bar{X}] = \\dfrac{\\sigma^2}{N-1}\\end{eqnarray}\n",
    "$$ "
   ]
  },
  {
   "cell_type": "markdown",
   "metadata": {},
   "source": [
    "2) 증명"
   ]
  },
  {
   "cell_type": "markdown",
   "metadata": {},
   "source": [
    "$$ \n",
    "\\begin{eqnarray}\n",
    "\\text{Var}[\\bar{X}] \n",
    "&=& \\text{Var} \\left[ \\dfrac{1}{N} \\sum_{i=1}^N X_i \\right] \\\\\\\\\n",
    "&=& \\text{E} \\left[ \\left( \\dfrac{1}{N} \\sum_{i=1}^N X_i - \\mu \\right)^2 \\right] \\\\\\\\\n",
    "&=& \\text{E} \\left[ \\left( \\dfrac{1}{N} \\sum_{i=1}^N X_i - \\dfrac{1}{N}N\\mu \\right)^2 \\right] \\\\\\\\\n",
    "&=& \\text{E} \\left[ \\left( \\dfrac{1}{N} \\left( \\sum_{i=1}^N X_i - N\\mu \\right) \\right)^2 \\right] \\\\\\\\\n",
    "&=& \\text{E} \\left[ \\left( \\dfrac{1}{N} \\sum_{i=1}^N (X_i - \\mu) \\right)^2 \\right] \\\\\\\\\n",
    "&=& \\text{E} \\left[ \\dfrac{1}{N^2} \\sum_{i=1}^N \\sum_{j=1}^N (X_i - \\mu) (X_j - \\mu)  \\right] \\\\\\\\\\end{eqnarray}$$"
   ]
  },
  {
   "cell_type": "markdown",
   "metadata": {},
   "source": [
    "$X_i, X_j가 독립일 때, $$\\text{E}\\left[ (X_i-\\mu)(X_j-\\mu) \\right] = 0$를 활용하면 $i=j$인 항, 즉 제곱항만 남음"
   ]
  },
  {
   "cell_type": "markdown",
   "metadata": {},
   "source": [
    "$$ \n",
    "\\begin{eqnarray}\n",
    "&=& \\text{E} \\left[ \\dfrac{1}{N^2} \\sum_{i=1}^N (X_i - \\mu)^2 \\right] \\\\\\\\\n",
    "&=& \\text{E} \\left[ \\dfrac{1}{N^2} \\sum_{i=1}^N (X - \\mu)^2 \\right] \\\\\\\\\n",
    "&=& \\text{E} \\left[ \\dfrac{1}{N^2} N (X - \\mu)^2 \\right] \\\\\\\\\n",
    "&=& \\text{E} \\left[ \\dfrac{1}{N} (X - \\mu)^2 \\right] \\\\\\\\\n",
    "&=& \\dfrac{1}{N} \\text{Var}[X] = \\dfrac{\\sigma^2}{N}\n",
    "\\end{eqnarray}\n",
    "$$ "
   ]
  },
  {
   "cell_type": "markdown",
   "metadata": {},
   "source": [
    "### 6. 샘플 분산의 기대값"
   ]
  },
  {
   "cell_type": "markdown",
   "metadata": {},
   "source": [
    "1) 샘플 분산의 기대값은 모분산의 $ \\dfrac{N-1}{N}$"
   ]
  },
  {
   "cell_type": "markdown",
   "metadata": {},
   "source": [
    "$$\\text{E}[s^2] = \\dfrac{N-1}{N}\\sigma^2$$"
   ]
  },
  {
   "cell_type": "markdown",
   "metadata": {},
   "source": [
    "2) 증명"
   ]
  },
  {
   "cell_type": "markdown",
   "metadata": {},
   "source": [
    "$$ \\begin{eqnarray}\n",
    "\\text{E}[s^2] \n",
    "&=& \\text{E} \\left[ \\dfrac{1}{N}\\sum_{i=1}^N (X_i - \\bar{X})^2 \\right] \n",
    "= \\text{E} \\left[ \\dfrac{1}{N}\\sum_{i=1}^N \\left\\{ (X_i -\\mu) - (\\bar{X} - \\mu) \\right \\}^2  \\right] \\\\\\\\\n",
    "&=& \\text{E} \\left[ \\dfrac{1}{N}\\sum_{i=1}^N \\left\\{ (X_i -\\mu)^2 - 2 (X_i -\\mu)(\\bar{X} - \\mu) +  (\\bar{X} - \\mu)^2 \\right \\}  \\right] \\\\\\\\\n",
    "&=&  \\text{E} \\left[ \\dfrac{1}{N} \\sum_{i=1}^N (X_i -\\mu)^2 \\right] \n",
    "  - 2 \\text{E} \\left[ { \\dfrac{1}{N} \\sum_{i=1}^N (X_i -\\mu)(\\bar{X} - \\mu) } \\right] \n",
    "  +  \\text{E} \\left[ { \\dfrac{1}{N} \\sum_{i=1}^N (\\bar{X} - \\mu)^2 } \\right] \n",
    "\\end{eqnarray} $$"
   ]
  },
  {
   "cell_type": "markdown",
   "metadata": {},
   "source": [
    "[1] 첫번째 항"
   ]
  },
  {
   "cell_type": "markdown",
   "metadata": {},
   "source": [
    "$$ \\begin{eqnarray}\n",
    "\\text{E}[s^2] \n",
    "&=& \\text{E} \\left[ \\dfrac{1}{N}\\sum_{i=1}^N (X_i - \\bar{X})^2 \\right] \n",
    "= \\text{E} \\left[ \\dfrac{1}{N}\\sum_{i=1}^N \\left\\{ (X_i -\\mu) - (\\bar{X} - \\mu) \\right \\}^2  \\right] \\\\\\\\\n",
    "&=& \\text{E} \\left[ \\dfrac{1}{N}\\sum_{i=1}^N \\left\\{ (X_i -\\mu)^2 - 2 (X_i -\\mu)(\\bar{X} - \\mu) +  (\\bar{X} - \\mu)^2 \\right \\}  \\right] \\\\\\\\\n",
    "&=&  \\text{E} \\left[ \\dfrac{1}{N} \\sum_{i=1}^N (X_i -\\mu)^2 \\right] \n",
    "  - 2 \\text{E} \\left[ { \\dfrac{1}{N} \\sum_{i=1}^N (X_i -\\mu)(\\bar{X} - \\mu) } \\right] \n",
    "  +  \\text{E} \\left[ { \\dfrac{1}{N} \\sum_{i=1}^N (\\bar{X} - \\mu)^2 } \\right] \n",
    "\\end{eqnarray} $$"
   ]
  },
  {
   "cell_type": "markdown",
   "metadata": {},
   "source": [
    "[2] 두번째 항"
   ]
  },
  {
   "cell_type": "markdown",
   "metadata": {},
   "source": [
    "$$ \\begin{eqnarray}\n",
    "\\text{E} \\left[ { \\dfrac{1}{N} \\sum_{i=1}^N (X_i -\\mu)(\\bar{X} - \\mu) } \\right] \n",
    "&=& \\text{E} \\left[ { \\dfrac{1}{N} \\sum_{i=1}^N (X_i -\\mu) \\left( \\dfrac{1}{N} \\sum_{j=1}^N X_j - \\mu \\right) } \\right]  \\\\\\\\\n",
    "&=& \\text{E} \\left[ { \\dfrac{1}{N} \\sum_{i=1}^N (X_i -\\mu) \\left( \\dfrac{1}{N} \\sum_{j=1}^N ( X_j - \\mu ) \\right) } \\right]  \\\\\\\\\n",
    "&=& \\text{E} \\left[ { \\dfrac{1}{N^2} \\sum_{i=1}^N \\sum_{j=1}^N (X_i -\\mu)  ( X_j - \\mu )} \\right]  \\\\\\\\\n",
    "&=& \\dfrac{1}{N} \\text{Var}[X] \\\\\\\\\n",
    "&=& \\dfrac{\\sigma^2}{N}\n",
    "\\end{eqnarray} $$"
   ]
  },
  {
   "cell_type": "markdown",
   "metadata": {},
   "source": [
    "[3] 세번째 항"
   ]
  },
  {
   "cell_type": "markdown",
   "metadata": {},
   "source": [
    "$$\\text{E} \\left[ { \\dfrac{1}{N} \\sum_{i=1}^N (\\bar{X} - \\mu)^2 } \\right] = \\dfrac{1}{N} \\text{Var}[X] = \\dfrac{\\sigma^2}{N}$$"
   ]
  },
  {
   "cell_type": "markdown",
   "metadata": {},
   "source": [
    "[4] 종합\n",
    "\n",
    "$$\n",
    "\\sigma^2 \n",
    "= \\dfrac{N}{N-1} \\text{E}[s^2] \n",
    "= \\dfrac{N}{N-1} \\text{E} \\left[ \\dfrac{1}{N} \\sum (X_i-\\bar{X})^2 \\right] \n",
    "= \\text{E} \\left[ \\dfrac{1}{N-1} \\sum (X_i-\\bar{X})^2 \\right] \n",
    "= \\text{E} \\left[ s^2_{\\text{unbiased}} \\right]\n",
    "$$"
   ]
  },
  {
   "cell_type": "code",
   "execution_count": 6,
   "metadata": {},
   "outputs": [],
   "source": [
    "# 분산 구하기\n",
    "import scipy as sp\n",
    "import scipy.stats\n",
    "sp.random.seed(0)\n",
    "x = sp.stats.norm(0, 2).rvs(1000)  # mean=0, standard deviation=2"
   ]
  },
  {
   "cell_type": "code",
   "execution_count": 11,
   "metadata": {},
   "outputs": [
    {
     "data": {
      "text/plain": [
       "3.896937825248617"
      ]
     },
     "execution_count": 11,
     "metadata": {},
     "output_type": "execute_result"
    }
   ],
   "source": [
    "np.var(x)"
   ]
  },
  {
   "cell_type": "code",
   "execution_count": 8,
   "metadata": {},
   "outputs": [
    {
     "data": {
      "text/plain": [
       "3.900838663912529"
      ]
     },
     "execution_count": 8,
     "metadata": {},
     "output_type": "execute_result"
    }
   ],
   "source": [
    "np.var(x, ddof=1)  # ddof - degree of fredom, unbiased variance"
   ]
  },
  {
   "cell_type": "markdown",
   "metadata": {},
   "source": [
    "Q. 왜 표본 분산은 모 분산보다 작을까?"
   ]
  },
  {
   "cell_type": "markdown",
   "metadata": {},
   "source": [
    "모 분산의 기준점을 확실히 모르기 때문임.. (자유도 만큼 빼준다)"
   ]
  },
  {
   "cell_type": "markdown",
   "metadata": {},
   "source": [
    "### 7. 모멘트 (Moment)"
   ]
  },
  {
   "cell_type": "markdown",
   "metadata": {},
   "source": [
    "1) 정의 "
   ]
  },
  {
   "cell_type": "markdown",
   "metadata": {},
   "source": [
    "- 앞서 구한 기댓값, 분산 등의 특징값을 확률분포의 모멘트라 함\n",
    "- 확률 분포에서 찾아낼 수 있는 특징값의 집합"
   ]
  },
  {
   "cell_type": "markdown",
   "metadata": {},
   "source": [
    "2) 종류"
   ]
  },
  {
   "cell_type": "markdown",
   "metadata": {},
   "source": [
    "[1] 1차 모멘트 = $\\text{E}[X]$ : 기댓값 (Expectation)\n",
    "\n",
    "[2] 2차 모멘트 = $\\text{E}[(X-\\mu)^2]$ : 분산 (Variance)\n",
    "\n",
    "[3] 3차 모멘트 = $\\text{E}[(X-\\mu)^3]$ : 스큐니스 (Skewness), 왜도 \n",
    "\n",
    "[4] 4차 모멘트 = $\\text{E}[(X-\\mu)^4]$ : 커토시스 (Kurtosis), 첨도"
   ]
  },
  {
   "cell_type": "markdown",
   "metadata": {},
   "source": [
    "3) 3차 모멘트의 특징"
   ]
  },
  {
   "cell_type": "markdown",
   "metadata": {},
   "source": [
    "[1] 스큐니스가 0이면 대칭인 확률 분포\n",
    "\n",
    "[2] 양수이면 오른쪽으로 치우쳐진 확률 분포"
   ]
  },
  {
   "cell_type": "markdown",
   "metadata": {},
   "source": [
    "3) 모멘트와 확률 분포"
   ]
  },
  {
   "cell_type": "markdown",
   "metadata": {},
   "source": [
    "$$\n",
    "\\begin{eqnarray}\n",
    "\\text{E}[X] &=& \\text{E}[Y] \\\\\n",
    "\\text{E}[(X-\\mu_X)^2] &=& \\text{E}[(Y-\\mu_Y)^2] \\\\\n",
    "\\text{E}[(X-\\mu_X)^3] &=& \\text{E}[(Y-\\mu_Y)^3] \\\\\n",
    "\\text{E}[(X-\\mu_X)^4] &=& \\text{E}[(Y-\\mu_Y)^4] \\\\\n",
    "\\text{E}[(X-\\mu_X)^5] &=& \\text{E}[(Y-\\mu_Y)^5] \\\\\n",
    "\\vdots &=& \\vdots \\\\\n",
    "\\end{eqnarray}\n",
    "$$\n",
    "\n",
    "이면 \n",
    "\n",
    "$$ X = Y $$"
   ]
  },
  {
   "cell_type": "markdown",
   "metadata": {},
   "source": [
    "[1] 두 개의 확률 분포가 있고\n",
    "\n",
    "[2] 1차부터 무한대 차수에 이르기까지 두 확률 분포의 모든 모멘트 값이 같으면 \n",
    "\n",
    "[3] 두 확률 분포는 같은 확률 분포"
   ]
  }
 ],
 "metadata": {
  "kernelspec": {
   "display_name": "Python 3",
   "language": "python",
   "name": "python3"
  },
  "language_info": {
   "codemirror_mode": {
    "name": "ipython",
    "version": 3
   },
   "file_extension": ".py",
   "mimetype": "text/x-python",
   "name": "python",
   "nbconvert_exporter": "python",
   "pygments_lexer": "ipython3",
   "version": "3.6.4"
  }
 },
 "nbformat": 4,
 "nbformat_minor": 2
}
