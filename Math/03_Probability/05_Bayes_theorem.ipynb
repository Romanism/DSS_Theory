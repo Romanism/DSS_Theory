{
 "cells": [
  {
   "cell_type": "markdown",
   "metadata": {},
   "source": [
    "### 1. 베이즈 정리"
   ]
  },
  {
   "cell_type": "markdown",
   "metadata": {},
   "source": [
    "1) 정의"
   ]
  },
  {
   "cell_type": "markdown",
   "metadata": {},
   "source": [
    "사건 $B$가 발생하므로써 사건 $A$의 확률이 어떻게 변화하는지 표현"
   ]
  },
  {
   "cell_type": "markdown",
   "metadata": {},
   "source": [
    "$$ P(A|B) = \\dfrac{P(B|A)P(A)}{P(B)} $$"
   ]
  },
  {
   "cell_type": "markdown",
   "metadata": {},
   "source": [
    "- $P(A)$ : 사전 확률(prior). 사건 B가 발생하기 전에 가지고 있던 사건 A의 확률\n",
    "- $P(A|B)$ : 사후 확률(posterior). 사건 B가 발생한 후 갱신된 사건 A의 확률\n",
    "- $P(B|A)$ : likelihood, 사건 A가 발생한 경우 사건 B의 확률\n",
    "- $P(B)$ : 정규화 상수(normalizing constant): 확률의 크기 조정"
   ]
  },
  {
   "cell_type": "markdown",
   "metadata": {},
   "source": [
    "2) 증명"
   ]
  },
  {
   "cell_type": "markdown",
   "metadata": {},
   "source": [
    "$$ P(A|B) = \\dfrac{P(A,B)}{P(B)} \\;\\; \\rightarrow \\;\\; P(A,B) = P(A|B)P(B) $$\n",
    "\n",
    "\n",
    "$$ P(B|A) = \\dfrac{P(A,B)}{P(A)} \\;\\; \\rightarrow \\;\\; P(A,B) = P(B|A)P(A) $$\n",
    "\n",
    "\n",
    "$$ P(A,B) = P(A|B)P(B) = P(B|A)P(A) $$\n",
    "\n",
    "\n",
    "$$ P(A|B) = \\dfrac{P(B|A)P(A)}{P(B)} $$"
   ]
  },
  {
   "cell_type": "markdown",
   "metadata": {},
   "source": [
    "3) 전체 확률의 법칙 적용 ($A_i \\cap A_j = \\emptyset,\\;\\;A_1 \\cup A_2 \\cup \\cdots = \\Omega$일때)"
   ]
  },
  {
   "cell_type": "markdown",
   "metadata": {},
   "source": [
    "$$ P(A_1|B) = \\dfrac{P(B|A_1)P(A_1)}{P(B)} = \\dfrac{P(B|A_1)P(A_1)}{\\sum_i P(A_i, B)}= \\dfrac{P(B|A_1)P(A_1)}{\\sum_i P(B|A_i)P(A_i)}  $$"
   ]
  },
  {
   "cell_type": "markdown",
   "metadata": {},
   "source": [
    "4) $A_1 = A,\\;\\;A_2 = A^C$ 인 경우 (O, X 문제)"
   ]
  },
  {
   "cell_type": "markdown",
   "metadata": {},
   "source": [
    "$$ \n",
    "\\begin{eqnarray}\n",
    "P(A|B) \n",
    "&=& \\dfrac{P(B|A)P(A)}{P(B)} \\\\\\\\\n",
    "&=& \\dfrac{P(B|A)P(A)}{P(B,A) + P(B,A^C)} \\\\\\\\\n",
    "&=& \\dfrac{P(B|A)P(A)}{P(B|A)P(A) + P(B|A^C)P(A^C)} \\\\\\\\\n",
    "&=& \\dfrac{P(B|A)P(A)}{P(B|A)P(A) + P(B|A^C)(1 - P(A))} \n",
    "\\end{eqnarray}\n",
    "$$"
   ]
  },
  {
   "cell_type": "markdown",
   "metadata": {},
   "source": [
    "5) $A$, $B$ 사건이 발생한 상태에서 $C$가 발생한 경우"
   ]
  },
  {
   "cell_type": "markdown",
   "metadata": {},
   "source": [
    "$$ P(A|B,C) = \\dfrac{P(C|A,B)P(A|B)}{P(C|B)} $$"
   ]
  },
  {
   "cell_type": "markdown",
   "metadata": {},
   "source": [
    "(증명)\n",
    "\n",
    "\n",
    "$$ P(A,B,C) = P(A|B,C)P(B,C) = P(A|B,C)P(C|B)P(B)$$\n",
    "\n",
    "\n",
    "$$ P(A,B,C) = P(C|A,B)P(A,B) = P(C|A,B)P(A|B)P(B) $$\n",
    "\n",
    "\n",
    "$$ P(A|B,C)P(C|B)P(B) = P(C|A,B)P(A|B)P(B) $$\n",
    "\n",
    "\n",
    "$$ P(A|B,C) = \\dfrac{P(C|A,B)P(A|B)}{P(C|B)} $$"
   ]
  },
  {
   "cell_type": "markdown",
   "metadata": {},
   "source": [
    "### 2. 검사 시약 문제 (drug test)"
   ]
  },
  {
   "cell_type": "markdown",
   "metadata": {},
   "source": [
    "1) 상황 설정"
   ]
  },
  {
   "cell_type": "markdown",
   "metadata": {},
   "source": [
    "[1] 제약사에서 환자가 특정한 병에 걸린지 확인할 수 있는 시약을 제작함\n",
    "\n",
    "[2] 이 병에 걸린 환자에게 시약을 테스트한 결과 99%의 확률로 양성 반응을 보임\n",
    "\n",
    "[3] 이 병은 전체 인구 중 걸린 사람이 0.2% 인 희귀병임\n",
    "\n",
    "[4] 이 병에 걸리지 않은 사람에게 시약 검사를 했을 때, 잘못된 결과(False Positive)가 나타난 확률은 5%"
   ]
  },
  {
   "cell_type": "markdown",
   "metadata": {},
   "source": [
    "2) 문제"
   ]
  },
  {
   "cell_type": "markdown",
   "metadata": {},
   "source": [
    "병에 걸린지 확인이 되지 않은 어떤 환자가 이 시약을 테스트한 결과 양성 반응을 보였다면 이 환자가 그 병에 걸려 있을 확률은 얼마일까? 99%일까?"
   ]
  },
  {
   "cell_type": "markdown",
   "metadata": {},
   "source": [
    "3) 상황 정리"
   ]
  },
  {
   "cell_type": "markdown",
   "metadata": {},
   "source": [
    "[1] 사건\n",
    "\n",
    "- 병에 걸리는 경우: 사건 $D$\n",
    "- 양성 반응을 보이는 경우: 사건 $S$\n",
    "\n",
    "- $P(D) = 0.002$\n",
    "- $P(D^C) = 0.998$\n",
    "\n",
    "- $P(S|D) = 0.99$\n",
    "- $P(S^C|D) = 0.01 $\n",
    "\n",
    "- $P(S|D^C) = 0.05$\n",
    "- $P(S^C|D^C) = 0.95$"
   ]
  },
  {
   "cell_type": "markdown",
   "metadata": {},
   "source": [
    "[2] 문제\n",
    "\n",
    " * $P(S|D)=0.99$가 주어졌을 때, $P(D|S)$를 구하라"
   ]
  },
  {
   "cell_type": "markdown",
   "metadata": {},
   "source": [
    "$$ \n",
    "\\begin{eqnarray}\n",
    "P(D|S) \n",
    "&=& \\dfrac{P(S|D)P(D)}{P(S)} \\\\\\\\\n",
    "&=& \\dfrac{P(S|D)P(D)}{P(S,D) + P(S,D^C)} \\\\\\\\\n",
    "&=& \\dfrac{P(S|D)P(D)}{P(S|D)P(D) + P(S|D^C)P(D^C)} \\\\\\\\\n",
    "&=& \\dfrac{P(S|D)P(D)}{P(S|D)P(D) + P(S|D^C)(1-P(D))} \\\\\\\\\n",
    "&=& \\dfrac{0.99 \\cdot 0.002}{0.99 \\cdot 0.002 + 0.05 \\cdot (1 - 0.002)} \\\\\\\\\n",
    "&=& 0.038\n",
    "\\end{eqnarray}\n",
    "$$"
   ]
  },
  {
   "cell_type": "markdown",
   "metadata": {},
   "source": [
    "[3] 표로 정리"
   ]
  },
  {
   "cell_type": "markdown",
   "metadata": {},
   "source": [
    "<table class=\"table-bordered\" style=\"width:70%\">\n",
    "  <tr>\n",
    "    <td></td>\n",
    "    <td>양성 반응 $S$</td>\n",
    "    <td>음성 반응 $S^C$</td> \n",
    "  </tr>\n",
    "  <tr>\n",
    "    <td>병에 걸림 $P(D) = 0.002$</td>\n",
    "    <td>$P(S,D) = P(D)P(S|D) = 0.002 \\cdot 0.99 = 0.00198$ </td>\n",
    "    <td>$P(S^C,D) = P(D)P(S^C|D) = 0.002 \\cdot 0.01 = 0.00002$</td>\n",
    "  </tr>\n",
    "  <tr>\n",
    "    <td>병에 안걸림 $P(D^C) = 0.998$</td> \n",
    "    <td>$P(S,D^C) = P(D^C)P(S|D^C) = 0.998 \\cdot 0.05 = 0.0499$ </td>\n",
    "    <td>$P(S^C|D^C) = P(D^C)P(S^C|D^C) = 0.998 \\cdot 0.95 = 0.9481$</td> \n",
    "  </tr>\n",
    "</table>"
   ]
  },
  {
   "cell_type": "code",
   "execution_count": 9,
   "metadata": {},
   "outputs": [],
   "source": [
    "# 베이즈 정리 구하기\n",
    "from pgmpy.factors.discrete import TabularCPD\n",
    "# TabularCPD(variable, variable_card, value, evidence, evidence_card)\n",
    "# variable: 확률 변수의 이름 문자열\n",
    "# variable_card: 확률 변수가 가질 수 있는 경우의 수\n",
    "# value: 조건부 확률 배열. 하나의 열이 하나의 조건(경우)을 뜻하므로 하나의 열의 확률 합은 1이어야 한다.\n",
    "# evidence: 조건이 되는 확률 변수의 이름 문자열의 리스트\n",
    "# evidence_card: 조건이 되는 확률 변수가 가질 수 있는 경우의 수의 리스트"
   ]
  },
  {
   "cell_type": "code",
   "execution_count": 10,
   "metadata": {},
   "outputs": [
    {
     "name": "stdout",
     "output_type": "stream",
     "text": [
      "╒═════╤═══════╕\n",
      "│ X_0 │ 0.002 │\n",
      "├─────┼───────┤\n",
      "│ X_1 │ 0.998 │\n",
      "╘═════╧═══════╛\n"
     ]
    }
   ],
   "source": [
    "# 병에 걸릴 확률, 안걸릴 확률 구하기\n",
    "cpd_X = TabularCPD('X', 2, [[0.002, 1 - 0.002]])\n",
    "print(cpd_X)"
   ]
  },
  {
   "cell_type": "code",
   "execution_count": 11,
   "metadata": {},
   "outputs": [
    {
     "name": "stdout",
     "output_type": "stream",
     "text": [
      "╒═════╤══════╤══════╕\n",
      "│ X   │ X_0  │ X_1  │\n",
      "├─────┼──────┼──────┤\n",
      "│ Y_0 │ 0.99 │ 0.05 │\n",
      "├─────┼──────┼──────┤\n",
      "│ Y_1 │ 0.01 │ 0.95 │\n",
      "╘═════╧══════╧══════╛\n"
     ]
    }
   ],
   "source": [
    "# 양성 반응 나올 확률, 음성 반응 나올 확률 정의\n",
    "cpd_YX = TabularCPD('Y', 2, np.array([[0.99, 0.05], [0.01, 0.95]]),\n",
    "                    evidence=['X'], evidence_card=[2])\n",
    "print(cpd_YX)"
   ]
  },
  {
   "cell_type": "code",
   "execution_count": 12,
   "metadata": {},
   "outputs": [
    {
     "data": {
      "text/plain": [
       "True"
      ]
     },
     "execution_count": 12,
     "metadata": {},
     "output_type": "execute_result"
    }
   ],
   "source": [
    "from pgmpy.models import BayesianModel\n",
    "\n",
    "model = BayesianModel([('X', 'Y')])\n",
    "model.add_cpds(cpd_X, cpd_YX)\n",
    "model.check_model()"
   ]
  },
  {
   "cell_type": "code",
   "execution_count": 14,
   "metadata": {
    "scrolled": true
   },
   "outputs": [
    {
     "name": "stdout",
     "output_type": "stream",
     "text": [
      "╒═════╤══════════╕\n",
      "│ Y   │   phi(Y) │\n",
      "╞═════╪══════════╡\n",
      "│ Y_0 │   0.9900 │\n",
      "├─────┼──────────┤\n",
      "│ Y_1 │   0.0100 │\n",
      "╘═════╧══════════╛\n"
     ]
    }
   ],
   "source": [
    "from pgmpy.inference import VariableElimination\n",
    "\n",
    "infer = VariableElimination(model)\n",
    "posterior = infer.query(['Y'], evidence={'X': 0})\n",
    "print(posterior['Y'])"
   ]
  },
  {
   "cell_type": "markdown",
   "metadata": {},
   "source": [
    "### 연습문제"
   ]
  },
  {
   "cell_type": "markdown",
   "metadata": {},
   "source": [
    "#### ``연습 문제 1``\n",
    "\n",
    "다음 식을 증명하라.\n",
    "\n",
    "$$ P(A|B,C) = \\dfrac{P(B|A,C)P(A|C)}{P(B|C)} $$"
   ]
  },
  {
   "cell_type": "markdown",
   "metadata": {},
   "source": [
    "#### ``정답``"
   ]
  },
  {
   "cell_type": "markdown",
   "metadata": {},
   "source": [
    "$$ P(A,B,C) = P(A|B,C)P(C,B) = P(A|B,C)P(B|C)P(C)$$\n",
    "\n",
    "\n",
    "$$ P(A,B,C) = P(B|A,C)P(A,C) = P(B|A,C)P(A|C)P(C) $$\n",
    "\n",
    "\n",
    "$$ P(A|B,C)P(B|C)P(C) = P(B|A,C)P(A|C)P(C) $$\n",
    "\n",
    "\n",
    "$$ P(A|B,C) =  \\dfrac{P(B|A,C)P(A|C)}{P(B|C)} $$"
   ]
  },
  {
   "cell_type": "code",
   "execution_count": null,
   "metadata": {},
   "outputs": [],
   "source": []
  }
 ],
 "metadata": {
  "kernelspec": {
   "display_name": "Python 3",
   "language": "python",
   "name": "python3"
  },
  "language_info": {
   "codemirror_mode": {
    "name": "ipython",
    "version": 3
   },
   "file_extension": ".py",
   "mimetype": "text/x-python",
   "name": "python",
   "nbconvert_exporter": "python",
   "pygments_lexer": "ipython3",
   "version": "3.6.4"
  }
 },
 "nbformat": 4,
 "nbformat_minor": 2
}
