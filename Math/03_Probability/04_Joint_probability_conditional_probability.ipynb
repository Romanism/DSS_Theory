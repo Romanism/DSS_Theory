{
 "cells": [
  {
   "cell_type": "markdown",
   "metadata": {},
   "source": [
    "### 1. 사건 정의 - 범인 찾기 문제"
   ]
  },
  {
   "cell_type": "markdown",
   "metadata": {},
   "source": [
    "1) 용의자 신상 파악"
   ]
  },
  {
   "cell_type": "markdown",
   "metadata": {},
   "source": [
    "- a1 - 남, 머리 짧음, 26세\n",
    "- a2 - 남, 머리 김, 33세\n",
    "- a3 - 여, 머리 김, 56세\n",
    "- a4 - 남, 머리 짧음, 66세\n",
    "- a5 - 여, 머리 짧음, 52세\n",
    "- a6 - 남, 머리 짦음, 57세\n",
    "- a7 - 여, 머리 김, 22세\n",
    "- a8 - 여, 머리 짧음, 87세\n",
    "- a9 - 남, 머리 김, 12세\n",
    "- a10 - 여, 머리 짧음, 25세\n",
    "- a11 - 여, 머리 김, 63세\n",
    "- a12 - 남, 머리 짦음, 23"
   ]
  },
  {
   "cell_type": "markdown",
   "metadata": {},
   "source": [
    "2) 정보"
   ]
  },
  {
   "cell_type": "markdown",
   "metadata": {},
   "source": [
    "- 사건발생, 용의자는 12명 (남 6, 여 6)\n",
    "- 범인이 남자일 확률 $P(A)$ = 0.5\n",
    "- 범인이 머리가 길 확률 p(B) = 5/12"
   ]
  },
  {
   "cell_type": "markdown",
   "metadata": {},
   "source": [
    "### 2. 결합 확률과 조건부 확률"
   ]
  },
  {
   "cell_type": "markdown",
   "metadata": {},
   "source": [
    "1) 결합 확률 (Joint probability)"
   ]
  },
  {
   "cell_type": "markdown",
   "metadata": {},
   "source": [
    "- 사건 $A$와 사건 $B$가 동시에 발생할 확률\n",
    "\n",
    "$$ P(A \\cap B) \\text{ 또는 } P(A, B) $$"
   ]
  },
  {
   "cell_type": "markdown",
   "metadata": {},
   "source": [
    "2) 주변 확률 (Marginal probability)"
   ]
  },
  {
   "cell_type": "markdown",
   "metadata": {},
   "source": [
    "- 결합 확률과 대비되는 개념으로 결합되지 않는 개별 사건의 확률 $P(A)$ 또는 $P(B)$"
   ]
  },
  {
   "cell_type": "markdown",
   "metadata": {},
   "source": [
    "3) 조건부 확률 (Condigitonal probability) "
   ]
  },
  {
   "cell_type": "markdown",
   "metadata": {},
   "source": [
    "- 사건 $B$가 사실일 경우의 사건 $A$에 대한 확률\n",
    "\n",
    "$$ P(A|B) = \\dfrac{P(A,B)}{P(B)} $$"
   ]
  },
  {
   "cell_type": "markdown",
   "metadata": {},
   "source": [
    "\n",
    "- 표본이 이벤트 B에 속한다는 새로운 사실을 알게 되었을 때, \n",
    "- 이 표본이 사건 A에 속한다는 사실의 정확성(신뢰도)이 어떻게 변하는지를 알려줌"
   ]
  },
  {
   "cell_type": "markdown",
   "metadata": {},
   "source": [
    "<table class=\"table-bordered\" style=\"width:100%\">\n",
    "  <tr>\n",
    "    <td></td>\n",
    "    <td>머리가 길다: $P(B)=\\dfrac{5}{12}$</td>\n",
    "    <td>머리가 짧다: $P(B^C)=\\dfrac{7}{12}$</td> \n",
    "    <td>계</td> \n",
    "  </tr>\n",
    "  <tr>\n",
    "    <td>남자: $P(A)=0.6$</td>\n",
    "    <td>2명 $\\;\\;\\;P(A,B) = \\dfrac{2}{12}$</td>\n",
    "    <td>4명 $\\;\\;\\;P(A,B^C) = \\dfrac{4}{12}$</td>\n",
    "    <td>6명</td>\n",
    "  </tr>\n",
    "  <tr>\n",
    "    <td>여자: $P(A^C)=0.4$</td> \n",
    "    <td>3명 $\\;\\;\\;P(A^C,B) = \\dfrac{3}{12}$</td>\n",
    "    <td>3명 $\\;\\;\\;P(A^C,B^C) = \\dfrac{3}{12}$</td> \n",
    "    <td>6명</td> \n",
    "  </tr>\n",
    "  <tr>\n",
    "    <td>계</td> \n",
    "    <td>5명 </td>\n",
    "    <td>7명</td> \n",
    "    <td></td> \n",
    "  </tr>\n",
    "</table>"
   ]
  },
  {
   "cell_type": "markdown",
   "metadata": {},
   "source": [
    "$$ P(A|B) = \\dfrac{P(A, B)}{P(B)} = \\dfrac{2/12}{5/12}  = \\dfrac{2}{5} $$ "
   ]
  },
  {
   "cell_type": "markdown",
   "metadata": {},
   "source": [
    "### 3. 독립 (Independent) "
   ]
  },
  {
   "cell_type": "markdown",
   "metadata": {},
   "source": [
    "- 두 사건이 서로에게 전혀 영향을 미치 않을 때 정의\n",
    "- 조건부 확률과 원래 확률이 같음"
   ]
  },
  {
   "cell_type": "markdown",
   "metadata": {},
   "source": [
    "$$ P(A,B) = P(A)P(B) $$"
   ]
  },
  {
   "cell_type": "markdown",
   "metadata": {},
   "source": [
    "### 4. 조건부 확률에서 사건"
   ]
  },
  {
   "cell_type": "markdown",
   "metadata": {},
   "source": [
    "조건부 확률에서 사건(주장 / 명제) B, A "
   ]
  },
  {
   "cell_type": "markdown",
   "metadata": {},
   "source": [
    "1) \"가정과 그 가정에 따른 조건부 결론"
   ]
  },
  {
   "cell_type": "markdown",
   "metadata": {},
   "source": [
    "2) 원인과 결과"
   ]
  },
  {
   "cell_type": "markdown",
   "metadata": {},
   "source": [
    "3) 근거와 추론"
   ]
  },
  {
   "cell_type": "markdown",
   "metadata": {},
   "source": [
    "### 연습 문제"
   ]
  },
  {
   "cell_type": "markdown",
   "metadata": {},
   "source": [
    "#### ``연습 문제 1``\n",
    "\n",
    "위의 범인 찾기 문제의 예에서  12명의 남자 중 머리가 긴 사람이 다음과 같이 6명인 경우의 결합 확률 모형을 `JointProbabilityDistribution` 클래스 객체 `j2`로 구현하라."
   ]
  },
  {
   "cell_type": "code",
   "execution_count": 5,
   "metadata": {},
   "outputs": [],
   "source": [
    "# 조건부 확률 구하기 (pgmpy 패키지)\n",
    "\n",
    "from pgmpy.factors.discrete import JointProbabilityDistribution as JPD"
   ]
  },
  {
   "cell_type": "code",
   "execution_count": 6,
   "metadata": {},
   "outputs": [
    {
     "name": "stdout",
     "output_type": "stream",
     "text": [
      "╒═════╤═════╤══════════╕\n",
      "│ X   │ Y   │   P(X,Y) │\n",
      "╞═════╪═════╪══════════╡\n",
      "│ X_0 │ Y_0 │   0.1667 │\n",
      "├─────┼─────┼──────────┤\n",
      "│ X_0 │ Y_1 │   0.3333 │\n",
      "├─────┼─────┼──────────┤\n",
      "│ X_1 │ Y_0 │   0.2500 │\n",
      "├─────┼─────┼──────────┤\n",
      "│ X_1 │ Y_1 │   0.2500 │\n",
      "╘═════╧═════╧══════════╛\n"
     ]
    }
   ],
   "source": [
    "j2 = JPD(['X', 'Y'], [2, 2], np.array([2, 4, 3, 3]) / 12)\n",
    "print(j1) # 위에 있는 테이블 구현"
   ]
  },
  {
   "cell_type": "markdown",
   "metadata": {},
   "source": [
    "#### ``연습 문제 2``\n",
    "\n",
    "위에서 구현한 `JointProbabilityDistribution` 클래스 객체 `j2`로부터 주변 확률 모형 및 조건부 확률 모형을 구하라. 또 `check_independence` 메서드를 이용하여 사건 A, B의 독립을 확인하라."
   ]
  },
  {
   "cell_type": "code",
   "execution_count": 8,
   "metadata": {},
   "outputs": [
    {
     "data": {
      "text/plain": [
       "False"
      ]
     },
     "execution_count": 8,
     "metadata": {},
     "output_type": "execute_result"
    }
   ],
   "source": [
    "j2.check_independence(['X'], ['Y'])"
   ]
  }
 ],
 "metadata": {
  "kernelspec": {
   "display_name": "Python 3",
   "language": "python",
   "name": "python3"
  },
  "language_info": {
   "codemirror_mode": {
    "name": "ipython",
    "version": 3
   },
   "file_extension": ".py",
   "mimetype": "text/x-python",
   "name": "python",
   "nbconvert_exporter": "python",
   "pygments_lexer": "ipython3",
   "version": "3.6.4"
  }
 },
 "nbformat": 4,
 "nbformat_minor": 2
}
