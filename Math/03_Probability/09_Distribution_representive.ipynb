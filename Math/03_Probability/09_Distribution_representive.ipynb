{
 "cells": [
  {
   "cell_type": "markdown",
   "metadata": {},
   "source": [
    "### 1. 분포의 대표값"
   ]
  },
  {
   "cell_type": "markdown",
   "metadata": {},
   "source": [
    "1) 분포 (distribution)"
   ]
  },
  {
   "cell_type": "markdown",
   "metadata": {},
   "source": [
    "- 데이터 전체의 특성을 나타내는 것\n",
    "- 히스토그램 등의 시각화 방법 또는 분포 함수 등의 수식을 사용하여 분포의 특성을 살펴봄"
   ]
  },
  {
   "cell_type": "markdown",
   "metadata": {},
   "source": [
    "2) 대표값"
   ]
  },
  {
   "cell_type": "markdown",
   "metadata": {},
   "source": [
    "- 분포를 하나의 숫자로 대표할 수 있는 값\n",
    "- 전체적인 특성을 나타낼 수 있는 몇개의 수치를 구한다면 분포의 특성을 빠르게 파악가능"
   ]
  },
  {
   "cell_type": "markdown",
   "metadata": {},
   "source": [
    "### 2. 샘플 평균 (Sample mean)"
   ]
  },
  {
   "cell_type": "markdown",
   "metadata": {},
   "source": [
    "1) 공식 (샘플 하나의 평균)"
   ]
  },
  {
   "cell_type": "markdown",
   "metadata": {},
   "source": [
    "$$ m = \\bar{x} = \\dfrac{1}{N}\\sum_{i=1}^{N} x_i$$"
   ]
  },
  {
   "cell_type": "markdown",
   "metadata": {},
   "source": [
    "2) 자료가 어떤 확률 분포를 따르는 확률 변수 X의 샘플일때 (샘플들의 평균)"
   ]
  },
  {
   "cell_type": "markdown",
   "metadata": {},
   "source": [
    "$$ \\bar{X} = \\dfrac{1}{N}\\sum_{i=1}^{N} X_i $$"
   ]
  },
  {
   "cell_type": "markdown",
   "metadata": {},
   "source": [
    "[1] 샘플링을 해서 나온 자료의 집합에서 구한 샘플 평균 $\\bar{X}$이 있다고 가정\n",
    "\n",
    "[2] 샘플링을 다시 해서 또 른 자료 값의 집합을 구하면 이 자료는 먼저 자료와 달라짐\n",
    "\n",
    "[3] 따라서 여기서 구한 샘플 평균은 앞서 구한 샘플 평균관 값이 달라짐\n",
    "\n",
    "[4] 원래의 확률 변수 $X$와는 다른 분포의 형태를 가짐"
   ]
  },
  {
   "cell_type": "markdown",
   "metadata": {},
   "source": [
    "### 3. 확률 분포의 기대값 (Expectation)"
   ]
  },
  {
   "cell_type": "markdown",
   "metadata": {},
   "source": [
    "1) 정의"
   ]
  },
  {
   "cell_type": "markdown",
   "metadata": {},
   "source": [
    "- 확률모형, 정확히 확률 밀도 함수를 알고 있을 경우에 이론적인 평균을 구하는 것\n",
    "- 확률 모형이 존재한다는 것이 문맥상 확실한 경우 단순히 평균(mean)이라고 말하기도 함"
   ]
  },
  {
   "cell_type": "markdown",
   "metadata": {},
   "source": [
    "2) 공식"
   ]
  },
  {
   "cell_type": "markdown",
   "metadata": {},
   "source": [
    "[1] 이산형"
   ]
  },
  {
   "cell_type": "markdown",
   "metadata": {},
   "source": [
    "$$ \\mu = \\operatorname{E}[X] = \\sum xP(x) $$"
   ]
  },
  {
   "cell_type": "markdown",
   "metadata": {},
   "source": [
    "[2] 연속형"
   ]
  },
  {
   "cell_type": "markdown",
   "metadata": {},
   "source": [
    "$$ \\mu_X = \\mu = \\operatorname{E}[X] = \\int_{-\\infty}^{\\infty} x f(x) dx $$"
   ]
  },
  {
   "cell_type": "markdown",
   "metadata": {},
   "source": [
    "- 기대값은 확률 $P(x)$ 또는 확률밀도 $f(x)$를 가중치로 하는 $x$의 가중합\n",
    "- $x$값에 $P(x)$라는 가중치를 곱해서 구함\n",
    "- 확률의 값이 1보다 작기 때문에 가중 평균이라고도 할 수 있음"
   ]
  },
  {
   "cell_type": "markdown",
   "metadata": {},
   "source": [
    "3) 성질"
   ]
  },
  {
   "cell_type": "markdown",
   "metadata": {},
   "source": [
    "[1] $ \\operatorname{E}[c] = c$\n",
    "\n",
    "[2] $\\begin{align}\\operatorname{E}[cX]&= c \\operatorname{E}[X]\\end{align}$\n",
    "\n",
    "[3] $\\begin{align}\\operatorname{E}[X + Y] &= \\operatorname{E}[X] + \\operatorname{E}[Y] \\end{align}$"
   ]
  },
  {
   "cell_type": "markdown",
   "metadata": {},
   "source": [
    "4) 독립인 두 확률 변수의 기대값"
   ]
  },
  {
   "cell_type": "markdown",
   "metadata": {},
   "source": [
    "$$ \\text{E}\\left[ (X-\\mu_X)(Y-\\mu_Y) \\right] = 0 $$"
   ]
  },
  {
   "cell_type": "code",
   "execution_count": 4,
   "metadata": {},
   "outputs": [],
   "source": [
    "# 기대값 구하기\n",
    "np.random.seed(0)\n",
    "x = np.random.normal(size=1000)"
   ]
  },
  {
   "cell_type": "code",
   "execution_count": 5,
   "metadata": {},
   "outputs": [
    {
     "data": {
      "text/plain": [
       "-0.045256707490195384"
      ]
     },
     "execution_count": 5,
     "metadata": {},
     "output_type": "execute_result"
    }
   ],
   "source": [
    "np.mean(x)"
   ]
  },
  {
   "cell_type": "markdown",
   "metadata": {},
   "source": [
    "### 4. 기대값과 샘플 평균의 관계"
   ]
  },
  {
   "cell_type": "markdown",
   "metadata": {},
   "source": [
    "- 기대값은 기계의 특성, pdf의 특성을 이용하는 것이기 때문에 변하지 않음\n",
    "- 샘플은 뽑을때마다 다를 수 있기 때문에 변함"
   ]
  },
  {
   "cell_type": "markdown",
   "metadata": {},
   "source": [
    "$$ \\operatorname{E}[ \\bar{X} ] = \\operatorname{E}[X] $$"
   ]
  },
  {
   "cell_type": "markdown",
   "metadata": {},
   "source": [
    "(증명)\n",
    "\n",
    "$$ \n",
    "\\begin{eqnarray}\n",
    "\\operatorname{E}[\\bar{X}] \n",
    "&=& \\operatorname{E}\\left[\\dfrac{1}{N}\\sum_{1}^{N}X_i \\right]  \\\\\\\\\n",
    "&=& \\dfrac{1}{N}\\sum_{1}^{N}\\operatorname{E}[X_i]  \\\\\\\\\n",
    "&=& \\dfrac{1}{N}\\sum_{1}^{N}\\operatorname{E}[X]  \\\\\\\\\n",
    "&=& \\dfrac{1}{N} N \\operatorname{E}[X]\\;\\; (\\because X_i\\;와\\;X는\\;대표값이\\;동일)\\\\ \\\\\n",
    "&=& \\operatorname{E}[X]  \\\\\\\\\n",
    "\\end{eqnarray}\n",
    "$$"
   ]
  },
  {
   "cell_type": "markdown",
   "metadata": {},
   "source": [
    "$\\rightarrow$ 결국 앞에서 말한 이상적인 모형에 대한 특성을 조금이나마 알기 위해 이런 행동을 하는 것"
   ]
  },
  {
   "cell_type": "markdown",
   "metadata": {},
   "source": [
    "### 5. 중앙값 (Median)"
   ]
  },
  {
   "cell_type": "markdown",
   "metadata": {},
   "source": [
    "1) 정의 : 자료를 크기별로 정렬하였을 때 가장 중앙에 위치하게 되는 값"
   ]
  },
  {
   "cell_type": "markdown",
   "metadata": {},
   "source": [
    "[1] $N$이 홀수 : 중간값은 $(n + 1)/2$번째 샘플의 값\n",
    "\n",
    "[2] $N$이 짝수 : 중간값은 $n/2$번째 샘플의 값과 $n/2 + 1$번째 샘플의 값의 평균"
   ]
  },
  {
   "cell_type": "markdown",
   "metadata": {},
   "source": [
    "2) 특징"
   ]
  },
  {
   "cell_type": "markdown",
   "metadata": {},
   "source": [
    "값보다 큰 값이 나올 확률과 작은 값이 나올 확률이 동일하게 0.5"
   ]
  },
  {
   "cell_type": "markdown",
   "metadata": {},
   "source": [
    "$$ \\text{median} = F^{-1}(0.5) $$\n",
    "\n",
    "$$ 0.5 = F(\\text{median}) $$"
   ]
  },
  {
   "cell_type": "code",
   "execution_count": 7,
   "metadata": {},
   "outputs": [
    {
     "data": {
      "text/plain": [
       "-0.058028034799627745"
      ]
     },
     "execution_count": 7,
     "metadata": {},
     "output_type": "execute_result"
    }
   ],
   "source": [
    "# 중앙값 구하기\n",
    "np.median(x)"
   ]
  },
  {
   "cell_type": "markdown",
   "metadata": {},
   "source": [
    "### 6. 최빈값 (Mode)"
   ]
  },
  {
   "cell_type": "markdown",
   "metadata": {},
   "source": [
    "1) 정의 : 가장 빈번하게 나올 수 있는 값"
   ]
  },
  {
   "cell_type": "markdown",
   "metadata": {},
   "source": [
    "$$ \\text{mode} = \\arg \\max_x f(x) $$"
   ]
  },
  {
   "cell_type": "markdown",
   "metadata": {},
   "source": [
    "2) 특징 "
   ]
  },
  {
   "cell_type": "markdown",
   "metadata": {},
   "source": [
    "[1] 연속 확률 분포의 경우 확률 밀도의 함수값이 가증 큰 확률 변수의 값 (어느 값이나 0이기 때문)\n",
    "\n",
    "[2] 연속 샘플 자료는 히스토그램과 같이 구간을 분할하여 구간의 대표값으로 카테고리화하여 구함"
   ]
  },
  {
   "cell_type": "code",
   "execution_count": 9,
   "metadata": {},
   "outputs": [
    {
     "data": {
      "text/plain": [
       "(-0.526315789473685, 0.5263157894736832)"
      ]
     },
     "execution_count": 9,
     "metadata": {},
     "output_type": "execute_result"
    }
   ],
   "source": [
    "# 최빈값 구하기\n",
    "ns, bins = np.histogram(x, bins=np.linspace(-10,10,20))\n",
    "M = np.argmax(ns)\n",
    "bins[M], bins[M+1]"
   ]
  },
  {
   "cell_type": "markdown",
   "metadata": {},
   "source": [
    "### 7. 기대값, 중앙값, 최빈값의 비교"
   ]
  },
  {
   "cell_type": "markdown",
   "metadata": {},
   "source": [
    "확률 밀도 함수가 대칭인 경우에는 기댓값, 중앙값, 최빈값이 모두 같음"
   ]
  },
  {
   "cell_type": "markdown",
   "metadata": {},
   "source": [
    "<table class=\"table-bordered\" style=\"width:100%\">\n",
    "  <tr>\n",
    "    <td></td>\n",
    "    <td>기대값</td>\n",
    "    <td>중앙값</td> \n",
    "    <td>최빈값</td>  \n",
    "  </tr>\n",
    "  <tr>\n",
    "    <td>계산</td>\n",
    "    <td>계산하기 쉬움</td>\n",
    "    <td>기대값보다 어려움</td>\n",
    "    <td>제일 어려움 ($\\because$ 최적화)</td>\n",
    "  </tr>\n",
    "  <tr>\n",
    "    <td>이상값 영향</td> \n",
    "    <td>영향을 많이 받음</td>\n",
    "    <td>영향을 적게 받음</td> \n",
    "    <td>영향을 받지 않음</td>  \n",
    "  </tr>\n",
    "</table>"
   ]
  },
  {
   "cell_type": "markdown",
   "metadata": {},
   "source": [
    "### 연습 문제"
   ]
  },
  {
   "cell_type": "markdown",
   "metadata": {},
   "source": [
    "#### ``연습 문제 1``\n",
    "\n",
    "1. NumPy를 사용하여 20개의 숫자를 무작위로 생성한 후 히스토그램을 그리고 샘플 평균을 구한다.\n",
    "2. 1번과 같이 20개의 숫자 생성 및 샘플 평균 계산을 10번 반복하여 10개의 샘플 평균을 구한다.\n",
    "3. 2번에서 구한 샘플 평균의 히스토그램을 그리고 샘플 평균을 구한다. \n",
    "\n"
   ]
  },
  {
   "cell_type": "code",
   "execution_count": 14,
   "metadata": {},
   "outputs": [
    {
     "data": {
      "text/plain": [
       "54.15"
      ]
     },
     "execution_count": 14,
     "metadata": {},
     "output_type": "execute_result"
    }
   ],
   "source": [
    "rand1 = np.random.randint(0, 100, 20)\n",
    "np.mean(rand1)"
   ]
  },
  {
   "cell_type": "code",
   "execution_count": 20,
   "metadata": {},
   "outputs": [
    {
     "data": {
      "text/plain": [
       "51.144999999999996"
      ]
     },
     "execution_count": 20,
     "metadata": {},
     "output_type": "execute_result"
    }
   ],
   "source": [
    "rand2 = np.random.randint(0, 100, 20)\n",
    "rand3 = np.random.randint(0, 100, 20)\n",
    "rand4 = np.random.randint(0, 100, 20)\n",
    "rand5 = np.random.randint(0, 100, 20)\n",
    "rand6 = np.random.randint(0, 100, 20)\n",
    "rand7 = np.random.randint(0, 100, 20)\n",
    "rand8 = np.random.randint(0, 100, 20)\n",
    "rand9 = np.random.randint(0, 100, 20)\n",
    "rand10 = np.random.randint(0, 100, 20)\n",
    "rand11 = np.random.randint(0, 100, 20)\n",
    "\n",
    "rand_rand = np.mean((rand2 + rand3 + rand4 + rand5 + rand6 + \n",
    "                     rand7 + rand8 + rand9 + rand10 + rand11) / 10)\n",
    "rand_rand"
   ]
  }
 ],
 "metadata": {
  "kernelspec": {
   "display_name": "Python 3",
   "language": "python",
   "name": "python3"
  },
  "language_info": {
   "codemirror_mode": {
    "name": "ipython",
    "version": 3
   },
   "file_extension": ".py",
   "mimetype": "text/x-python",
   "name": "python",
   "nbconvert_exporter": "python",
   "pygments_lexer": "ipython3",
   "version": "3.6.4"
  }
 },
 "nbformat": 4,
 "nbformat_minor": 2
}
