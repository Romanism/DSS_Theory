{
 "cells": [
  {
   "cell_type": "markdown",
   "metadata": {},
   "source": [
    "### 벡터와 행렬의 연산"
   ]
  },
  {
   "cell_type": "markdown",
   "metadata": {},
   "source": [
    "- 행렬의 연산을 이용하면 대량의 데이터에 대한 계산을 간단한 수식으로 나타낼 수 있음\n",
    "- 행렬의 연산은 일반적인 사칙연산과는 다른점이 있으니 유의해야 함"
   ]
  },
  {
   "cell_type": "markdown",
   "metadata": {},
   "source": [
    "### 1. 벡터와 행렬의 덧셈과 뺄셈"
   ]
  },
  {
   "cell_type": "markdown",
   "metadata": {},
   "source": [
    "- 같은 크기(형태)를 가져야 덧셈과 뺄셈이 가능함 \n",
    "- 같은 위치에 있는 원소끼리 계산"
   ]
  },
  {
   "cell_type": "markdown",
   "metadata": {},
   "source": [
    "1) 벡터의 덧셈과 뺄셈"
   ]
  },
  {
   "cell_type": "markdown",
   "metadata": {},
   "source": [
    "$$\n",
    "x + y =\n",
    "\\begin{bmatrix}\n",
    "10 \\\\\n",
    "11 \\\\\n",
    "12 \\\\\n",
    "\\end{bmatrix}\n",
    "+\n",
    "\\begin{bmatrix}\n",
    "0 \\\\\n",
    "1 \\\\\n",
    "2 \\\\\n",
    "\\end{bmatrix}\n",
    "=\n",
    "\\begin{bmatrix}\n",
    "10 + 0 \\\\\n",
    "11 + 1 \\\\\n",
    "12 + 2 \\\\\n",
    "\\end{bmatrix}\n",
    "=\n",
    "\\begin{bmatrix}\n",
    "10 \\\\\n",
    "12 \\\\\n",
    "14 \\\\\n",
    "\\end{bmatrix}\n",
    "$$"
   ]
  },
  {
   "cell_type": "markdown",
   "metadata": {},
   "source": [
    "$$\n",
    "x - y =\n",
    "\\begin{bmatrix}\n",
    "10 \\\\\n",
    "11 \\\\\n",
    "12 \\\\\n",
    "\\end{bmatrix}\n",
    "-\n",
    "\\begin{bmatrix}\n",
    "0 \\\\\n",
    "1 \\\\\n",
    "2 \\\\\n",
    "\\end{bmatrix}\n",
    "=\n",
    "\\begin{bmatrix}\n",
    "10 - 0 \\\\\n",
    "11 - 1 \\\\\n",
    "12 - 2 \\\\\n",
    "\\end{bmatrix}\n",
    "=\n",
    "\\begin{bmatrix}\n",
    "10 \\\\\n",
    "10 \\\\\n",
    "10 \\\\\n",
    "\\end{bmatrix}\n",
    "$$"
   ]
  },
  {
   "cell_type": "code",
   "execution_count": 1,
   "metadata": {},
   "outputs": [],
   "source": [
    "# NumPy로 계산\n",
    "x = np.array([10, 11, 12, 13, 14])\n",
    "y = np.array([0, 1, 2, 3, 4])"
   ]
  },
  {
   "cell_type": "code",
   "execution_count": 2,
   "metadata": {},
   "outputs": [
    {
     "name": "stdout",
     "output_type": "stream",
     "text": [
      "[10 12 14 16 18]\n",
      "[10 10 10 10 10]\n"
     ]
    }
   ],
   "source": [
    "print(x + y)\n",
    "print(x - y)"
   ]
  },
  {
   "cell_type": "markdown",
   "metadata": {},
   "source": [
    "2) 행렬의 덧셈과 뺄셈"
   ]
  },
  {
   "cell_type": "markdown",
   "metadata": {},
   "source": [
    "$$\n",
    "x + y =\n",
    "\\begin{bmatrix}\n",
    "5 & 6 \\\\\n",
    "7 & 8\n",
    "\\end{bmatrix}\n",
    "+\n",
    "\\begin{bmatrix}\n",
    "10 & 20 \\\\\n",
    "30 & 40 \\\\\n",
    "\\end{bmatrix}\n",
    "=\n",
    "\\begin{bmatrix}\n",
    "15 & 26 \\\\\n",
    "37 & 48\n",
    "\\end{bmatrix}\n",
    "$$"
   ]
  },
  {
   "cell_type": "markdown",
   "metadata": {},
   "source": [
    "$$\n",
    "x - y =\n",
    "\\begin{bmatrix}\n",
    "5 & 6 \\\\\n",
    "7 & 8\n",
    "\\end{bmatrix}\n",
    "-\n",
    "\\begin{bmatrix}\n",
    "10 & 20 \\\\\n",
    "30 & 40 \\\\\n",
    "\\end{bmatrix}\n",
    "=\n",
    "\\begin{bmatrix}\n",
    "-5 & -14 \\\\\n",
    "-23 & -32\n",
    "\\end{bmatrix}\n",
    "$$"
   ]
  },
  {
   "cell_type": "code",
   "execution_count": 3,
   "metadata": {},
   "outputs": [],
   "source": [
    "# NumPy로 계산\n",
    "x = np.array([[5, 6], [7, 8]])\n",
    "y = np.array([[10, 20], [30, 40]])"
   ]
  },
  {
   "cell_type": "code",
   "execution_count": 4,
   "metadata": {},
   "outputs": [
    {
     "name": "stdout",
     "output_type": "stream",
     "text": [
      "[[15 26]\n",
      " [37 48]]\n",
      "[[ -5 -14]\n",
      " [-23 -32]]\n"
     ]
    }
   ],
   "source": [
    "print(x + y)\n",
    "print(x - y)"
   ]
  },
  {
   "cell_type": "markdown",
   "metadata": {},
   "source": [
    "### 2. 스칼라와 벡터/행렬의 곱셈"
   ]
  },
  {
   "cell_type": "markdown",
   "metadata": {},
   "source": [
    "벡터/행렬에 스칼라 $c$를 곱하는 것 = 벡터/행렬의 모든 원소에 $c$를 곱하는 것"
   ]
  },
  {
   "cell_type": "markdown",
   "metadata": {},
   "source": [
    "1) 벡터 X 스칼라"
   ]
  },
  {
   "cell_type": "markdown",
   "metadata": {},
   "source": [
    "$$\n",
    "c\n",
    "\\begin{bmatrix}\n",
    "x_1 \\\\\n",
    "x_2\n",
    "\\end{bmatrix}\n",
    "=\n",
    "\\begin{bmatrix}\n",
    "cx_1 \\\\\n",
    "cx_2\n",
    "\\end{bmatrix}\n",
    "$$"
   ]
  },
  {
   "cell_type": "code",
   "execution_count": 5,
   "metadata": {},
   "outputs": [
    {
     "data": {
      "text/plain": [
       "array([[6],\n",
       "       [9]])"
      ]
     },
     "execution_count": 5,
     "metadata": {},
     "output_type": "execute_result"
    }
   ],
   "source": [
    "# NumPy로 계산 (np.dot)\n",
    "c = 3\n",
    "x = np.array([[2], [3]])\n",
    "np.dot(c, x)"
   ]
  },
  {
   "cell_type": "markdown",
   "metadata": {},
   "source": [
    "2) 행렬 X 스칼라"
   ]
  },
  {
   "cell_type": "markdown",
   "metadata": {},
   "source": [
    "$$\n",
    "c\n",
    "\\begin{bmatrix}\n",
    "a_{11} & a_{12} \\\\\n",
    "a_{21} & a_{22}\n",
    "\\end{bmatrix}\n",
    "=\n",
    "\\begin{bmatrix}\n",
    "ca_{11} & ca_{12} \\\\\n",
    "ca_{21} & ca_{22}\n",
    "\\end{bmatrix}\n",
    "$$"
   ]
  },
  {
   "cell_type": "code",
   "execution_count": 6,
   "metadata": {},
   "outputs": [
    {
     "data": {
      "text/plain": [
       "array([[ 3,  6],\n",
       "       [ 9, 12]])"
      ]
     },
     "execution_count": 6,
     "metadata": {},
     "output_type": "execute_result"
    }
   ],
   "source": [
    "# NumPy로 계산 \n",
    "c = 3\n",
    "X = np.array([[1, 2], [3, 4]])\n",
    "np.dot(c, X)"
   ]
  },
  {
   "cell_type": "markdown",
   "metadata": {},
   "source": [
    "### 3. 선형 조합(Linear combination)"
   ]
  },
  {
   "cell_type": "markdown",
   "metadata": {},
   "source": [
    "- 벡터/행렬에 스칼라 값을 곱한 후 더하거나 뺀 것을 의미\n",
    "- 백터나 행렬을 선형 조합해도 크기는 변하지 않음"
   ]
  },
  {
   "cell_type": "markdown",
   "metadata": {},
   "source": [
    "1) 벡터의 선형 조합"
   ]
  },
  {
   "cell_type": "markdown",
   "metadata": {},
   "source": [
    "$$c_1x_1 + c_2x_2 + c_2x_2 + \\cdots + c_Lx_L = x$$"
   ]
  },
  {
   "cell_type": "markdown",
   "metadata": {},
   "source": [
    "2) 행렬의 선형 조합"
   ]
  },
  {
   "cell_type": "markdown",
   "metadata": {},
   "source": [
    "$$c_1A_1 + c_2A_2 + c_2A_2 + \\cdots + c_LA_L = A$$"
   ]
  },
  {
   "cell_type": "markdown",
   "metadata": {},
   "source": [
    "### 4. 벡터와 벡터의 곱셈 "
   ]
  },
  {
   "cell_type": "markdown",
   "metadata": {},
   "source": [
    "1) 정의"
   ]
  },
  {
   "cell_type": "markdown",
   "metadata": {},
   "source": [
    "- 내적(inner product)과 외적(outer product)에서 내적만 다루기로 함\n",
    "- 내적은 점(dot)으로 표기하는 경우도 있어서 dot product라고도 함"
   ]
  },
  {
   "cell_type": "markdown",
   "metadata": {},
   "source": [
    "$$ x^T y $$ "
   ]
  },
  {
   "cell_type": "markdown",
   "metadata": {},
   "source": [
    "$$x \\cdot y = \\, < x, y > \\, = x^T y  $$"
   ]
  },
  {
   "cell_type": "markdown",
   "metadata": {},
   "source": [
    "2) 조건"
   ]
  },
  {
   "cell_type": "markdown",
   "metadata": {},
   "source": [
    "- 두 벡터의 길이가 같아야 함\n",
    "- 앞의 벡터가 행 벡터(ㅡ), 뒤의 벡터가 열 벡터( | )"
   ]
  },
  {
   "cell_type": "markdown",
   "metadata": {},
   "source": [
    "$$\n",
    "x^T y = \n",
    "\\begin{bmatrix}\n",
    "x_{1} & x_{2} & \\cdots & x_{N} \n",
    "\\end{bmatrix}\n",
    "\\begin{bmatrix}\n",
    "y_{1} \\\\\n",
    "y_{2} \\\\\n",
    "\\vdots \\\\\n",
    "y_{N} \\\\\n",
    "\\end{bmatrix} \n",
    "= x_1 y_1 + \\cdots + x_N y_N \n",
    "= \\sum_{i=1}^N x_i y_i\n",
    "$$"
   ]
  },
  {
   "cell_type": "markdown",
   "metadata": {},
   "source": [
    "3) 벡터의 내적이 쓰이는 예"
   ]
  },
  {
   "cell_type": "markdown",
   "metadata": {},
   "source": [
    "(1) 가중합 - 각각의 수에 가중치 값을 곱한 후 그 결과들을 더한 것을 의미"
   ]
  },
  {
   "cell_type": "markdown",
   "metadata": {},
   "source": [
    "데이터가 $x=[x_1, \\cdots, x_N]^T$ 이고 가중치가 $w=[w_1, \\cdots, w_N]^T$ 일때"
   ]
  },
  {
   "cell_type": "markdown",
   "metadata": {},
   "source": [
    "$$ w_1 x_1 + \\cdots + w_N x_N = \\sum_{i=1}^N w_i x_i $$ "
   ]
  },
  {
   "cell_type": "markdown",
   "metadata": {},
   "source": [
    "$$\n",
    "x^T w = \n",
    "\\begin{bmatrix}\n",
    "1 & 2 & 3\n",
    "\\end{bmatrix}\n",
    "\\begin{bmatrix}\n",
    "4 \\\\ 5 \\\\ 6 \\\\\n",
    "\\end{bmatrix} \n",
    "= 1 \\cdot 4 + 2 \\cdot 5 + 3 \\cdot 6 = 32\n",
    "$$"
   ]
  },
  {
   "cell_type": "code",
   "execution_count": 7,
   "metadata": {},
   "outputs": [
    {
     "data": {
      "text/plain": [
       "32"
      ]
     },
     "execution_count": 7,
     "metadata": {},
     "output_type": "execute_result"
    }
   ],
   "source": [
    "# 벡터 가중합\n",
    "x = np.array([[1], [2], [3]])\n",
    "w = np.array([[4], [5], [6]])\n",
    "np.dot(x.T, w)[0, 0]"
   ]
  },
  {
   "cell_type": "markdown",
   "metadata": {},
   "source": [
    "(2) 가중평균 - 가중합의 가중치 값을 전체 가중치 값의 합으로 나누면 됨 "
   ]
  },
  {
   "cell_type": "markdown",
   "metadata": {},
   "source": [
    "ex) 학점\n",
    "$$ \n",
    "\\dfrac{\\text{학점과 점수의 가중합}}{\\text{학점의 총합}} = \n",
    "\\dfrac{1}{1 + 3} \\times 100 + \\dfrac{3}{1 + 3} \\times 60\n",
    "= 70 \n",
    "$$"
   ]
  },
  {
   "cell_type": "markdown",
   "metadata": {},
   "source": [
    "(3) 유사도(Similarity)"
   ]
  },
  {
   "cell_type": "markdown",
   "metadata": {},
   "source": [
    "- 두 벡터가 닮은 정도를 수치적으로 나타낸 값\n",
    "- 많이 닮은 경우에는 값이 커지고 닮지 않은 경우에는 작아짐 "
   ]
  },
  {
   "cell_type": "code",
   "execution_count": 8,
   "metadata": {},
   "outputs": [],
   "source": [
    "from sklearn.datasets import load_digits\n",
    "import matplotlib as mpl\n",
    "import matplotlib.pyplot as plt\n",
    "%matplotlib inline\n",
    "%config InlineBackend.figure_formats = {'png', 'retina'}"
   ]
  },
  {
   "cell_type": "code",
   "execution_count": 9,
   "metadata": {},
   "outputs": [],
   "source": [
    "digits = load_digits()\n",
    "d0 = digits.images[0] # (8,8) 행렬 데이터를 가져옴\n",
    "d1 = digits.images[1]\n",
    "v0 = d0.reshape(64, 1) # (64,1) 행렬로 변환\n",
    "v1 = d1.reshape(64, 1)"
   ]
  },
  {
   "cell_type": "code",
   "execution_count": 10,
   "metadata": {},
   "outputs": [
    {
     "data": {
      "image/png": "[encoded data removed]",
      "text/plain": [
       "<matplotlib.figure.Figure at 0x1168e5438>"
      ]
     },
     "metadata": {
      "image/png": {
       "height": 81,
       "width": 854
      }
     },
     "output_type": "display_data"
    }
   ],
   "source": [
    "f, ax = plt.subplots(2, 1, figsize=(12, 2))\n",
    "ax[0].imshow(v0.T, interpolation='nearest', cmap=plt.cm.bone_r)\n",
    "ax[0].grid(False); ax[0].set_xticks([]); ax[0].set_yticks([]); ax[0].set_ylabel(\"0\")\n",
    "ax[1].imshow(v1.T, interpolation='nearest', cmap=plt.cm.bone_r)\n",
    "ax[1].grid(False); ax[1].set_xticks([]); ax[1].set_yticks([]); ax[1].set_ylabel(\"0\")\n",
    "plt.tight_layout()\n",
    "plt.show()"
   ]
  },
  {
   "cell_type": "code",
   "execution_count": 11,
   "metadata": {},
   "outputs": [
    {
     "data": {
      "text/plain": [
       "array([[1866.]])"
      ]
     },
     "execution_count": 11,
     "metadata": {},
     "output_type": "execute_result"
    }
   ],
   "source": [
    "# v0과 v1의 벡터의 내적\n",
    "np.dot(v0.T, v1)"
   ]
  },
  {
   "cell_type": "markdown",
   "metadata": {},
   "source": [
    "(4) 선형회귀모형 (Linear regression model)"
   ]
  },
  {
   "cell_type": "markdown",
   "metadata": {},
   "source": [
    "- 독립변수 $x$로 종속변수 $y$를 예측하기 위한 방법\n",
    "- 독립변수인 벡터 $x$와 가중치 벡터 $w$의 가중합으로 $y$를 구하는 것\n",
    "- 가장 단순하면서도 가장 널리 쓰이는 예측 모형\n",
    "- 실제로는 정확한 $y$를 구하는 것이 힘듦"
   ]
  },
  {
   "cell_type": "markdown",
   "metadata": {},
   "source": [
    "$$ \\hat{y}\\;(y hat) = w_1 x_1 + \\cdots + w_N x_N = w^Tx $$"
   ]
  },
  {
   "cell_type": "markdown",
   "metadata": {},
   "source": [
    "ex) $ \\hat{y} = 500 x_1 + 200 x_2 + 1000 x_3 $ 에서"
   ]
  },
  {
   "cell_type": "markdown",
   "metadata": {},
   "source": [
    "$$ \\hat{y} = \\begin{bmatrix} 500 & 200 & 1000 \\end{bmatrix} \\begin{bmatrix} x_1 \\\\ x_2 \\\\ x_3 \\end{bmatrix} = w^T x $$"
   ]
  },
  {
   "cell_type": "markdown",
   "metadata": {},
   "source": [
    "$$ w^T = \\begin{bmatrix} 500 & 200 & 1000 \\end{bmatrix} $$"
   ]
  },
  {
   "cell_type": "markdown",
   "metadata": {},
   "source": [
    "벡터의 선형조합은 다양한 분야에 응용 "
   ]
  },
  {
   "cell_type": "code",
   "execution_count": 12,
   "metadata": {},
   "outputs": [
    {
     "data": {
      "image/png": "[encoded data removed]",
      "text/plain": [
       "<matplotlib.figure.Figure at 0x1168e5128>"
      ]
     },
     "metadata": {
      "image/png": {
       "height": 144,
       "width": 370
      }
     },
     "output_type": "display_data"
    }
   ],
   "source": [
    "from sklearn.datasets import fetch_olivetti_faces\n",
    "faces = fetch_olivetti_faces()\n",
    "\n",
    "f, ax = plt.subplots(1, 3)\n",
    "ax[0].imshow(faces.images[0])\n",
    "ax[0].grid(False)\n",
    "ax[0].set_title(\"x1\")\n",
    "ax[1].imshow(faces.images[10])\n",
    "ax[1].grid(False)\n",
    "ax[1].set_title(\"x2\")\n",
    "ax[2].imshow(0.6 * faces.images[0] + 0.4 * faces.images[10])\n",
    "ax[2].grid(False)\n",
    "ax[2].set_title(\"0.6x1 + 0.4x2\")\n",
    "plt.show()"
   ]
  },
  {
   "cell_type": "markdown",
   "metadata": {},
   "source": [
    "(5) 제곱합 : 분산이나 표준편차를 구하는 과정에서 이용"
   ]
  },
  {
   "cell_type": "markdown",
   "metadata": {},
   "source": [
    "$$\n",
    "x^T x = \n",
    "\\begin{bmatrix}\n",
    "x_{1} & x_{2} & \\cdots & x_{N} \n",
    "\\end{bmatrix}\n",
    "\\begin{bmatrix}\n",
    "x_{1} \\\\\n",
    "x_{2} \\\\\n",
    "\\vdots \\\\\n",
    "x_{N} \\\\\n",
    "\\end{bmatrix} = \\sum_{i=1}^{N} x_i^2\n",
    "$$"
   ]
  },
  {
   "cell_type": "markdown",
   "metadata": {},
   "source": [
    "### 5. 행렬과 행렬의 곱셈"
   ]
  },
  {
   "cell_type": "markdown",
   "metadata": {},
   "source": [
    "행렬과 행렬의 곱이 성립하기 위한 조건 :  (n x l) x (l x m) = (n x m)"
   ]
  },
  {
   "cell_type": "markdown",
   "metadata": {},
   "source": [
    "$$ C = AB \\; \\rightarrow \\; c_{ij} = a_i^T b_j $$"
   ]
  },
  {
   "cell_type": "markdown",
   "metadata": {},
   "source": [
    "$$\\begin{bmatrix}\n",
    "1 & 2 & 3 \\\\\n",
    "4 & 5 & 6\n",
    "\\end{bmatrix}\n",
    "*\n",
    "\\begin{bmatrix}\n",
    "1 & 2 \\\\\n",
    "3 & 4 \\\\\n",
    "5 & 6\n",
    "\\end{bmatrix}\n",
    "=\n",
    "\\begin{bmatrix}\n",
    "22 & 28 \\\\\n",
    "49 & 64\n",
    "\\end{bmatrix}$$ "
   ]
  },
  {
   "cell_type": "code",
   "execution_count": 13,
   "metadata": {},
   "outputs": [
    {
     "data": {
      "text/plain": [
       "array([[22, 28],\n",
       "       [49, 64]])"
      ]
     },
     "execution_count": 13,
     "metadata": {},
     "output_type": "execute_result"
    }
   ],
   "source": [
    "A = np.array([[1, 2, 3], [4, 5, 6]])\n",
    "B = np.array([[1, 2], [3, 4], [5, 6]])\n",
    "C = np.dot(A, B)\n",
    "C"
   ]
  },
  {
   "cell_type": "markdown",
   "metadata": {},
   "source": [
    "### 6. 교환 법칙과 분배 법칙"
   ]
  },
  {
   "cell_type": "markdown",
   "metadata": {},
   "source": [
    "1) $ AB \\neq BA $"
   ]
  },
  {
   "cell_type": "markdown",
   "metadata": {},
   "source": [
    "2) $ AB + AC $"
   ]
  },
  {
   "cell_type": "markdown",
   "metadata": {},
   "source": [
    "3) $(A + B)^T = A^T + B^T $"
   ]
  },
  {
   "cell_type": "markdown",
   "metadata": {},
   "source": [
    "4) $ (AB)^T = B^T A^T $, $ (ABC)^T = C^T B^T A^T $"
   ]
  },
  {
   "cell_type": "markdown",
   "metadata": {},
   "source": [
    "### 7. 곱셈의 연결"
   ]
  },
  {
   "cell_type": "markdown",
   "metadata": {},
   "source": [
    "1) $ ABC = (AB)C = A(BC) $"
   ]
  },
  {
   "cell_type": "markdown",
   "metadata": {},
   "source": [
    "2) $ ABCD = ((AB)C)D = (AB)(CD) = A(BCD) = A(BC)D $"
   ]
  },
  {
   "cell_type": "markdown",
   "metadata": {},
   "source": [
    "### 8. 단위 행렬의 곱셈"
   ]
  },
  {
   "cell_type": "markdown",
   "metadata": {},
   "source": [
    "어떤 정방 행렬이든 단위 행렬을 곱하면 그 행렬의 값이 변하지 않음"
   ]
  },
  {
   "cell_type": "markdown",
   "metadata": {},
   "source": [
    "$$ AI = IA = A $$"
   ]
  },
  {
   "cell_type": "markdown",
   "metadata": {},
   "source": [
    "### 9. 여러개의 벡터에 대한 가중합 동시 계산"
   ]
  },
  {
   "cell_type": "markdown",
   "metadata": {},
   "source": [
    "$$\n",
    "\\begin{eqnarray}\n",
    "\\hat{y} = \n",
    "\\begin{bmatrix}\n",
    "\\hat{y}_1 \\\\\n",
    "\\hat{y}_2 \\\\\n",
    "\\vdots \\\\\n",
    "\\hat{y}_M \\\\\n",
    "\\end{bmatrix}\n",
    "&=& \n",
    "\\begin{bmatrix}\n",
    "w_1 x_{1,1} + w_2 x_{1,2} + \\cdots + w_N x_{1,N} \\\\\n",
    "w_1 x_{2,1} + w_2 x_{2,2} + \\cdots + w_N x_{2,N} \\\\\n",
    "\\vdots  \\\\\n",
    "w_1 x_{M,1} + w_2 x_{M,2} + \\cdots + w_N x_{M,N} \\\\\n",
    "\\end{bmatrix}\n",
    "\\\\\n",
    "\\\\\n",
    "&=& \n",
    "\\begin{bmatrix}\n",
    "x_{1,1} & x_{1,2} & \\cdots & x_{1,N} \\\\\n",
    "x_{2,1} & x_{2,2} & \\cdots & x_{2,N} \\\\\n",
    "\\vdots  & \\vdots  & \\vdots & \\vdots \\\\\n",
    "x_{M,1} & x_{M,2} & \\cdots & x_{M,N} \\\\\n",
    "\\end{bmatrix}\n",
    "\\begin{bmatrix}\n",
    "w_1 \\\\ w_2 \\\\ \\vdots \\\\ w_N\n",
    "\\end{bmatrix}\n",
    "\\\\\n",
    "\\\\\n",
    "&=& \n",
    "\\begin{bmatrix}\n",
    "x_1^T \\\\\n",
    "x_2^T \\\\\n",
    "\\vdots \\\\\n",
    "x_M^T \\\\\n",
    "\\end{bmatrix}\n",
    "\\begin{bmatrix}\n",
    "w_1 \\\\ w_2 \\\\ \\vdots \\\\ w_N\n",
    "\\end{bmatrix}\n",
    "\\\\\n",
    "\\\\\n",
    "&=& X w \n",
    "\\end{eqnarray}\n",
    "$$\n",
    "\n",
    "즉,  $$ \\hat{y} = Xw $$"
   ]
  },
  {
   "cell_type": "markdown",
   "metadata": {},
   "source": [
    "### 10. 잔차 (Residual)"
   ]
  },
  {
   "cell_type": "markdown",
   "metadata": {},
   "source": [
    "예측치($\\hat{y}$) 와 실제 값($y_i$) 의 차이를 오차(error) 또는 잔차(residual) $e_i$라고 함"
   ]
  },
  {
   "cell_type": "markdown",
   "metadata": {},
   "source": [
    "$$ e_i = y_i - \\hat{y}_i  = y_i - w^Tx_i$$"
   ]
  },
  {
   "cell_type": "markdown",
   "metadata": {},
   "source": [
    "$$\n",
    "\\begin{eqnarray}\n",
    "e &=&\n",
    "\\begin{bmatrix}\n",
    "e_{1} \\\\\n",
    "e_{2} \\\\\n",
    "\\vdots \\\\\n",
    "e_{M} \\\\\n",
    "\\end{bmatrix}\n",
    "\\\\ \n",
    "\\\\ \n",
    "&=&\n",
    "\\begin{bmatrix}\n",
    "y_{1} \\\\\n",
    "y_{2} \\\\\n",
    "\\vdots \\\\\n",
    "y_{M} \\\\\n",
    "\\end{bmatrix}\n",
    "-\n",
    "\\begin{bmatrix}\n",
    "x^T_{1}w \\\\\n",
    "x^T_{2}w \\\\\n",
    "\\vdots \\\\\n",
    "x^T_{M}w \\\\\n",
    "\\end{bmatrix}\n",
    "\\\\\n",
    "\\\\ &=& y - Xw\n",
    "\\end{eqnarray}\n",
    "$$"
   ]
  },
  {
   "cell_type": "markdown",
   "metadata": {},
   "source": [
    "### 11. 잔차 제곱합 (Residual Sum of Squares, RSS)"
   ]
  },
  {
   "cell_type": "markdown",
   "metadata": {},
   "source": [
    "$$\n",
    "\\sum_{i=1}^{N} e_i^2 = \\sum_{i=1}^{N} (y_i - w^Tx_i)^2 = e^Te =  (y - Xw)^T (y - Xw)\n",
    "$$"
   ]
  },
  {
   "cell_type": "markdown",
   "metadata": {},
   "source": [
    "### 12. 이차 형식 (Quadratic Form)"
   ]
  },
  {
   "cell_type": "markdown",
   "metadata": {},
   "source": [
    "어떤 벡터와 정방 행렬이 \"행벡터 x 정방 행렬 x 열벡터\" 의 형식으로 되어 있는 것   ($w^TX^TXw$)"
   ]
  },
  {
   "cell_type": "markdown",
   "metadata": {},
   "source": [
    "$$\n",
    "\\begin{eqnarray}\n",
    "x^T A x \n",
    "&=& \n",
    "\\begin{bmatrix}\n",
    "x_{1} & x_{2} & \\cdots & x_{N} \n",
    "\\end{bmatrix}\n",
    "\\begin{bmatrix}\n",
    "a_{1,1} & a_{1,2} & \\cdots & a_{1,N} \\\\\n",
    "a_{2,1} & a_{2,2} & \\cdots & a_{2,N} \\\\\n",
    "\\vdots & \\vdots & \\ddots & \\vdots \\\\\n",
    "a_{N,1} & a_{N,2} & \\cdots & a_{N,N} \\\\\n",
    "\\end{bmatrix}\n",
    "\\begin{bmatrix}\n",
    "x_{1} \\\\\n",
    "x_{2} \\\\\n",
    "\\vdots \\\\\n",
    "x_{N} \\\\\n",
    "\\end{bmatrix} \n",
    "\\end{eqnarray}\n",
    "$$\n",
    "\n",
    "$$\n",
    "\\begin{eqnarray}\n",
    "&=& \\sum_{i=1}^{N} \\sum_{j=1}^{N} a_{i,j} x_i x_j \n",
    "\\end{eqnarray}\n",
    "$$"
   ]
  },
  {
   "cell_type": "markdown",
   "metadata": {},
   "source": [
    "### 연습문제"
   ]
  },
  {
   "cell_type": "markdown",
   "metadata": {},
   "source": [
    "#### ``연습 문제 1``\n",
    "\n",
    "A, B, C 세 회사의 주식은 각각 100만원, 80만원, 50만원이다. 이 주식을 각각 3주, 4주, 5주를 매수할 때 필요한 금액을 구하고자 한다.\n",
    "\n",
    "1. 주식의 가격과 수량을 각각 $p$ 벡터, $n$ 벡터로 표시하고 NumPy로 코딩한다.\n",
    "2. 주시을 매수할 때 필요한 금액을 곱셈으로 표시하고 NumPy 연산으로 그 값을 계산한다."
   ]
  },
  {
   "cell_type": "code",
   "execution_count": null,
   "metadata": {},
   "outputs": [],
   "source": []
  },
  {
   "cell_type": "markdown",
   "metadata": {},
   "source": [
    "#### ``연습 문제 2``\n",
    "\n",
    "1. MNIST digit image 전체 데이터를 모두 벡터로 변환하여 하나의 NumPy 행렬 $X$를 만든다.\n",
    "2. 모든 이미지의 조합에 대해 내적으로 유사도를 구해야 한다. 어떻게 구현하는 것이 효율적일까?"
   ]
  },
  {
   "cell_type": "code",
   "execution_count": null,
   "metadata": {},
   "outputs": [],
   "source": []
  },
  {
   "cell_type": "markdown",
   "metadata": {},
   "source": [
    "#### ``연습 문제3 ``\n",
    "\n",
    "1) $A$와 $B$가 위와 같을 때 $AB$를 연습장에 손으로 계산하고 NumPy의 계산결과와 맞는지 확인한다.\n",
    "\n",
    "2) 순서를 바꾸어 $BA$를 연습장에 손으로 계산하고 NumPy로도 계산한다. $BA$의 결과가 $AB$와 같은가?\n",
    "\n",
    "3) $A$, $B$가 다음과 같을 때, $AB$, $BA$를 (계산이 가능하다면) 손 계산과 NumPy 코드로 구한다. $AB$, $BA$ 모두 계산 가능한가?\n",
    "\n",
    "$$ A = \\begin{bmatrix} 1 & 2 & 3 \\end{bmatrix} $$\n",
    "\n",
    "$$ B = \\begin{bmatrix} 4 & 7 \\\\ 5 & 8 \\\\ 6 & 9 \\end{bmatrix} $$\n",
    "\n",
    "4) $A$, $B$가 다음과 같을 때, $AB$, $BA$를 (계산이 가능하다면) 손 계산과 NumPy 코드로 구한다. $AB$, $BA$ 모두 계산 가능한가? $BA$의 결과가 $AB$와 같은가?\n",
    "\n",
    "$$ A = \\begin{bmatrix} 1 & 2 \\\\ 3 & 4 \\end{bmatrix} $$\n",
    "\n",
    "$$ B = \\begin{bmatrix} 5 & 6 \\\\ 7 & 8 \\end{bmatrix} $$\n",
    "\n",
    "5) $x$가 다음과 같을 때, $x^Tx$와 $xx^T$를 각각 손 계산과 NumPy 코드로 구한다. $x^Tx$와 $xx^T$의 크기에 주목하라.\n",
    "\n",
    "$$ x = \\begin{bmatrix} 1 \\\\ 2 \\\\ 3 \\end{bmatrix} $$"
   ]
  },
  {
   "cell_type": "code",
   "execution_count": null,
   "metadata": {},
   "outputs": [],
   "source": []
  },
  {
   "cell_type": "markdown",
   "metadata": {},
   "source": [
    "#### ``연습 문제 4``\n",
    "\n",
    "1. 위에서 만든 MNIST digit image 전체 데이터 행렬 $X$와 행렬 곱셈을 이용하여 모든 이미지의 조합에 대한 유사도를 구한다.\n",
    "   이 결과는 이미지의 데이터의 갯수를 크기로 하는 정방행렬이 된다. \n",
    "2. 유사도 정방행렬을 이미지로 시각화 한다."
   ]
  },
  {
   "cell_type": "code",
   "execution_count": null,
   "metadata": {},
   "outputs": [],
   "source": []
  },
  {
   "cell_type": "markdown",
   "metadata": {},
   "source": [
    "#### ``연습 문제5``\n",
    "\n",
    "다음 행렬의 곱셈을 순서를 바꾸어 두 가지 방법으로 해본다.\n",
    "\n",
    "$$ \\begin{bmatrix} 1 & 2 \\end{bmatrix} \\begin{bmatrix} 1 & 2 \\\\ 3 & 4 \\end{bmatrix} \\begin{bmatrix} 5 \\\\ 6 \\end{bmatrix}$$"
   ]
  },
  {
   "cell_type": "code",
   "execution_count": null,
   "metadata": {},
   "outputs": [],
   "source": []
  },
  {
   "cell_type": "markdown",
   "metadata": {},
   "source": [
    "#### ``연습 문제 6``\n",
    "\n",
    "다음 행렬 $X$와 벡터 $w$에 대해 곱 $Xw$가 열벡터 $c_1, c_2, c_3$의 선형조합 $w_1c_1 + w_2c_2 + w_3c_3$가 됨을 실제 계산으로 증명하라.\n",
    "\n",
    "$$ \n",
    "X = \\begin{bmatrix} 1 & 2 & 3  \\\\ 4 & 5 & 6 \\end{bmatrix}, \\;\\;\n",
    "w = \\begin{bmatrix} 2 \\\\ 3 \\\\ 4 \\end{bmatrix}\n",
    "$$"
   ]
  },
  {
   "cell_type": "code",
   "execution_count": null,
   "metadata": {},
   "outputs": [],
   "source": []
  },
  {
   "cell_type": "markdown",
   "metadata": {},
   "source": [
    "#### ``연습 문제 7``\n",
    "\n",
    "$x_1$, $x_2$가 다음과 같을 때,\n",
    "$$\n",
    "x_1 = \n",
    "\\begin{bmatrix}\n",
    "x_{11} \\\\\n",
    "x_{21} \\\\\n",
    "x_{31} \\\\\n",
    "\\end{bmatrix}\n",
    "\\;\\;\n",
    "x_2 = \n",
    "\\begin{bmatrix}\n",
    "x_{12} \\\\\n",
    "x_{22} \\\\\n",
    "x_{32} \\\\\n",
    "\\end{bmatrix}\n",
    "$$\n",
    "\n",
    "다음 등식이 성립함을 보인다.\n",
    "\n",
    "$$\n",
    "Xw =\n",
    "\\begin{bmatrix}\n",
    "x_1^T \\\\\n",
    "x_2^T \\\\\n",
    "\\end{bmatrix}\n",
    "\\begin{bmatrix}\n",
    "w_1 \\\\ w_2 \\\\ w_3\n",
    "\\end{bmatrix}\n",
    "=\n",
    "\\begin{bmatrix}\n",
    "x_1^Tw \\\\\n",
    "x_2^Tw \\\\\n",
    "\\end{bmatrix}\n",
    "$$"
   ]
  },
  {
   "cell_type": "code",
   "execution_count": null,
   "metadata": {},
   "outputs": [],
   "source": []
  },
  {
   "cell_type": "markdown",
   "metadata": {},
   "source": [
    "#### ``연습 문제 8``\n",
    "\n",
    "분배 법칙을 사용하여 위 식 $(y - Xw)^T (y - Xw)$을 풀어쓰면 다음과 같아짐을 보인다.\n",
    "\n",
    "$$ y^Ty - w^TX^Ty - y^TXw + w^TX^TXw $$"
   ]
  },
  {
   "cell_type": "code",
   "execution_count": null,
   "metadata": {},
   "outputs": [],
   "source": []
  },
  {
   "cell_type": "markdown",
   "metadata": {},
   "source": [
    "#### ``연습 문제 9``\n",
    "\n",
    "3차원 벡터와 행렬에 대해 위 식이 성립함을 보여라.\n",
    "\n",
    "$$ x = \\begin{bmatrix} x_1 \\\\ x_2 \\\\ x_3 \\end{bmatrix} $$\n",
    "\n",
    "$$ A = \n",
    "\\begin{bmatrix} \n",
    "a_{11} & a_{12} & a_{13} \\\\\n",
    "a_{21} & a_{22} & a_{23} \\\\\n",
    "a_{31} & a_{32} & a_{33} \\\\\n",
    "\\end{bmatrix} \n",
    "$$\n",
    "\n"
   ]
  },
  {
   "cell_type": "code",
   "execution_count": null,
   "metadata": {},
   "outputs": [],
   "source": []
  },
  {
   "cell_type": "markdown",
   "metadata": {},
   "source": [
    "#### ``연습 문제 10``\n",
    "\n",
    "다음 식이 성립함을 증명하라.\n",
    "\n",
    "$$ x^TAx = \\dfrac{1}{2}x^T(A + A^T)x $$"
   ]
  },
  {
   "cell_type": "code",
   "execution_count": null,
   "metadata": {},
   "outputs": [],
   "source": []
  }
 ],
 "metadata": {
  "kernelspec": {
   "display_name": "Python 3",
   "language": "python",
   "name": "python3"
  },
  "language_info": {
   "codemirror_mode": {
    "name": "ipython",
    "version": 3
   },
   "file_extension": ".py",
   "mimetype": "text/x-python",
   "name": "python",
   "nbconvert_exporter": "python",
   "pygments_lexer": "ipython3",
   "version": "3.6.4"
  }
 },
 "nbformat": 4,
 "nbformat_minor": 2
}
