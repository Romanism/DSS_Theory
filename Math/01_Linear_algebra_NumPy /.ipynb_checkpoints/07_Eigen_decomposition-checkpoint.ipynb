{
 "cells": [
  {
   "cell_type": "markdown",
   "metadata": {},
   "source": [
    "### 1. 고유분해"
   ]
  },
  {
   "cell_type": "markdown",
   "metadata": {},
   "source": [
    "1) 정의 : 고유값과 고유벡터를 찾는 잡업"
   ]
  },
  {
   "cell_type": "markdown",
   "metadata": {},
   "source": [
    "2) 고유값 (eigen value), 고유 벡터 (eigen vector)"
   ]
  },
  {
   "cell_type": "markdown",
   "metadata": {},
   "source": [
    "정방 행렬 $A$에 대해서 다음 식을 만족하는 벡터 $v$, 실수 $\\lambda$를 찾을 수 있다고 가정"
   ]
  },
  {
   "cell_type": "markdown",
   "metadata": {},
   "source": [
    "$$ Av = \\lambda v $$\n",
    "\n",
    "* $ A \\in \\mathbf{R}^{N \\times N} $\n",
    "\n",
    "* $ \\lambda \\in \\mathbf{R} $ : 고유값 (eigen value)\n",
    "\n",
    "* $ v \\in \\mathbf{R}^{N} $ : 고유 벡터 (eigen vector)"
   ]
  },
  {
   "cell_type": "markdown",
   "metadata": {},
   "source": [
    "ex) \n",
    "\n",
    "$$\n",
    "A=\n",
    "\\begin{bmatrix}\n",
    "1 & -2 \\\\\n",
    "2 & -3\n",
    "\\end{bmatrix} \\;\\; 에서\n",
    "$$ "
   ]
  },
  {
   "cell_type": "markdown",
   "metadata": {},
   "source": [
    "$$\\lambda = -1 \\;\\;\\;,\\;\\;\\;\n",
    "v=\n",
    "\\begin{bmatrix}\n",
    "1  \\\\\n",
    "1\n",
    "\\end{bmatrix}\n",
    "$$"
   ]
  },
  {
   "cell_type": "markdown",
   "metadata": {},
   "source": [
    "3) 정규화 (normalization) : 고유 벡터는 크기가 1인 단위 벡터가 되도록 정규화 함"
   ]
  },
  {
   "cell_type": "markdown",
   "metadata": {},
   "source": [
    "$$\n",
    "v=\n",
    "\\begin{bmatrix}\n",
    "\\dfrac{1}{\\sqrt{2}}  \\\\\n",
    "\\dfrac{1}{\\sqrt{2}}\n",
    "\\end{bmatrix}\n",
    "= \n",
    "\\begin{bmatrix}\n",
    "0.7071 \\\\\n",
    "0.7071\n",
    "\\end{bmatrix}\n",
    "$$"
   ]
  },
  {
   "cell_type": "code",
   "execution_count": 1,
   "metadata": {},
   "outputs": [
    {
     "name": "stdout",
     "output_type": "stream",
     "text": [
      "[-0.99999998 -1.00000002]\n",
      "[[0.70710678 0.70710678]\n",
      " [0.70710678 0.70710678]]\n"
     ]
    }
   ],
   "source": [
    "# 스칼라, 정규화된 벡터값 구하기\n",
    "W1, V1 = np.linalg.eig(np.array([[1, -2], [2, -3]]))\n",
    "print(W1)\n",
    "print(V1)"
   ]
  },
  {
   "cell_type": "markdown",
   "metadata": {},
   "source": [
    "4) 특수한 고유값"
   ]
  },
  {
   "cell_type": "markdown",
   "metadata": {},
   "source": [
    "실수인 고유값이 아닌 복소수인 고유값과 고유 벡터를 지니는 경우도 있음"
   ]
  },
  {
   "cell_type": "markdown",
   "metadata": {},
   "source": [
    "$$ \n",
    "C =\n",
    "\\begin{bmatrix}\n",
    "0 & -1 \\\\\n",
    "1 & 0\n",
    "\\end{bmatrix}\n",
    "$$"
   ]
  },
  {
   "cell_type": "code",
   "execution_count": 2,
   "metadata": {},
   "outputs": [
    {
     "name": "stdout",
     "output_type": "stream",
     "text": [
      "[0.+1.j 0.-1.j]\n",
      "[[0.70710678+0.        j 0.70710678-0.        j]\n",
      " [0.        -0.70710678j 0.        +0.70710678j]]\n"
     ]
    }
   ],
   "source": [
    "# 스칼라, 정규화된 벡터값 구하기\n",
    "W2, V2 = np.linalg.eig(np.array([[0, -1], [1, 0]]))\n",
    "print(W2)\n",
    "print(V2)"
   ]
  },
  {
   "cell_type": "markdown",
   "metadata": {},
   "source": [
    "### 2. 고유값 계산"
   ]
  },
  {
   "cell_type": "markdown",
   "metadata": {},
   "source": [
    "행렬 $A$의 고유값은 다음과 같은 특성 방정식(characteristic equation)의 해와 같음"
   ]
  },
  {
   "cell_type": "markdown",
   "metadata": {},
   "source": [
    "$$ f(\\lambda) = \\det \\left( A - \\lambda I \\right) = 0$$"
   ]
  },
  {
   "cell_type": "markdown",
   "metadata": {},
   "source": [
    "ex)\n",
    "\n",
    "$$\n",
    "A=\n",
    "\\begin{bmatrix}\n",
    "1 & -2 \\\\\n",
    "2 & -3\n",
    "\\end{bmatrix} \\;\\;에서\n",
    "$$"
   ]
  },
  {
   "cell_type": "markdown",
   "metadata": {},
   "source": [
    "$$ \n",
    "\\begin{eqnarray}\n",
    "\\det \\left( A - \\lambda I \\right) \n",
    "&=&\n",
    "\\det \n",
    "\\left(\n",
    "\\begin{bmatrix}\n",
    "1 & -2 \\\\\n",
    "2 & -3\n",
    "\\end{bmatrix}\n",
    "-\n",
    "\\begin{bmatrix}\n",
    "\\lambda & 0 \\\\\n",
    "0 & \\lambda\n",
    "\\end{bmatrix}\n",
    "\\right)\n",
    "\\\\\n",
    "\\\\\n",
    "&=&\n",
    "\\det \n",
    "\\begin{bmatrix}\n",
    "1 - \\lambda & -2 \\\\\n",
    "2 & -3 -\\lambda\n",
    "\\end{bmatrix}\n",
    "\\\\\n",
    "\\\\\n",
    "&=& (1 - \\lambda)(3 +\\lambda) + 4 = \\lambda^2 + 2\\lambda + 1\\\\\\\\\n",
    "&=& (\\lambda + 1)^2 = 0 \\;\\;, 고유값 = -1 \\;(-1을\\;2개\\;가짐)\\\\\\\\\n",
    "\\end{eqnarray}\n",
    "$$\n",
    "\n"
   ]
  },
  {
   "cell_type": "markdown",
   "metadata": {},
   "source": [
    "### 3. 고유 분해의 성질"
   ]
  },
  {
   "cell_type": "markdown",
   "metadata": {},
   "source": [
    "$N$ 차원의 정방행렬 $A$의 고유분해에서 성립"
   ]
  },
  {
   "cell_type": "markdown",
   "metadata": {},
   "source": [
    "1) $N$개의 고유값 - 고유 벡터를 가짐 (복소수인 경우 포함)"
   ]
  },
  {
   "cell_type": "markdown",
   "metadata": {},
   "source": [
    "2) 대칭행렬 $A$는 $N$개의 실수 고유값을 가지며 고유 벡터들이 서로 수직(orthogonal)임"
   ]
  },
  {
   "cell_type": "markdown",
   "metadata": {},
   "source": [
    "3) 대칭행렬의 고유값이 모두 양수면 양의 정부호(positive-definite), 역도 성립"
   ]
  },
  {
   "cell_type": "markdown",
   "metadata": {},
   "source": [
    "4) 행렬 $A$가 $X^TX$형태의 공분산 행렬이면 0 또는 양의 고유값 가짐"
   ]
  },
  {
   "cell_type": "markdown",
   "metadata": {},
   "source": [
    "5) 행렬의 대각합은 모든 고유값의 합\n",
    "$$\n",
    "\\text{tr}(A) =\\sum_{i=1}^N \\lambda_i\n",
    "$$"
   ]
  },
  {
   "cell_type": "markdown",
   "metadata": {},
   "source": [
    "6) 행렬의 행렬식은 모든 고유값의 곱\n",
    "$$\n",
    "\\det(A)=\\prod_{i=1}^N \\lambda_i\n",
    "$$"
   ]
  },
  {
   "cell_type": "markdown",
   "metadata": {},
   "source": [
    "### 4. 대각화"
   ]
  },
  {
   "cell_type": "markdown",
   "metadata": {},
   "source": [
    "1) 정의 : 행렬$A$ = $(고유\\;벡터\\;행렬)(고유값\\;행렬)(고유\\;벡터\\;행렬)^-1$"
   ]
  },
  {
   "cell_type": "markdown",
   "metadata": {},
   "source": [
    "$$ A = V \\Lambda V^{-1} $$"
   ]
  },
  {
   "cell_type": "markdown",
   "metadata": {},
   "source": [
    "2) 증명"
   ]
  },
  {
   "cell_type": "markdown",
   "metadata": {},
   "source": [
    "[1] $N$ 차원의 정방 행렬 $A$가 $N$개의 고윳값과 이에 대응하는 고유 벡터를 가진다는 성질을 이용"
   ]
  },
  {
   "cell_type": "markdown",
   "metadata": {},
   "source": [
    "[2] 행렬 $A$ 고윳값과 이에 대응하는 고유벡터\n",
    "\n",
    "$$ \\lambda_1, \\lambda_2, \\cdots, \\lambda_N \\;\\;\\; v_1, v_2, \\cdots, v_N $$"
   ]
  },
  {
   "cell_type": "markdown",
   "metadata": {},
   "source": [
    "[3] 고유 벡터 행렬 $V$은 고유벡터를 옆으로 쌓아서 만든 행렬\n",
    "\n",
    "$$\n",
    "V = \\left[ v_1 \\cdots v_N \\right], \\;\\;\\; V \\in \\mathbf{R}^{N \\times N}\n",
    "$$"
   ]
  },
  {
   "cell_type": "markdown",
   "metadata": {},
   "source": [
    "[4] 고윳값 행렬 $\\Lambda$은 고유 값을 대각 성분으로 가지는 대각 행렬\n",
    "\n",
    "$$\n",
    "\\Lambda =\n",
    "\\begin{bmatrix}\n",
    "\\lambda_{1} & 0 & \\cdots & 0 \\\\\n",
    "0 & \\lambda_{2} & \\cdots & 0 \\\\\n",
    "\\vdots & \\vdots & \\ddots & \\vdots \\\\\n",
    "0 & 0 & \\cdots & \\lambda_{N} \\\\\n",
    "\\end{bmatrix}\n",
    ", \\;\\;\\; \\Lambda \\in \\mathbf{R}^{N \\times N}\n",
    "$$"
   ]
  },
  {
   "cell_type": "markdown",
   "metadata": {},
   "source": [
    "[5] 고유 벡터 행열을 정의\n",
    "\n",
    "$$ \n",
    "\\begin{eqnarray}\n",
    "AV \n",
    "&=& A \\left[ v_1 \\cdots v_N \\right] \\\\\\\\\n",
    "&=& \\left[ A v_1 \\cdots A v_N \\right] \\\\\\\\\n",
    "&=& \\left[ \\lambda_1 v_1 \\cdots \\lambda_N v_N \\right] \\\\\\\\\n",
    "&=& \\left[ v_1 \\cdots v_N \\right] \n",
    "\\begin{bmatrix}\n",
    "\\lambda_{1} & 0 & \\cdots & 0 \\\\\n",
    "0 & \\lambda_{2} & \\cdots & 0 \\\\\n",
    "\\vdots & \\vdots & \\ddots & \\vdots \\\\\n",
    "0 & 0 & \\cdots & \\lambda_{N} \\\\\n",
    "\\end{bmatrix}\n",
    "\\\\\\\\\n",
    "&=& V\\Lambda\n",
    "\\end{eqnarray}\n",
    "$$\n",
    "\n",
    "$$ \\therefore \\; AV = V\\Lambda $$\n",
    "\n"
   ]
  },
  {
   "cell_type": "markdown",
   "metadata": {},
   "source": [
    "### 5. 대칭 행렬의 고유 분해"
   ]
  },
  {
   "cell_type": "markdown",
   "metadata": {},
   "source": [
    "1) 행렬 $A$가 대칭 행렬이면 고유값이 실수, 고유 벡터들이 서로 수직 (orthogonal)임"
   ]
  },
  {
   "cell_type": "markdown",
   "metadata": {},
   "source": [
    "증명 : 서로 다른 고윳값 $\\lambda_i$,  $\\lambda_j$ $(\\lambda_i \\neq \\lambda_j)$ 에 대응하는 고유벡터 $v_i$, $v_j$가 있다고 가정"
   ]
  },
  {
   "cell_type": "markdown",
   "metadata": {},
   "source": [
    "$$\n",
    "\\begin{eqnarray}\n",
    "\\lambda_i u_i^T u_j\n",
    "&=& (\\lambda_i u_i)^T u_j = (A u_i)^T u_j\\\\\\\\\n",
    "&=& u_i^T A_T u_j = u_i^T A u_j\\\\\\\\\n",
    "&=& u_i^T \\lambda_j u_j = \\lambda_j u_i^T  u_j\\\\\\\\\n",
    "&&(\\lambda_i - \\lambda_j) u_i^T  u_j = 0 \\\\\\\\\n",
    "&& u_i^T  u_j = 0\n",
    "\\end{eqnarray}\n",
    "$$"
   ]
  },
  {
   "cell_type": "markdown",
   "metadata": {},
   "source": [
    "2) 고유 벡터가 크기 1이 되도록 정규화된 상태면 고유벡터 행렬 $V$는 전치 행렬이 역행렬 (대각화 가능)"
   ]
  },
  {
   "cell_type": "markdown",
   "metadata": {},
   "source": [
    "$$ V^T V = V V^T = I$$"
   ]
  },
  {
   "cell_type": "markdown",
   "metadata": {},
   "source": [
    "$$ V^{-1} = V^T $$"
   ]
  },
  {
   "cell_type": "markdown",
   "metadata": {},
   "source": [
    "[1] 따라서 행렬 $A$를 $N$개의 대칭 행렬 $A_i = v_i v_i^T$ 의 합으로 표시 가능"
   ]
  },
  {
   "cell_type": "markdown",
   "metadata": {},
   "source": [
    "$$ A = V\\Lambda V^T = \\sum_{i=1}^{N} {\\lambda_i} v_i v_i^T = \\lambda_1 A_1 + \\cdots + \\lambda_N A_N $$"
   ]
  },
  {
   "cell_type": "markdown",
   "metadata": {},
   "source": [
    "[2] 만약 0인 고유값이 없으면 역행렬을 구할 수 있음"
   ]
  },
  {
   "cell_type": "markdown",
   "metadata": {},
   "source": [
    "$$ A^{-1} = V \\Lambda^{-1} V^T = \\sum_{i=1}^{N} \\dfrac{1}{\\lambda_i} v_i v_i^T = \\dfrac{1}{\\lambda_1} A_1 + \\cdots + \\dfrac{1}{\\lambda_N} A_N $$"
   ]
  },
  {
   "cell_type": "markdown",
   "metadata": {},
   "source": [
    "### 6. 공분산 행렬 (Covariance matrix)"
   ]
  },
  {
   "cell_type": "markdown",
   "metadata": {},
   "source": [
    "임의의 실수 행렬 $X$에 대해 $X^TX$인 정방행렬"
   ]
  },
  {
   "cell_type": "markdown",
   "metadata": {},
   "source": [
    "공분산 행렬은 양의 준정부호"
   ]
  },
  {
   "cell_type": "markdown",
   "metadata": {},
   "source": [
    "$$ v^TX^TXv = (Xv)^T(Xv) = u^Tu $$"
   ]
  },
  {
   "cell_type": "markdown",
   "metadata": {},
   "source": [
    "### 7. 가우시안 정규분포의 좌표 변환"
   ]
  },
  {
   "cell_type": "markdown",
   "metadata": {},
   "source": [
    "다변수 가우시안 정규 분포의 확률 밀도 함수는 $\\mathcal{N}(x)$ 로 표시"
   ]
  },
  {
   "cell_type": "markdown",
   "metadata": {},
   "source": [
    "$$\n",
    "\\begin{eqnarray}\n",
    "\\mathcal{N}(x) \n",
    "&\\propto& \\exp \\left( -\\dfrac{1}{2} (x-\\mu)^T \\Sigma^{-1} (x-\\mu) \\right) \\\\\\\\\n",
    "&=& \\exp \\left( -\\dfrac{1}{2} (x-\\mu)^T V \\Lambda^{-1} V^T (x-\\mu) \\right) \\\\\\\\\n",
    "&=& \\exp \\left( -\\dfrac{1}{2} (V^T(x-\\mu))^T  \\Lambda^{-1} (V^T (x-\\mu)) \\right) \\\\\\\\\n",
    "&=& \\exp \\left( -\\dfrac{1}{2} (V^{-1}(x-\\mu))^T  \\Lambda^{-1} (V^{-1} (x-\\mu)) \\right) \\\\\\\\\n",
    "&=& \\exp \\left( -\\dfrac{1}{2} x'^T  \\Lambda^{-1} x' \\right) \\\\\\\\\n",
    "\\end{eqnarray}\n",
    "$$"
   ]
  },
  {
   "cell_type": "markdown",
   "metadata": {},
   "source": [
    "1) 고유벡터 행렬 $V$ 를 변환 행렬로 사용하여 $x$ 를 $x' = V^T(x-\\mu)$ 로 좌표 변환"
   ]
  },
  {
   "cell_type": "markdown",
   "metadata": {},
   "source": [
    "2) 좌표 변환된 새로운 $x'$ 들의 공분산 행렬은 대각 행렬인 고윳값 행렬 $\\Lambda$ 가 됨"
   ]
  },
  {
   "cell_type": "markdown",
   "metadata": {},
   "source": [
    "3) 좌표 변환된 $x'$ 들은 서로 독립인 성분이 됨"
   ]
  },
  {
   "cell_type": "markdown",
   "metadata": {},
   "source": [
    "4) 고유벡터 행렬 $V$의 각 열, 즉 고유 벡터들은 독립인 성분을 가리키는 기저 벡터가 됨"
   ]
  },
  {
   "cell_type": "markdown",
   "metadata": {},
   "source": [
    "### 연습 문제"
   ]
  },
  {
   "cell_type": "markdown",
   "metadata": {},
   "source": [
    "#### ``연습 문제 1``\n",
    "\n",
    "행렬 $A$에 대해 $\\lambda$와 $v$가 각각 고윳값, 고유벡터가 됨을 증명하라.\n",
    "\n",
    "$$\n",
    "A=\n",
    "\\begin{bmatrix}\n",
    "1 & -2 \\\\\n",
    "2 & -3\n",
    "\\end{bmatrix}\n",
    "$$"
   ]
  },
  {
   "cell_type": "code",
   "execution_count": null,
   "metadata": {},
   "outputs": [],
   "source": []
  },
  {
   "cell_type": "markdown",
   "metadata": {},
   "source": [
    "#### ``연습 문제 2``\n",
    "\n",
    "다음 행렬의 고윳값, 고유벡터를 구하라.\n",
    "\n",
    "$$ \n",
    "\\begin{bmatrix}\n",
    "1 & 1 \\\\\n",
    "0 & 1\n",
    "\\end{bmatrix}\n",
    "$$"
   ]
  },
  {
   "cell_type": "code",
   "execution_count": null,
   "metadata": {},
   "outputs": [],
   "source": []
  },
  {
   "cell_type": "markdown",
   "metadata": {},
   "source": [
    "#### ``연습 문제 3``\n",
    "\n",
    "특성 방정식을 이용하여 다음 행렬의 고윳값과 고유벡터를 구하라.\n",
    "\n",
    "$$\n",
    "\\begin{bmatrix}\n",
    "2 & 3 \\\\\n",
    "2 & 1\n",
    "\\end{bmatrix}\n",
    "$$"
   ]
  },
  {
   "cell_type": "code",
   "execution_count": null,
   "metadata": {},
   "outputs": [],
   "source": []
  },
  {
   "cell_type": "markdown",
   "metadata": {},
   "source": [
    "#### ``연습 문제 4``\n",
    "\n",
    "다음 행렬은 고윳값과 고유벡터로 대각화 가능한가?\n",
    "\n",
    "$$ \n",
    "\\begin{bmatrix}\n",
    "1 & 1 \\\\\n",
    "0 & 1\n",
    "\\end{bmatrix}\n",
    "$$"
   ]
  },
  {
   "cell_type": "code",
   "execution_count": null,
   "metadata": {},
   "outputs": [],
   "source": []
  },
  {
   "cell_type": "markdown",
   "metadata": {},
   "source": [
    "#### ``연습 문제 5``\n",
    "\n",
    "다음 행렬\n",
    "\n",
    "$$ \n",
    "\\begin{bmatrix}\n",
    "2 & 3 \\\\\n",
    "2 & 1\n",
    "\\end{bmatrix}\n",
    "$$\n",
    "\n",
    "의 고윳값과 고유벡터는 다음과 같다. 이 정보를 이용하여 역행렬을 계산하라.\n",
    "\n",
    "$$ \n",
    "\\lambda_1 = 4, \\;\\;\n",
    "v_1 = \n",
    "\\begin{bmatrix}\n",
    "\\dfrac{3}{\\sqrt{13}} \\\\\n",
    "\\dfrac{2}{\\sqrt{13}}\n",
    "\\end{bmatrix}\n",
    "$$\n",
    "\n",
    "$$ \n",
    "\\lambda_2 = -1, \\;\\;\n",
    "v_2 = \\begin{bmatrix}\n",
    "-\\dfrac{1}{\\sqrt{2}} \\\\\n",
    "\\dfrac{1}{\\sqrt{2}}\n",
    "\\end{bmatrix}\n",
    "$$"
   ]
  },
  {
   "cell_type": "code",
   "execution_count": null,
   "metadata": {},
   "outputs": [],
   "source": []
  }
 ],
 "metadata": {
  "kernelspec": {
   "display_name": "Python 3",
   "language": "python",
   "name": "python3"
  },
  "language_info": {
   "codemirror_mode": {
    "name": "ipython",
    "version": 3
   },
   "file_extension": ".py",
   "mimetype": "text/x-python",
   "name": "python",
   "nbconvert_exporter": "python",
   "pygments_lexer": "ipython3",
   "version": "3.6.4"
  }
 },
 "nbformat": 4,
 "nbformat_minor": 2
}
