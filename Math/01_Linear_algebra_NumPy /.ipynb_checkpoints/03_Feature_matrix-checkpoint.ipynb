{
 "cells": [
  {
   "cell_type": "markdown",
   "metadata": {},
   "source": [
    "### 행렬의 성질"
   ]
  },
  {
   "cell_type": "markdown",
   "metadata": {},
   "source": [
    "### 1. 행렬의 부호"
   ]
  },
  {
   "cell_type": "markdown",
   "metadata": {},
   "source": [
    "- 행렬은 여러개의 숫자가 있기 때문에 부호를 정의하기 어려움\n",
    "- 대신 실수의 부호와 비슷하게 양-정부호, 음-정부호 등을 이용할 수 있음"
   ]
  },
  {
   "cell_type": "markdown",
   "metadata": {},
   "source": [
    "1) 양 - 정부호 (Positive definite) : 2차 형식의 결과 값이 양수"
   ]
  },
  {
   "cell_type": "markdown",
   "metadata": {},
   "source": [
    "$$ x^T A x > 0 $$"
   ]
  },
  {
   "cell_type": "markdown",
   "metadata": {},
   "source": [
    "ex) 단위 행렬\n",
    "\n",
    "$$ x^TI x = \n",
    "\\begin{bmatrix}\n",
    "x_1 & x_2 & \\cdots & x_N\n",
    "\\end{bmatrix}\n",
    "\\begin{bmatrix}\n",
    "1&0&\\cdots&0\\\\\n",
    "0&1&\\cdots&0\\\\\n",
    "\\vdots&\\vdots&\\ddots&\\vdots\\\\\n",
    "0&0&\\cdots&1\\\\\n",
    "\\end{bmatrix}\n",
    "\\begin{bmatrix}\n",
    "x_1 \\\\ x_2 \\\\ \\vdots \\\\ x_N\n",
    "\\end{bmatrix}\n",
    "= x_1^2 + x_2^2 + \\cdots + x_N^2 > 0 \n",
    "$$"
   ]
  },
  {
   "cell_type": "markdown",
   "metadata": {},
   "source": [
    "$x_1 = x_2 = \\cdots = x_N = 0$ 인 경우를 제외하고는 항상 0보다 큼"
   ]
  },
  {
   "cell_type": "markdown",
   "metadata": {},
   "source": [
    "2) 음 - 정부호 (Negative definite) : 2차 형식의 결과 값이 음수"
   ]
  },
  {
   "cell_type": "markdown",
   "metadata": {},
   "source": [
    "$$ x^T A x < 0 $$"
   ]
  },
  {
   "cell_type": "markdown",
   "metadata": {},
   "source": [
    "3) 양 - 준정부호, 음 - 준정부호 : 0까지 포함되는 경우"
   ]
  },
  {
   "cell_type": "markdown",
   "metadata": {},
   "source": [
    "$$ x^T A x \\geq 0 , \\;\\; x^T A x \\leq 0 $$"
   ]
  },
  {
   "cell_type": "markdown",
   "metadata": {},
   "source": [
    "### 2. 행렬의 크기"
   ]
  },
  {
   "cell_type": "markdown",
   "metadata": {},
   "source": [
    "1) 놈(norm) "
   ]
  },
  {
   "cell_type": "markdown",
   "metadata": {},
   "source": [
    "- 각 원소를 $L$ 제곱하고 더한 뒤 그 숫자를 다시 $1/L$ 제곱 함\n",
    "- $\\Vert A \\Vert_L$ 로 표기, 일반적으로 $L$는 1, 2 또는 무한대($\\infty$)\n",
    "- $L=1$이면 L1놈, $L=2$이면 L2놈이라고 부름"
   ]
  },
  {
   "cell_type": "markdown",
   "metadata": {},
   "source": [
    "$$ \\Vert A \\Vert_L = \\left( \\sum_{i=1}^M \\sum_{j=1}^N |a_{ij}|^L \\right)^{1/L} $$"
   ]
  },
  {
   "cell_type": "markdown",
   "metadata": {},
   "source": [
    "- 일반적으로 $L=2$인 경우가 많이 쓰이므로 $L$ 값 표시가 없는 경우는 $L=2$임\n",
    "- L2놈은 프로베니우스 놈(Frobenius norm)이라고 불림, $\\Vert A \\Vert_F$이라고도 표기\n",
    "- 행렬과 벡터의 놈은 항상 0과 같거나 0보다 큰 값을 가짐"
   ]
  },
  {
   "cell_type": "markdown",
   "metadata": {},
   "source": [
    "벡터의 놈의 제곱은 그 벡터의 제곱합과 같음"
   ]
  },
  {
   "cell_type": "markdown",
   "metadata": {},
   "source": [
    "$$ \\Vert x \\Vert^2 = \\sum_{i=1}^N x_{i}^2 = x^Tx$$"
   ]
  },
  {
   "cell_type": "code",
   "execution_count": 1,
   "metadata": {},
   "outputs": [
    {
     "data": {
      "text/plain": [
       "11.489125293076057"
      ]
     },
     "execution_count": 1,
     "metadata": {},
     "output_type": "execute_result"
    }
   ],
   "source": [
    "# 놈(Norm)구하기 - linalg 서브패키지의 norm 명령으로 계산\n",
    "A = np.array([[1, 2, 4], [4, 3, 6], [-3, -4, -5]]) #행렬 만들기\n",
    "np.linalg.norm(A)"
   ]
  },
  {
   "cell_type": "markdown",
   "metadata": {},
   "source": [
    "2) 대각합 (trace)"
   ]
  },
  {
   "cell_type": "markdown",
   "metadata": {},
   "source": [
    "(1) 정의 : 정방 행렬에 대해서만 정의되며, 대각 원소들의 합으로 계산"
   ]
  },
  {
   "cell_type": "markdown",
   "metadata": {},
   "source": [
    "$$ \\operatorname{tr}(A) = a_{11} + a_{22} + \\dots + a_{NN}=\\sum_{i=1}^{N} a_{ii} $$"
   ]
  },
  {
   "cell_type": "markdown",
   "metadata": {},
   "source": [
    "(2) 성질"
   ]
  },
  {
   "cell_type": "markdown",
   "metadata": {},
   "source": [
    "[1] $ \\text{tr} (cA) = c\\;\\text{tr} (A) $\n",
    "\n",
    "[2] $ \\text{tr} (A^T) = \\text{tr} (A) $\n",
    "\n",
    "[3] $ \\text{tr} (A + B) = \\text{tr} (A) + \\text{tr} (B)$\n",
    "\n",
    "[4] $ \\text{tr} (AB) = \\text{tr} (BA) $\n",
    "\n",
    "[5] $ \\text{tr} (ABC) = \\text{tr} (BCA) = \\text{tr} (CAB) $ - 트레이스 트릭 (trace trick)\n",
    "\n"
   ]
  },
  {
   "cell_type": "code",
   "execution_count": 2,
   "metadata": {},
   "outputs": [
    {
     "data": {
      "text/plain": [
       "-1"
      ]
     },
     "execution_count": 2,
     "metadata": {},
     "output_type": "execute_result"
    }
   ],
   "source": [
    "# 대각합(trace) 구하기\n",
    "np.trace(A)"
   ]
  },
  {
   "cell_type": "markdown",
   "metadata": {},
   "source": [
    "3) 행렬식(determinent)"
   ]
  },
  {
   "cell_type": "markdown",
   "metadata": {},
   "source": [
    "1) 정의"
   ]
  },
  {
   "cell_type": "markdown",
   "metadata": {},
   "source": [
    "- $\\text{det}(A)$ 또는 $|A|$로 표기\n",
    "- 2X2 행렬에서 역행렬 구할때 ad-bc부분"
   ]
  },
  {
   "cell_type": "markdown",
   "metadata": {},
   "source": [
    "$$ \\det(A) = \\sum_{i=1}^N \\left\\{ (-1)^{i+j_0}M_{i,j_0} \\right\\} a_{i,j_0} = \\sum_{j=1}^N \\left\\{ (-1)^{i_0+j} M_{i_0,j} \\right\\} a_{i_0,j}  $$"
   ]
  },
  {
   "cell_type": "markdown",
   "metadata": {},
   "source": [
    "2) 구하는 과정 : 코펙터 전개 (cofactor expansion)라고 불리는 재귀적인 방법을 이용"
   ]
  },
  {
   "cell_type": "markdown",
   "metadata": {},
   "source": [
    "[1] 행렬에서 임의의 행 또는 열을 선택, 행이든 열이든 상관없음 "
   ]
  },
  {
   "cell_type": "markdown",
   "metadata": {},
   "source": [
    "$$\n",
    "\\begin{bmatrix}1&2&3\\\\4&5&6\\\\7&8&9\\end{bmatrix}\n",
    "$$"
   ]
  },
  {
   "cell_type": "markdown",
   "metadata": {},
   "source": [
    "[2] 만약 첫번째 열을 선택했다고 하면 이 행렬의 행렬식은 다음처럼 계산"
   ]
  },
  {
   "cell_type": "markdown",
   "metadata": {},
   "source": [
    "$$ \n",
    "\\begin{eqnarray}\n",
    "\\det(A) \n",
    "&=& \\left\\{ (-1)^{1+1}M_{1,1} \\right\\} a_{1,1} +  \\left\\{ (-1)^{2+1}M_{2,1} \\right\\} a_{2,1} +  \\left\\{ (-1)^{3+1}M_{3,1} \\right\\} a_{3,1} \\\\\\\\\n",
    "&=& M_{1,1} a_{1,1} - M_{2,1} a_{2,1} + M_{3,1} a_{3,1} \\\\\\\\\n",
    "&=& M_{1,1} -  M_{2,1} \\times 4 + M_{3,1} \\times 7\n",
    "\\end{eqnarray}\n",
    "$$"
   ]
  },
  {
   "cell_type": "markdown",
   "metadata": {},
   "source": [
    "[3]-1 $M_{1,1}$(마이너)은 원래의 행렬에서 $1$번째 행과 $1$번째 열을 지워서 만들어진 행렬의 행렬식"
   ]
  },
  {
   "cell_type": "markdown",
   "metadata": {},
   "source": [
    "$$ M_{1,1} = \\det \\left( \\begin{bmatrix}5&6\\\\8&9\\end{bmatrix} \\right) $$"
   ]
  },
  {
   "cell_type": "markdown",
   "metadata": {},
   "source": [
    "[3]-2 $M_{2,1}$(마이너)은 원래의 행렬에서 $2$번째 행과 $1$번째 열을 지워서 만들어진 행렬의 행렬식"
   ]
  },
  {
   "cell_type": "markdown",
   "metadata": {},
   "source": [
    "$$ M_{2,1} = \\det \\left( \\begin{bmatrix}2&3\\\\8&9\\end{bmatrix} \\right) $$"
   ]
  },
  {
   "cell_type": "markdown",
   "metadata": {},
   "source": [
    "[3]-3 $M_{3,1}$(마이너)은 원래의 행렬에서 $3$번째 행과 $1$번째 열을 지워서 만들어진 행렬의 행렬식"
   ]
  },
  {
   "cell_type": "markdown",
   "metadata": {},
   "source": [
    "$$ M_{3,1} = \\det \\left( \\begin{bmatrix}2&3\\\\5&6\\end{bmatrix} \\right) $$"
   ]
  },
  {
   "cell_type": "markdown",
   "metadata": {},
   "source": [
    "[4] $M_{1,1}$, $M_{2,1}$, $M_{3,1}$은 마찬가지로 코팩터 공식을 이용해서 계산 (자기 자신으로 정의됨)"
   ]
  },
  {
   "cell_type": "markdown",
   "metadata": {},
   "source": [
    "$$\\det \\left( \\begin{bmatrix}a\\end{bmatrix} \\right) =a$$"
   ]
  },
  {
   "cell_type": "markdown",
   "metadata": {},
   "source": [
    "3) 공식"
   ]
  },
  {
   "cell_type": "markdown",
   "metadata": {},
   "source": [
    "[1] 2×2 행렬의 행렬식"
   ]
  },
  {
   "cell_type": "markdown",
   "metadata": {},
   "source": [
    "$$\\det \\left( \\begin{bmatrix}a&b\\\\c&d\\end{bmatrix} \\right) =ad-bc$$"
   ]
  },
  {
   "cell_type": "markdown",
   "metadata": {},
   "source": [
    "[2] 3×3 행렬의 행렬식"
   ]
  },
  {
   "cell_type": "markdown",
   "metadata": {},
   "source": [
    "$$\\det \\left( \\begin{bmatrix}a&b&c\\\\d&e&f\\\\g&h&i\\end{bmatrix} \\right) =aei+bfg+cdh-ceg-bdi-afh$$"
   ]
  },
  {
   "cell_type": "code",
   "execution_count": 3,
   "metadata": {},
   "outputs": [
    {
     "data": {
      "text/plain": [
       "-15.0"
      ]
     },
     "execution_count": 3,
     "metadata": {},
     "output_type": "execute_result"
    }
   ],
   "source": [
    "# 행렬식(det) 구하기\n",
    "np.linalg.det(A)"
   ]
  },
  {
   "cell_type": "markdown",
   "metadata": {},
   "source": [
    "4) 성질"
   ]
  },
  {
   "cell_type": "markdown",
   "metadata": {},
   "source": [
    "[1] $ \\det(A^{T}) = \\det(A) $"
   ]
  },
  {
   "cell_type": "markdown",
   "metadata": {},
   "source": [
    "[2] $\\det(I) = 1$"
   ]
  },
  {
   "cell_type": "markdown",
   "metadata": {},
   "source": [
    "[3] $\\det(AB) = \\det(A)\\det(B)$"
   ]
  },
  {
   "cell_type": "markdown",
   "metadata": {},
   "source": [
    "[4] $ \\det(A^{-1}) = \\dfrac{1}{\\det(A)} $"
   ]
  },
  {
   "cell_type": "markdown",
   "metadata": {},
   "source": [
    "### 3. 부호와 크기의 관계"
   ]
  },
  {
   "cell_type": "markdown",
   "metadata": {},
   "source": [
    "1) 행렬의 양-정부호(positive-definite)이면 대각합이 양수"
   ]
  },
  {
   "cell_type": "markdown",
   "metadata": {},
   "source": [
    "2) 행렬의 양-정부호(positive-definite)이면 행렬식이 양수"
   ]
  },
  {
   "cell_type": "markdown",
   "metadata": {},
   "source": [
    "3) 행렬의 양-준정부호(positive-semidefinite)이면 행렬식은 0"
   ]
  },
  {
   "cell_type": "markdown",
   "metadata": {},
   "source": [
    "### 연습 문제"
   ]
  },
  {
   "cell_type": "markdown",
   "metadata": {},
   "source": [
    "#### ``연습 문제 1``\n",
    "\n",
    "다음 행렬을 양-정부호, 양-준정부호 혹은 아무것도 해당되지 않는지 판단하라.\n",
    "\n",
    "$$ \\begin{bmatrix} 1 & 1 \\\\ 1 & 1 \\end{bmatrix} $$"
   ]
  },
  {
   "cell_type": "code",
   "execution_count": null,
   "metadata": {},
   "outputs": [],
   "source": []
  },
  {
   "cell_type": "markdown",
   "metadata": {},
   "source": [
    "#### ``연습 문제 2``\n",
    "\n",
    "행렬 $A \\, (A \\in \\mathbf{R}^{N \\times M})$의 놈의 제곱 $\\Vert A \\Vert^2$이 그 행렬을 이루는 행 벡터 $r_i$의 놈의 제곱의 합 또는 열 벡터 $c_i$의 놈의 제곱의 합과 같음을 증명하라.\n",
    "\n",
    "$$ \\Vert A \\Vert^2 = \\sum_{i=1}^N \\Vert r_i \\Vert^2  = \\sum_{j=1}^M \\Vert c_j \\Vert^2 $$"
   ]
  },
  {
   "cell_type": "code",
   "execution_count": null,
   "metadata": {},
   "outputs": [],
   "source": []
  },
  {
   "cell_type": "markdown",
   "metadata": {},
   "source": [
    "#### ``연습 문제 3``\n",
    "\n",
    "$x$, $A$가 각각 크기가 2 인 벡터, 크기가 2x2 인 정방 행렬일 때 이차 형식의 트레이스 트릭이 성립함을 보인다."
   ]
  },
  {
   "cell_type": "code",
   "execution_count": null,
   "metadata": {},
   "outputs": [],
   "source": []
  },
  {
   "cell_type": "markdown",
   "metadata": {},
   "source": [
    "#### ``연습 문제 4``\n",
    "\n",
    "행렬식의 정의를 사용하여 2x2 행렬과 3x3 행렬의 행렬식이 공식과 같아짐을 보인다."
   ]
  },
  {
   "cell_type": "code",
   "execution_count": null,
   "metadata": {},
   "outputs": [],
   "source": []
  },
  {
   "cell_type": "markdown",
   "metadata": {},
   "source": [
    "#### ``연습 문제 5``\n",
    "\n",
    "다음 행렬의 대각합과 행렬식을 구하고 부호와 크기의 관계가 성립하는지 확인한다.\n",
    "\n",
    "$$ A = \\begin{bmatrix} 2 & -1 & 0\\\\-1&2&-1\\\\0&-1&2 \\end{bmatrix} $$\n",
    "\n",
    "$$ B = \\begin{bmatrix} 1 & 1 \\\\ 1 & 1 \\end{bmatrix} $$\n",
    "\n",
    "$$ C = \\begin{bmatrix} 1 & 2 \\\\ 3 & 4 \\end{bmatrix} $$"
   ]
  },
  {
   "cell_type": "code",
   "execution_count": null,
   "metadata": {},
   "outputs": [],
   "source": []
  }
 ],
 "metadata": {
  "kernelspec": {
   "display_name": "Python 3",
   "language": "python",
   "name": "python3"
  },
  "language_info": {
   "codemirror_mode": {
    "name": "ipython",
    "version": 3
   },
   "file_extension": ".py",
   "mimetype": "text/x-python",
   "name": "python",
   "nbconvert_exporter": "python",
   "pygments_lexer": "ipython3",
   "version": "3.6.4"
  }
 },
 "nbformat": 4,
 "nbformat_minor": 2
}
