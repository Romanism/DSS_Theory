{
 "cells": [
  {
   "cell_type": "markdown",
   "metadata": {},
   "source": [
    "## StatsModels"
   ]
  },
  {
   "cell_type": "markdown",
   "metadata": {},
   "source": [
    "- 기초 통계, 회귀 분석, 시계열 분석 등 다양한 통계 분석 기능을 제공하는 파이썬 패키지\n",
    "- 통계분석과 관련된 R의 기능을 파이썬으로 옮겨오기 위한 패키지"
   ]
  },
  {
   "cell_type": "markdown",
   "metadata": {},
   "source": [
    "---"
   ]
  },
  {
   "cell_type": "markdown",
   "metadata": {},
   "source": [
    "### 00. Setting\n",
    "\n",
    "- pip3 install statsmodels\n",
    "- import statsmodels.api as sm"
   ]
  },
  {
   "cell_type": "markdown",
   "metadata": {},
   "source": [
    "---"
   ]
  },
  {
   "cell_type": "markdown",
   "metadata": {},
   "source": [
    "### 01. 종류"
   ]
  },
  {
   "cell_type": "markdown",
   "metadata": {},
   "source": [
    "#### 1. 기초 통계 (Statistics)\n",
    "\n",
    "  * 각종 검정(test) 기능\n",
    "  * 커널 밀도 추정\n",
    "  * Generalized Method of Moments"
   ]
  },
  {
   "cell_type": "markdown",
   "metadata": {},
   "source": [
    "#### 2. 회귀 분석 (Linear Regression)\n",
    "\n",
    "  * 선형 모형 (Linear Model)\n",
    "  * 일반화 선형 모형 (Generalized Linear Model)\n",
    "  * 강인 선형 모형 (Robust Linear Model)\n",
    "  * 선형 혼합 효과 모형 (Linear Mixed Effects Model)\n",
    "  * ANOVA (Analysis of Variance)\n",
    "  * Discrete Dependent Variable (Logistic Regression 포함)"
   ]
  },
  {
   "cell_type": "markdown",
   "metadata": {},
   "source": [
    "#### 3. 시계열 분석 (Time Series Analysis)\n",
    "  \n",
    "  * ARMA / ARIMA Process\n",
    "  * Vector ARMA Process"
   ]
  },
  {
   "cell_type": "markdown",
   "metadata": {},
   "source": [
    "---"
   ]
  },
  {
   "cell_type": "markdown",
   "metadata": {},
   "source": [
    "### 02. Sample data"
   ]
  },
  {
   "cell_type": "markdown",
   "metadata": {},
   "source": [
    "- R을 사용하여 통계 분석 및 시계열 분석을 하던 사용자가 파이썬에서 동일한 분석을 할 수 있도록 함\n",
    "\n",
    "\n",
    "* https://github.com/vincentarelbundock/Rdatasets\n",
    "- Rdatasets 이라는 프로젝트를 통해 R에서 사용하던 1000개 이상의 표준 데이터셋도 동일하게 제공하기 위해 노력중\n",
    "\n",
    "\n",
    "- http://vincentarelbundock.github.io/Rdatasets/datasets.html\n",
    "- 위 프로젝트에서 제공하는 데이터셋의 목록 "
   ]
  },
  {
   "cell_type": "markdown",
   "metadata": {},
   "source": [
    "#### 0. 데이터 가져오기 (get_rdataset)"
   ]
  },
  {
   "cell_type": "markdown",
   "metadata": {},
   "source": [
    "위 링크에 있는 데이터를 가져오려면 우선 \"Package\"이름과 \"Item\"을 알아낸 후 다음에 설명하는 get_rdataset 명령을 이용"
   ]
  },
  {
   "cell_type": "markdown",
   "metadata": {},
   "source": [
    "get_rdataset(item, [package=\"datasets\"]) (인터넷 연결 해야 함)"
   ]
  },
  {
   "cell_type": "markdown",
   "metadata": {},
   "source": [
    "* `.data` : 데이터를 담고 있는 데이터프레임\n",
    "\n",
    "\n",
    "* `.__doc__` : 데이터에 대한 설명 문자열. 예제 코드가 R로 되어 있어 파이썬에서 바로 사용할 수 없음"
   ]
  },
  {
   "cell_type": "code",
   "execution_count": 2,
   "metadata": {},
   "outputs": [],
   "source": [
    "import statsmodels.api as sm\n",
    "import seaborn as sns\n",
    "import matplotlib.pyplot as plt\n",
    "%matplotlib inline"
   ]
  },
  {
   "cell_type": "markdown",
   "metadata": {},
   "source": [
    "---"
   ]
  },
  {
   "cell_type": "markdown",
   "metadata": {},
   "source": [
    "#### 1. 타이타닉 생존자"
   ]
  },
  {
   "cell_type": "code",
   "execution_count": 3,
   "metadata": {},
   "outputs": [],
   "source": [
    "# 데이터 불러오기\n",
    "data_1 = sm.datasets.get_rdataset(\"Titanic\", package=\"datasets\")"
   ]
  },
  {
   "cell_type": "code",
   "execution_count": 4,
   "metadata": {},
   "outputs": [
    {
     "data": {
      "text/html": [
       "<div>\n",
       "<style scoped>\n",
       "    .dataframe tbody tr th:only-of-type {\n",
       "        vertical-align: middle;\n",
       "    }\n",
       "\n",
       "    .dataframe tbody tr th {\n",
       "        vertical-align: top;\n",
       "    }\n",
       "\n",
       "    .dataframe thead th {\n",
       "        text-align: right;\n",
       "    }\n",
       "</style>\n",
       "<table border=\"1\" class=\"dataframe\">\n",
       "  <thead>\n",
       "    <tr style=\"text-align: right;\">\n",
       "      <th></th>\n",
       "      <th>Name</th>\n",
       "      <th>PClass</th>\n",
       "      <th>Age</th>\n",
       "      <th>Sex</th>\n",
       "      <th>Survived</th>\n",
       "      <th>SexCode</th>\n",
       "    </tr>\n",
       "  </thead>\n",
       "  <tbody>\n",
       "    <tr>\n",
       "      <th>1308</th>\n",
       "      <td>Zakarian, Mr Artun</td>\n",
       "      <td>3rd</td>\n",
       "      <td>27.0</td>\n",
       "      <td>male</td>\n",
       "      <td>0</td>\n",
       "      <td>0</td>\n",
       "    </tr>\n",
       "    <tr>\n",
       "      <th>1309</th>\n",
       "      <td>Zakarian, Mr Maprieder</td>\n",
       "      <td>3rd</td>\n",
       "      <td>26.0</td>\n",
       "      <td>male</td>\n",
       "      <td>0</td>\n",
       "      <td>0</td>\n",
       "    </tr>\n",
       "    <tr>\n",
       "      <th>1310</th>\n",
       "      <td>Zenni, Mr Philip</td>\n",
       "      <td>3rd</td>\n",
       "      <td>22.0</td>\n",
       "      <td>male</td>\n",
       "      <td>0</td>\n",
       "      <td>0</td>\n",
       "    </tr>\n",
       "    <tr>\n",
       "      <th>1311</th>\n",
       "      <td>Lievens, Mr Rene</td>\n",
       "      <td>3rd</td>\n",
       "      <td>24.0</td>\n",
       "      <td>male</td>\n",
       "      <td>0</td>\n",
       "      <td>0</td>\n",
       "    </tr>\n",
       "    <tr>\n",
       "      <th>1312</th>\n",
       "      <td>Zimmerman, Leo</td>\n",
       "      <td>3rd</td>\n",
       "      <td>29.0</td>\n",
       "      <td>male</td>\n",
       "      <td>0</td>\n",
       "      <td>0</td>\n",
       "    </tr>\n",
       "  </tbody>\n",
       "</table>\n",
       "</div>"
      ],
      "text/plain": [
       "                        Name PClass   Age   Sex  Survived  SexCode\n",
       "1308      Zakarian, Mr Artun    3rd  27.0  male         0        0\n",
       "1309  Zakarian, Mr Maprieder    3rd  26.0  male         0        0\n",
       "1310        Zenni, Mr Philip    3rd  22.0  male         0        0\n",
       "1311        Lievens, Mr Rene    3rd  24.0  male         0        0\n",
       "1312          Zimmerman, Leo    3rd  29.0  male         0        0"
      ]
     },
     "execution_count": 4,
     "metadata": {},
     "output_type": "execute_result"
    }
   ],
   "source": [
    "# 데이터 프레임으로 정의\n",
    "df_1 = data_1.data\n",
    "df_1.tail()"
   ]
  },
  {
   "cell_type": "code",
   "execution_count": 5,
   "metadata": {
    "scrolled": false
   },
   "outputs": [
    {
     "name": "stdout",
     "output_type": "stream",
     "text": [
      "+-----------+-------------------+\n",
      "| Titanic   | R Documentation   |\n",
      "+-----------+-------------------+\n",
      "\n",
      "Survival of passengers on the Titanic\n",
      "-------------------------------------\n",
      "\n",
      "Description\n",
      "~~~~~~~~~~~\n",
      "\n",
      "This data set provides information on the fate of passengers on the\n",
      "fatal maiden voyage of the ocean liner ‘Titanic’, summarized according\n",
      "to economic status (class), sex, age and survival.\n",
      "\n",
      "Usage\n",
      "~~~~~\n",
      "\n",
      "::\n",
      "\n",
      "    Titanic\n",
      "\n",
      "Format\n",
      "~~~~~~\n",
      "\n",
      "A 4-dimensional array resulting from cross-tabulating 2201 observations\n",
      "on 4 variables. The variables and their levels are as follows:\n",
      "\n",
      "+------+------------+-----------------------+\n",
      "| No   | Name       | Levels                |\n",
      "+------+------------+-----------------------+\n",
      "| 1    | Class      | 1st, 2nd, 3rd, Crew   |\n",
      "+------+------------+-----------------------+\n",
      "| 2    | Sex        | Male, Female          |\n",
      "+------+------------+-----------------------+\n",
      "| 3    | Age        | Child, Adult          |\n",
      "+------+------------+-----------------------+\n",
      "| 4    | Survived   | No, Yes               |\n",
      "+------+------------+-----------------------+\n",
      "\n",
      "Details\n",
      "~~~~~~~\n",
      "\n",
      "The sinking of the Titanic is a famous event, and new books are still\n",
      "being published about it. Many well-known facts—from the proportions of\n",
      "first-class passengers to the ‘women and children first’ policy, and the\n",
      "fact that that policy was not entirely successful in saving the women\n",
      "and children in the third class—are reflected in the survival rates for\n",
      "various classes of passenger.\n",
      "\n",
      "These data were originally collected by the British Board of Trade in\n",
      "their investigation of the sinking. Note that there is not complete\n",
      "agreement among primary sources as to the exact numbers on board,\n",
      "rescued, or lost.\n",
      "\n",
      "Due in particular to the very successful film ‘Titanic’, the last years\n",
      "saw a rise in public interest in the Titanic. Very detailed data about\n",
      "the passengers is now available on the Internet, at sites such as\n",
      "*Encyclopedia Titanica* (http://www.rmplc.co.uk/eduweb/sites/phind).\n",
      "\n",
      "Source\n",
      "~~~~~~\n",
      "\n",
      "Dawson, Robert J. MacG. (1995), The ‘Unusual Episode’ Data Revisited.\n",
      "*Journal of Statistics Education*, **3**.\n",
      "https://www.amstat.org/publications/jse/v3n3/datasets.dawson.html\n",
      "\n",
      "The source provides a data set recording class, sex, age, and survival\n",
      "status for each person on board of the Titanic, and is based on data\n",
      "originally collected by the British Board of Trade and reprinted in:\n",
      "\n",
      "British Board of Trade (1990), *Report on the Loss of the ‘Titanic’\n",
      "(S.S.)*. British Board of Trade Inquiry Report (reprint). Gloucester,\n",
      "UK: Allan Sutton Publishing.\n",
      "\n",
      "Examples\n",
      "~~~~~~~~\n",
      "\n",
      "::\n",
      "\n",
      "    require(graphics)\n",
      "    mosaicplot(Titanic, main = \"Survival on the Titanic\")\n",
      "    ## Higher survival rates in children?\n",
      "    apply(Titanic, c(3, 4), sum)\n",
      "    ## Higher survival rates in females?\n",
      "    apply(Titanic, c(2, 4), sum)\n",
      "    ## Use loglm() in package 'MASS' for further analysis ...\n",
      "\n"
     ]
    }
   ],
   "source": [
    "# 데이터 설명\n",
    "print(data_1.__doc__)"
   ]
  },
  {
   "cell_type": "markdown",
   "metadata": {},
   "source": [
    "---"
   ]
  },
  {
   "cell_type": "markdown",
   "metadata": {},
   "source": [
    "#### 2. 미국 강수량"
   ]
  },
  {
   "cell_type": "code",
   "execution_count": 6,
   "metadata": {},
   "outputs": [],
   "source": [
    "# 데이터 불러오기\n",
    "data_2 = sm.datasets.get_rdataset(\"precip\")"
   ]
  },
  {
   "cell_type": "code",
   "execution_count": 7,
   "metadata": {
    "scrolled": true
   },
   "outputs": [
    {
     "data": {
      "text/html": [
       "<div>\n",
       "<style scoped>\n",
       "    .dataframe tbody tr th:only-of-type {\n",
       "        vertical-align: middle;\n",
       "    }\n",
       "\n",
       "    .dataframe tbody tr th {\n",
       "        vertical-align: top;\n",
       "    }\n",
       "\n",
       "    .dataframe thead th {\n",
       "        text-align: right;\n",
       "    }\n",
       "</style>\n",
       "<table border=\"1\" class=\"dataframe\">\n",
       "  <thead>\n",
       "    <tr style=\"text-align: right;\">\n",
       "      <th></th>\n",
       "      <th>x</th>\n",
       "    </tr>\n",
       "  </thead>\n",
       "  <tbody>\n",
       "    <tr>\n",
       "      <th>65</th>\n",
       "      <td>17.4</td>\n",
       "    </tr>\n",
       "    <tr>\n",
       "      <th>66</th>\n",
       "      <td>40.8</td>\n",
       "    </tr>\n",
       "    <tr>\n",
       "      <th>67</th>\n",
       "      <td>29.1</td>\n",
       "    </tr>\n",
       "    <tr>\n",
       "      <th>68</th>\n",
       "      <td>14.6</td>\n",
       "    </tr>\n",
       "    <tr>\n",
       "      <th>69</th>\n",
       "      <td>59.2</td>\n",
       "    </tr>\n",
       "  </tbody>\n",
       "</table>\n",
       "</div>"
      ],
      "text/plain": [
       "       x\n",
       "65  17.4\n",
       "66  40.8\n",
       "67  29.1\n",
       "68  14.6\n",
       "69  59.2"
      ]
     },
     "execution_count": 7,
     "metadata": {},
     "output_type": "execute_result"
    }
   ],
   "source": [
    "# 데이터 프레임으로 정의\n",
    "df_2 = data_2.data\n",
    "df_2.tail()"
   ]
  },
  {
   "cell_type": "code",
   "execution_count": 8,
   "metadata": {
    "scrolled": true
   },
   "outputs": [
    {
     "name": "stdout",
     "output_type": "stream",
     "text": [
      "+----------+-------------------+\n",
      "| precip   | R Documentation   |\n",
      "+----------+-------------------+\n",
      "\n",
      "Annual Precipitation in US Cities\n",
      "---------------------------------\n",
      "\n",
      "Description\n",
      "~~~~~~~~~~~\n",
      "\n",
      "The average amount of precipitation (rainfall) in inches for each of 70\n",
      "United States (and Puerto Rico) cities.\n",
      "\n",
      "Usage\n",
      "~~~~~\n",
      "\n",
      "::\n",
      "\n",
      "    precip\n",
      "\n",
      "Format\n",
      "~~~~~~\n",
      "\n",
      "A named vector of length 70.\n",
      "\n",
      "Note\n",
      "~~~~\n",
      "\n",
      "The dataset version up to Nov.16, 2016 had a typo in ``\"Cincinnati\"``'s\n",
      "name. The examples show how to recreate that version.\n",
      "\n",
      "Source\n",
      "~~~~~~\n",
      "\n",
      "Statistical Abstracts of the United States, 1975.\n",
      "\n",
      "References\n",
      "~~~~~~~~~~\n",
      "\n",
      "McNeil, D. R. (1977) *Interactive Data Analysis*. New York: Wiley.\n",
      "\n",
      "Examples\n",
      "~~~~~~~~\n",
      "\n",
      "::\n",
      "\n",
      "    require(graphics)\n",
      "    dotchart(precip[order(precip)], main = \"precip data\")\n",
      "    title(sub = \"Average annual precipitation (in.)\")\n",
      "\n",
      "    ## Old (\"wrong\") version of dataset (just name change):\n",
      "    precip.O <- local({\n",
      "       p <- precip; names(p)[names(p) == \"Cincinnati\"] <- \"Cincinati\" ; p })\n",
      "    stopifnot(all(precip == precip.O),\n",
      "          match(\"Cincinnati\", names(precip)) == 46,\n",
      "          identical(names(precip)[-46], names(precip.O)[-46]))\n",
      "\n"
     ]
    }
   ],
   "source": [
    "# 데이터 설명\n",
    "print(data_2.__doc__)"
   ]
  },
  {
   "cell_type": "code",
   "execution_count": 9,
   "metadata": {
    "scrolled": false
   },
   "outputs": [
    {
     "data": {
      "image/png": "[encoded data removed]",
      "text/plain": [
       "<matplotlib.figure.Figure at 0x11465ef28>"
      ]
     },
     "metadata": {
      "image/png": {
       "height": 252,
       "width": 370
      }
     },
     "output_type": "display_data"
    }
   ],
   "source": [
    "# plot 생성\n",
    "df_2.plot()\n",
    "\n",
    "plt.grid(True)\n",
    "plt.show()"
   ]
  },
  {
   "cell_type": "markdown",
   "metadata": {},
   "source": [
    "---"
   ]
  },
  {
   "cell_type": "markdown",
   "metadata": {},
   "source": [
    "#### 3. 황체 형성 호르몬 수치 시계열"
   ]
  },
  {
   "cell_type": "code",
   "execution_count": 10,
   "metadata": {},
   "outputs": [],
   "source": [
    "# 데이터 불러오기\n",
    "data_3 = sm.datasets.get_rdataset(\"lh\")"
   ]
  },
  {
   "cell_type": "code",
   "execution_count": 11,
   "metadata": {},
   "outputs": [
    {
     "data": {
      "text/html": [
       "<div>\n",
       "<style scoped>\n",
       "    .dataframe tbody tr th:only-of-type {\n",
       "        vertical-align: middle;\n",
       "    }\n",
       "\n",
       "    .dataframe tbody tr th {\n",
       "        vertical-align: top;\n",
       "    }\n",
       "\n",
       "    .dataframe thead th {\n",
       "        text-align: right;\n",
       "    }\n",
       "</style>\n",
       "<table border=\"1\" class=\"dataframe\">\n",
       "  <thead>\n",
       "    <tr style=\"text-align: right;\">\n",
       "      <th></th>\n",
       "      <th>time</th>\n",
       "      <th>lh</th>\n",
       "    </tr>\n",
       "  </thead>\n",
       "  <tbody>\n",
       "    <tr>\n",
       "      <th>43</th>\n",
       "      <td>44</td>\n",
       "      <td>2.6</td>\n",
       "    </tr>\n",
       "    <tr>\n",
       "      <th>44</th>\n",
       "      <td>45</td>\n",
       "      <td>2.1</td>\n",
       "    </tr>\n",
       "    <tr>\n",
       "      <th>45</th>\n",
       "      <td>46</td>\n",
       "      <td>3.4</td>\n",
       "    </tr>\n",
       "    <tr>\n",
       "      <th>46</th>\n",
       "      <td>47</td>\n",
       "      <td>3.0</td>\n",
       "    </tr>\n",
       "    <tr>\n",
       "      <th>47</th>\n",
       "      <td>48</td>\n",
       "      <td>2.9</td>\n",
       "    </tr>\n",
       "  </tbody>\n",
       "</table>\n",
       "</div>"
      ],
      "text/plain": [
       "    time   lh\n",
       "43    44  2.6\n",
       "44    45  2.1\n",
       "45    46  3.4\n",
       "46    47  3.0\n",
       "47    48  2.9"
      ]
     },
     "execution_count": 11,
     "metadata": {},
     "output_type": "execute_result"
    }
   ],
   "source": [
    "# 데이터 프레임으로 정의\n",
    "df_3 = data_3.data\n",
    "df_3.tail()"
   ]
  },
  {
   "cell_type": "code",
   "execution_count": 12,
   "metadata": {},
   "outputs": [
    {
     "name": "stdout",
     "output_type": "stream",
     "text": [
      "+------+-------------------+\n",
      "| lh   | R Documentation   |\n",
      "+------+-------------------+\n",
      "\n",
      "Luteinizing Hormone in Blood Samples\n",
      "------------------------------------\n",
      "\n",
      "Description\n",
      "~~~~~~~~~~~\n",
      "\n",
      "A regular time series giving the luteinizing hormone in blood samples at\n",
      "10 mins intervals from a human female, 48 samples.\n",
      "\n",
      "Usage\n",
      "~~~~~\n",
      "\n",
      "::\n",
      "\n",
      "    lh\n",
      "\n",
      "Source\n",
      "~~~~~~\n",
      "\n",
      "P.J. Diggle (1990) *Time Series: A Biostatistical Introduction.* Oxford,\n",
      "table A.1, series 3\n",
      "\n"
     ]
    }
   ],
   "source": [
    "# 데이터 설명\n",
    "print(data_3.__doc__)"
   ]
  },
  {
   "cell_type": "code",
   "execution_count": 13,
   "metadata": {
    "scrolled": false
   },
   "outputs": [
    {
     "data": {
      "image/png": "[encoded data removed]",
      "text/plain": [
       "<matplotlib.figure.Figure at 0x1129c7668>"
      ]
     },
     "metadata": {
      "image/png": {
       "height": 263,
       "width": 376
      }
     },
     "output_type": "display_data"
    }
   ],
   "source": [
    "# plot 생성\n",
    "df_3.plot(x=\"time\", y=\"lh\")\n",
    "\n",
    "plt.grid(True)\n",
    "plt.show()"
   ]
  },
  {
   "cell_type": "markdown",
   "metadata": {},
   "source": [
    "---"
   ]
  },
  {
   "cell_type": "markdown",
   "metadata": {},
   "source": [
    "#### 4. 호흡기 질환 사망자 수"
   ]
  },
  {
   "cell_type": "code",
   "execution_count": 14,
   "metadata": {},
   "outputs": [],
   "source": [
    "# 데이터 불러오기\n",
    "data_4 = sm.datasets.get_rdataset(\"deaths\", \"MASS\")"
   ]
  },
  {
   "cell_type": "code",
   "execution_count": 15,
   "metadata": {},
   "outputs": [
    {
     "data": {
      "text/html": [
       "<div>\n",
       "<style scoped>\n",
       "    .dataframe tbody tr th:only-of-type {\n",
       "        vertical-align: middle;\n",
       "    }\n",
       "\n",
       "    .dataframe tbody tr th {\n",
       "        vertical-align: top;\n",
       "    }\n",
       "\n",
       "    .dataframe thead th {\n",
       "        text-align: right;\n",
       "    }\n",
       "</style>\n",
       "<table border=\"1\" class=\"dataframe\">\n",
       "  <thead>\n",
       "    <tr style=\"text-align: right;\">\n",
       "      <th></th>\n",
       "      <th>time</th>\n",
       "      <th>deaths</th>\n",
       "    </tr>\n",
       "  </thead>\n",
       "  <tbody>\n",
       "    <tr>\n",
       "      <th>67</th>\n",
       "      <td>1979.583333</td>\n",
       "      <td>1354</td>\n",
       "    </tr>\n",
       "    <tr>\n",
       "      <th>68</th>\n",
       "      <td>1979.666667</td>\n",
       "      <td>1333</td>\n",
       "    </tr>\n",
       "    <tr>\n",
       "      <th>69</th>\n",
       "      <td>1979.750000</td>\n",
       "      <td>1492</td>\n",
       "    </tr>\n",
       "    <tr>\n",
       "      <th>70</th>\n",
       "      <td>1979.833333</td>\n",
       "      <td>1781</td>\n",
       "    </tr>\n",
       "    <tr>\n",
       "      <th>71</th>\n",
       "      <td>1979.916667</td>\n",
       "      <td>1915</td>\n",
       "    </tr>\n",
       "  </tbody>\n",
       "</table>\n",
       "</div>"
      ],
      "text/plain": [
       "           time  deaths\n",
       "67  1979.583333    1354\n",
       "68  1979.666667    1333\n",
       "69  1979.750000    1492\n",
       "70  1979.833333    1781\n",
       "71  1979.916667    1915"
      ]
     },
     "execution_count": 15,
     "metadata": {},
     "output_type": "execute_result"
    }
   ],
   "source": [
    "# 데이터 프레임으로 정의\n",
    "df_4 = data_4.data\n",
    "df_4.tail()"
   ]
  },
  {
   "cell_type": "code",
   "execution_count": 16,
   "metadata": {},
   "outputs": [
    {
     "name": "stdout",
     "output_type": "stream",
     "text": [
      "+----------+-------------------+\n",
      "| deaths   | R Documentation   |\n",
      "+----------+-------------------+\n",
      "\n",
      "Monthly Deaths from Lung Diseases in the UK\n",
      "-------------------------------------------\n",
      "\n",
      "Description\n",
      "~~~~~~~~~~~\n",
      "\n",
      "A time series giving the monthly deaths from bronchitis, emphysema and\n",
      "asthma in the UK, 1974-1979, both sexes (``deaths``),\n",
      "\n",
      "Usage\n",
      "~~~~~\n",
      "\n",
      "::\n",
      "\n",
      "    deaths\n",
      "\n",
      "Source\n",
      "~~~~~~\n",
      "\n",
      "P. J. Diggle (1990) *Time Series: A Biostatistical Introduction.*\n",
      "Oxford, table A.3\n",
      "\n",
      "References\n",
      "~~~~~~~~~~\n",
      "\n",
      "Venables, W. N. and Ripley, B. D. (2002) *Modern Applied Statistics with\n",
      "S.* Fourth edition. Springer.\n",
      "\n",
      "See Also\n",
      "~~~~~~~~\n",
      "\n",
      "This the same as dataset ``ldeaths`` in **R**'s datasets package.\n",
      "\n"
     ]
    }
   ],
   "source": [
    "# 데이터 설명\n",
    "print(data_4.__doc__)"
   ]
  },
  {
   "cell_type": "markdown",
   "metadata": {},
   "source": [
    "- 이 시계열 데이터에서는 시간이 1년을 1.0으로, 1개월을 1/12로 하는 값(year-fraciton)으로 인코딩되어 있음\n",
    "- 이 값을 파이썬의 datatime 포맷으로 바꾸려면 다음과 같은 함수를 사용해야 함"
   ]
  },
  {
   "cell_type": "code",
   "execution_count": 17,
   "metadata": {},
   "outputs": [],
   "source": [
    "# R에서 표시되는 시간 데이터를 파이선의 datatime 포맷을 변환시키는 함수 생성\n",
    "def yearfraction2datetime(yearfraction, startyear=0):\n",
    "    import datetime, dateutil\n",
    "    year = int(yearfraction) + startyear\n",
    "    month = int(round(12 * (yearfraction - year)))\n",
    "    delta = dateutil.relativedelta.relativedelta(months=month)\n",
    "    date = datetime.datetime(year, 1, 1) + delta\n",
    "    return date"
   ]
  },
  {
   "cell_type": "code",
   "execution_count": 18,
   "metadata": {},
   "outputs": [
    {
     "data": {
      "text/html": [
       "<div>\n",
       "<style scoped>\n",
       "    .dataframe tbody tr th:only-of-type {\n",
       "        vertical-align: middle;\n",
       "    }\n",
       "\n",
       "    .dataframe tbody tr th {\n",
       "        vertical-align: top;\n",
       "    }\n",
       "\n",
       "    .dataframe thead th {\n",
       "        text-align: right;\n",
       "    }\n",
       "</style>\n",
       "<table border=\"1\" class=\"dataframe\">\n",
       "  <thead>\n",
       "    <tr style=\"text-align: right;\">\n",
       "      <th></th>\n",
       "      <th>time</th>\n",
       "      <th>deaths</th>\n",
       "      <th>datetime</th>\n",
       "    </tr>\n",
       "  </thead>\n",
       "  <tbody>\n",
       "    <tr>\n",
       "      <th>67</th>\n",
       "      <td>1979.583333</td>\n",
       "      <td>1354</td>\n",
       "      <td>1979-08-01</td>\n",
       "    </tr>\n",
       "    <tr>\n",
       "      <th>68</th>\n",
       "      <td>1979.666667</td>\n",
       "      <td>1333</td>\n",
       "      <td>1979-09-01</td>\n",
       "    </tr>\n",
       "    <tr>\n",
       "      <th>69</th>\n",
       "      <td>1979.750000</td>\n",
       "      <td>1492</td>\n",
       "      <td>1979-10-01</td>\n",
       "    </tr>\n",
       "    <tr>\n",
       "      <th>70</th>\n",
       "      <td>1979.833333</td>\n",
       "      <td>1781</td>\n",
       "      <td>1979-11-01</td>\n",
       "    </tr>\n",
       "    <tr>\n",
       "      <th>71</th>\n",
       "      <td>1979.916667</td>\n",
       "      <td>1915</td>\n",
       "      <td>1979-12-01</td>\n",
       "    </tr>\n",
       "  </tbody>\n",
       "</table>\n",
       "</div>"
      ],
      "text/plain": [
       "           time  deaths   datetime\n",
       "67  1979.583333    1354 1979-08-01\n",
       "68  1979.666667    1333 1979-09-01\n",
       "69  1979.750000    1492 1979-10-01\n",
       "70  1979.833333    1781 1979-11-01\n",
       "71  1979.916667    1915 1979-12-01"
      ]
     },
     "execution_count": 18,
     "metadata": {},
     "output_type": "execute_result"
    }
   ],
   "source": [
    "# 데이터 프레임 생성\n",
    "df_4[\"datetime\"] = df_4.time.map(yearfraction2datetime)\n",
    "df_4.tail()"
   ]
  },
  {
   "cell_type": "code",
   "execution_count": 19,
   "metadata": {
    "scrolled": true
   },
   "outputs": [
    {
     "data": {
      "image/png": "[encoded data removed]",
      "text/plain": [
       "<matplotlib.figure.Figure at 0x11462cf28>"
      ]
     },
     "metadata": {
      "image/png": {
       "height": 264,
       "width": 383
      }
     },
     "output_type": "display_data"
    }
   ],
   "source": [
    "# plot 생성\n",
    "df_4.plot(x=\"datetime\", y=\"deaths\")\n",
    "\n",
    "plt.grid(True)\n",
    "plt.show()"
   ]
  },
  {
   "cell_type": "markdown",
   "metadata": {},
   "source": [
    "---"
   ]
  },
  {
   "cell_type": "markdown",
   "metadata": {},
   "source": [
    "#### 5. 항공 운송인원"
   ]
  },
  {
   "cell_type": "code",
   "execution_count": 20,
   "metadata": {},
   "outputs": [],
   "source": [
    "# 데이터 불러오기\n",
    "data_5 = sm.datasets.get_rdataset(\"AirPassengers\")"
   ]
  },
  {
   "cell_type": "code",
   "execution_count": 21,
   "metadata": {},
   "outputs": [
    {
     "data": {
      "text/html": [
       "<div>\n",
       "<style scoped>\n",
       "    .dataframe tbody tr th:only-of-type {\n",
       "        vertical-align: middle;\n",
       "    }\n",
       "\n",
       "    .dataframe tbody tr th {\n",
       "        vertical-align: top;\n",
       "    }\n",
       "\n",
       "    .dataframe thead th {\n",
       "        text-align: right;\n",
       "    }\n",
       "</style>\n",
       "<table border=\"1\" class=\"dataframe\">\n",
       "  <thead>\n",
       "    <tr style=\"text-align: right;\">\n",
       "      <th></th>\n",
       "      <th>time</th>\n",
       "      <th>AirPassengers</th>\n",
       "    </tr>\n",
       "  </thead>\n",
       "  <tbody>\n",
       "    <tr>\n",
       "      <th>139</th>\n",
       "      <td>1960.583333</td>\n",
       "      <td>606</td>\n",
       "    </tr>\n",
       "    <tr>\n",
       "      <th>140</th>\n",
       "      <td>1960.666667</td>\n",
       "      <td>508</td>\n",
       "    </tr>\n",
       "    <tr>\n",
       "      <th>141</th>\n",
       "      <td>1960.750000</td>\n",
       "      <td>461</td>\n",
       "    </tr>\n",
       "    <tr>\n",
       "      <th>142</th>\n",
       "      <td>1960.833333</td>\n",
       "      <td>390</td>\n",
       "    </tr>\n",
       "    <tr>\n",
       "      <th>143</th>\n",
       "      <td>1960.916667</td>\n",
       "      <td>432</td>\n",
       "    </tr>\n",
       "  </tbody>\n",
       "</table>\n",
       "</div>"
      ],
      "text/plain": [
       "            time  AirPassengers\n",
       "139  1960.583333            606\n",
       "140  1960.666667            508\n",
       "141  1960.750000            461\n",
       "142  1960.833333            390\n",
       "143  1960.916667            432"
      ]
     },
     "execution_count": 21,
     "metadata": {},
     "output_type": "execute_result"
    }
   ],
   "source": [
    "# 데이터 프레임으로 정의\n",
    "df_5 = data_5.data\n",
    "df_5.tail()"
   ]
  },
  {
   "cell_type": "code",
   "execution_count": 22,
   "metadata": {},
   "outputs": [
    {
     "name": "stdout",
     "output_type": "stream",
     "text": [
      "+-----------------+-------------------+\n",
      "| AirPassengers   | R Documentation   |\n",
      "+-----------------+-------------------+\n",
      "\n",
      "Monthly Airline Passenger Numbers 1949-1960\n",
      "-------------------------------------------\n",
      "\n",
      "Description\n",
      "~~~~~~~~~~~\n",
      "\n",
      "The classic Box & Jenkins airline data. Monthly totals of international\n",
      "airline passengers, 1949 to 1960.\n",
      "\n",
      "Usage\n",
      "~~~~~\n",
      "\n",
      "::\n",
      "\n",
      "    AirPassengers\n",
      "\n",
      "Format\n",
      "~~~~~~\n",
      "\n",
      "A monthly time series, in thousands.\n",
      "\n",
      "Source\n",
      "~~~~~~\n",
      "\n",
      "Box, G. E. P., Jenkins, G. M. and Reinsel, G. C. (1976) *Time Series\n",
      "Analysis, Forecasting and Control.* Third Edition. Holden-Day. Series G.\n",
      "\n",
      "Examples\n",
      "~~~~~~~~\n",
      "\n",
      "::\n",
      "\n",
      "    ## Not run: \n",
      "    ## These are quite slow and so not run by example(AirPassengers)\n",
      "\n",
      "    ## The classic 'airline model', by full ML\n",
      "    (fit <- arima(log10(AirPassengers), c(0, 1, 1),\n",
      "                  seasonal = list(order = c(0, 1, 1), period = 12)))\n",
      "    update(fit, method = \"CSS\")\n",
      "    update(fit, x = window(log10(AirPassengers), start = 1954))\n",
      "    pred <- predict(fit, n.ahead = 24)\n",
      "    tl <- pred$pred - 1.96 * pred$se\n",
      "    tu <- pred$pred + 1.96 * pred$se\n",
      "    ts.plot(AirPassengers, 10^tl, 10^tu, log = \"y\", lty = c(1, 2, 2))\n",
      "\n",
      "    ## full ML fit is the same if the series is reversed, CSS fit is not\n",
      "    ap0 <- rev(log10(AirPassengers))\n",
      "    attributes(ap0) <- attributes(AirPassengers)\n",
      "    arima(ap0, c(0, 1, 1), seasonal = list(order = c(0, 1, 1), period = 12))\n",
      "    arima(ap0, c(0, 1, 1), seasonal = list(order = c(0, 1, 1), period = 12),\n",
      "          method = \"CSS\")\n",
      "\n",
      "    ## Structural Time Series\n",
      "    ap <- log10(AirPassengers) - 2\n",
      "    (fit <- StructTS(ap, type = \"BSM\"))\n",
      "    par(mfrow = c(1, 2))\n",
      "    plot(cbind(ap, fitted(fit)), plot.type = \"single\")\n",
      "    plot(cbind(ap, tsSmooth(fit)), plot.type = \"single\")\n",
      "\n",
      "    ## End(Not run)\n",
      "\n"
     ]
    }
   ],
   "source": [
    "# 데이터 설명\n",
    "print(data_5.__doc__)"
   ]
  },
  {
   "cell_type": "code",
   "execution_count": 23,
   "metadata": {
    "scrolled": false
   },
   "outputs": [
    {
     "data": {
      "text/html": [
       "<div>\n",
       "<style scoped>\n",
       "    .dataframe tbody tr th:only-of-type {\n",
       "        vertical-align: middle;\n",
       "    }\n",
       "\n",
       "    .dataframe tbody tr th {\n",
       "        vertical-align: top;\n",
       "    }\n",
       "\n",
       "    .dataframe thead th {\n",
       "        text-align: right;\n",
       "    }\n",
       "</style>\n",
       "<table border=\"1\" class=\"dataframe\">\n",
       "  <thead>\n",
       "    <tr style=\"text-align: right;\">\n",
       "      <th></th>\n",
       "      <th>time</th>\n",
       "      <th>AirPassengers</th>\n",
       "      <th>datetime</th>\n",
       "    </tr>\n",
       "  </thead>\n",
       "  <tbody>\n",
       "    <tr>\n",
       "      <th>139</th>\n",
       "      <td>1960.583333</td>\n",
       "      <td>606</td>\n",
       "      <td>1960-08-01</td>\n",
       "    </tr>\n",
       "    <tr>\n",
       "      <th>140</th>\n",
       "      <td>1960.666667</td>\n",
       "      <td>508</td>\n",
       "      <td>1960-09-01</td>\n",
       "    </tr>\n",
       "    <tr>\n",
       "      <th>141</th>\n",
       "      <td>1960.750000</td>\n",
       "      <td>461</td>\n",
       "      <td>1960-10-01</td>\n",
       "    </tr>\n",
       "    <tr>\n",
       "      <th>142</th>\n",
       "      <td>1960.833333</td>\n",
       "      <td>390</td>\n",
       "      <td>1960-11-01</td>\n",
       "    </tr>\n",
       "    <tr>\n",
       "      <th>143</th>\n",
       "      <td>1960.916667</td>\n",
       "      <td>432</td>\n",
       "      <td>1960-12-01</td>\n",
       "    </tr>\n",
       "  </tbody>\n",
       "</table>\n",
       "</div>"
      ],
      "text/plain": [
       "            time  AirPassengers   datetime\n",
       "139  1960.583333            606 1960-08-01\n",
       "140  1960.666667            508 1960-09-01\n",
       "141  1960.750000            461 1960-10-01\n",
       "142  1960.833333            390 1960-11-01\n",
       "143  1960.916667            432 1960-12-01"
      ]
     },
     "execution_count": 23,
     "metadata": {},
     "output_type": "execute_result"
    }
   ],
   "source": [
    "# 데이터 프레임 생성\n",
    "df_5[\"datetime\"] = df_5.time.map(yearfraction2datetime)\n",
    "df_5.tail()"
   ]
  },
  {
   "cell_type": "code",
   "execution_count": 24,
   "metadata": {},
   "outputs": [
    {
     "data": {
      "image/png": "[encoded data removed]",
      "text/plain": [
       "<matplotlib.figure.Figure at 0x10b936390>"
      ]
     },
     "metadata": {
      "image/png": {
       "height": 263,
       "width": 377
      }
     },
     "output_type": "display_data"
    }
   ],
   "source": [
    "# plot 생성\n",
    "df_5.plot(x=\"datetime\", y=\"AirPassengers\")\n",
    "\n",
    "plt.grid(True)\n",
    "plt.show()"
   ]
  }
 ],
 "metadata": {
  "kernelspec": {
   "display_name": "Python 3",
   "language": "python",
   "name": "python3"
  },
  "language_info": {
   "codemirror_mode": {
    "name": "ipython",
    "version": 3
   },
   "file_extension": ".py",
   "mimetype": "text/x-python",
   "name": "python",
   "nbconvert_exporter": "python",
   "pygments_lexer": "ipython3",
   "version": "3.6.4"
  }
 },
 "nbformat": 4,
 "nbformat_minor": 2
}
