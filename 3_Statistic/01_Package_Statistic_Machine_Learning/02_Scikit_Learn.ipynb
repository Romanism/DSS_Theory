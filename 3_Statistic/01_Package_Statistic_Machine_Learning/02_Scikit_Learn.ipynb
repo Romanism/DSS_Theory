{
 "cells": [
  {
   "cell_type": "markdown",
   "metadata": {},
   "source": [
    "## Scikit-Learn"
   ]
  },
  {
   "cell_type": "markdown",
   "metadata": {},
   "source": [
    "머신 러닝 교육 및 실무를 위한 파이썬 패키지"
   ]
  },
  {
   "cell_type": "markdown",
   "metadata": {},
   "source": [
    "### 00. Setting"
   ]
  },
  {
   "cell_type": "code",
   "execution_count": 1,
   "metadata": {},
   "outputs": [],
   "source": [
    "import sklearn"
   ]
  },
  {
   "cell_type": "markdown",
   "metadata": {},
   "source": [
    "### 01. 종류"
   ]
  },
  {
   "cell_type": "markdown",
   "metadata": {},
   "source": [
    "#### 1. 구성요소"
   ]
  },
  {
   "cell_type": "markdown",
   "metadata": {},
   "source": [
    "* 벤치마크용 샘플 데이터 세트\n",
    "* 데이터 전처리(preprocessing) 기능\n",
    "* 지도 학습(Supervised learning) 모형\n",
    "* 비지도 학습(Unsupervised learning) 모형\n",
    "* 모형 평가 및 선택\n",
    "\n",
    "자세한 내용은 다음 웹사이트를 참조\n",
    "* http://scikit-learn.org"
   ]
  },
  {
   "cell_type": "markdown",
   "metadata": {},
   "source": [
    "---"
   ]
  },
  {
   "cell_type": "markdown",
   "metadata": {},
   "source": [
    "#### 2. 지도 학습(Supervised learning) 모형"
   ]
  },
  {
   "cell_type": "markdown",
   "metadata": {},
   "source": [
    "* http://scikit-learn.org/stable/supervised_learning.html\n",
    "\n",
    "* Generalized Linear Models\n",
    " * Ordinary Least Squares\n",
    " * Ridge/Lasso/Elastic Net Regression\n",
    " * Logistic regression\n",
    " * Polynomial regression\n",
    " * Perceptron\n",
    "* Linear and Quadratic Discriminant Analysis\n",
    "* Support Vector Machines\n",
    "* Stochastic Gradient Descent\n",
    "* Nearest Neighbor Algorithms\n",
    "* Gaussian Processes\n",
    "* Naive Bayes\n",
    "* Decision Trees\n",
    "* Ensemble methods\n",
    " * Random Forests\n",
    " * AdaBoost"
   ]
  },
  {
   "cell_type": "markdown",
   "metadata": {},
   "source": [
    "---"
   ]
  },
  {
   "cell_type": "markdown",
   "metadata": {},
   "source": [
    "#### 3. 비지도 학습(Unsupervised learning) 모형"
   ]
  },
  {
   "cell_type": "markdown",
   "metadata": {},
   "source": [
    "* http://scikit-learn.org/stable/unsupervised_learning.html\n",
    "* Gaussian mixture models\n",
    "* Manifold learning\n",
    "* Clustering\n",
    " * K-means\n",
    " * DBSCAN\n",
    "* Biclustering\n",
    "* Decomposing\n",
    " * Principal component analysis (PCA)\n",
    " * Factor Analysis\n",
    " * Independent component analysis (ICA)\n",
    " * Latent Dirichlet Allocation (LDA)\n",
    "* Covariance estimation\n",
    "* Novelty and Outlier Detection\n",
    "* Density Estimation"
   ]
  },
  {
   "cell_type": "markdown",
   "metadata": {},
   "source": [
    "---"
   ]
  },
  {
   "cell_type": "markdown",
   "metadata": {},
   "source": [
    "#### 4. 서브 패키지"
   ]
  },
  {
   "cell_type": "markdown",
   "metadata": {},
   "source": [
    "* 자료 제공: \n",
    " * `sklearn.datasets`: 샘플 데이터 세트 제공\n",
    "\n",
    "\n",
    "* 자료 전처리: \n",
    " * `sklearn.preprocessing`: imputation, encoding 등 단순 전처리\n",
    " * `sklearn.feature_extraction`: Feature Extraction\n",
    "\n",
    "\n",
    "* 모형:\n",
    " * `sklearn.base`: Base classes and utility functions\n",
    " * `sklearn.pipeline`: Pipeline\n",
    " * `sklearn.linear_model`: Generalized Linear Models\n",
    " * `sklearn.naive_bayes`: Naive Bayes\n",
    " * `sklearn.discriminant_analysis`: Discriminant Analysis\n",
    " * `sklearn.neighbors`: Nearest Neighbors\n",
    " * `sklearn.mixture`: Gaussian Mixture Models\n",
    " * `sklearn.svm`: Support Vector Machines\n",
    " * `sklearn.tree`: Decision Trees\n",
    " * `sklearn.ensemble`: Ensemble Methods\n",
    " * `sklearn.cluster`: Clustering\n",
    "\n",
    "\n",
    "* 모형 평가: \n",
    " * `sklearn.metrics`: Metrics\n",
    " * `sklearn.cross_validation`: Cross Validation\n",
    " * `sklearn.grid_search`: Grid Search"
   ]
  },
  {
   "cell_type": "markdown",
   "metadata": {},
   "source": [
    "---"
   ]
  },
  {
   "cell_type": "markdown",
   "metadata": {},
   "source": [
    "### 02. Sample data"
   ]
  },
  {
   "cell_type": "markdown",
   "metadata": {},
   "source": [
    "- 예제 데이터 세트는 데이터 크기가 작은 것부터 큰 것까지 다양함\n",
    "- 작은 예제 데이터는 패키지 안에 포함하여 배포\n",
    "- 크기가 큰 것들은 첫번째로 데이터를 불러들일때 인터넷에서 다운로드받아 저장해 놓았다가 불러옴"
   ]
  },
  {
   "cell_type": "markdown",
   "metadata": {},
   "source": [
    "#### 1) 예제 데이터 세트를 불러오는 명령"
   ]
  },
  {
   "cell_type": "markdown",
   "metadata": {},
   "source": [
    "* Load 계열 명령: 저장된 dataset import\n",
    "* Fetch 계열 명령: 인터넷에서 캐쉬로 download 후 import\n",
    "* Make 계열 명령: 가상 dataset을 생성"
   ]
  },
  {
   "cell_type": "markdown",
   "metadata": {},
   "source": [
    "#### 2) Load 계열 명령"
   ]
  },
  {
   "cell_type": "markdown",
   "metadata": {},
   "source": [
    "load 계열의 명령들은 패키지에 처음부터 저장되어 다운로드 없이 바로 사용 가능\n",
    " \n",
    "* `load_boston()`: 회귀 분석용 보스턴 집값 \n",
    "* `load_diabetes()`: 회귀 분석용 당뇨병 자료\n",
    "* `load_linnerud()`: 회귀 분석용 linnerud 자료\n",
    "* `load_iris()`: classification용 iris 자료\n",
    "* `load_digits()`: classification용 숫자 필기 이미지 자료\n",
    "* `load_sample_image()`: 압축용 이미지"
   ]
  },
  {
   "cell_type": "markdown",
   "metadata": {},
   "source": [
    "#### 3) Fetch 계열 명령 (인터넷 연결 필수)"
   ]
  },
  {
   "cell_type": "markdown",
   "metadata": {},
   "source": [
    "- 데이터의 크기가 커서 패키지에 처음부터 저장되어 있지 않고 인터넷에서 다운로드 받음\n",
    "- 홈 디렉토리 아래의 scikit_learn_data 라는 서브 디렉토리에 저장 후 불러들임\n",
    "\n",
    "\n",
    "* `fetch_covtype()` : 회귀분석용 토지 조사 자료\n",
    "* `fetch_20newsgroups()`  : 뉴스 그룹 텍스트 자료\n",
    "* `fetch_olivetti_faces()` : 얼굴 이미지 자료\n",
    "* `fetch_lfw_people()` : 얼굴 이미지 자료\n",
    "* `fetch_lfw_pairs()` : 얼굴 이미지 자료\n",
    "* `fetch_rcv1()` : 로이터 뉴스 corpus\n",
    "* `fetch_mldata()` : ML 웹사이트에서 다운로드"
   ]
  },
  {
   "cell_type": "markdown",
   "metadata": {},
   "source": [
    "#### 4) Make 계열 명령"
   ]
  },
  {
   "cell_type": "markdown",
   "metadata": {},
   "source": [
    "가상 데이터를 생성하는 역할\n",
    "\n",
    "\n",
    "* `make_regression()`: 회귀 분석용 가상 데이터 생성 \n",
    "* `make_classification()`: 분류용 가상 데이터 생성 \n",
    "* `make_blobs()`: 클러스터링용 가상 데이터 생성, blobs를 이용해 classification가능"
   ]
  },
  {
   "cell_type": "markdown",
   "metadata": {},
   "source": [
    "#### 5) 데이터 세트 형식"
   ]
  },
  {
   "cell_type": "markdown",
   "metadata": {},
   "source": [
    "scikit-learn의 대부분의 샘플 데이터는 `Bunch` 라는 클래스 객체로 생성. 이 클래스 객체는 다음과 같은 속성을 가짐\n",
    "\n",
    " * `data`: (필수) 독립 변수 `ndarray` 배열 (X, N X M Feature)\n",
    " * `target`: (필수) 종속 변수 `ndarray` 배열 (Y)\n",
    " * `feature_names`: (옵션) 독립 변수 이름 리스트\n",
    " * `target_names`: (옵션) 종속 변수 이름 리스트\n",
    " * `DESCR`: (옵션) 자료에 대한 설명"
   ]
  }
 ],
 "metadata": {
  "kernelspec": {
   "display_name": "Python 3",
   "language": "python",
   "name": "python3"
  },
  "language_info": {
   "codemirror_mode": {
    "name": "ipython",
    "version": 3
   },
   "file_extension": ".py",
   "mimetype": "text/x-python",
   "name": "python",
   "nbconvert_exporter": "python",
   "pygments_lexer": "ipython3",
   "version": "3.6.4"
  }
 },
 "nbformat": 4,
 "nbformat_minor": 2
}
