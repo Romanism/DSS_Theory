{
 "cells": [
  {
   "cell_type": "markdown",
   "metadata": {},
   "source": [
    "## SymPy를 사용한 함수 적분"
   ]
  },
  {
   "cell_type": "markdown",
   "metadata": {},
   "source": [
    "### 1. 적분 (개념)"
   ]
  },
  {
   "cell_type": "markdown",
   "metadata": {},
   "source": [
    "- 적분(integral)은 미분과 반대되는 개념\n",
    "- 부정적분(indefinite integral)과 정적분(definite integral)이 있음"
   ]
  },
  {
   "cell_type": "markdown",
   "metadata": {},
   "source": [
    "### 2. 부정적분 (indefinite integral)"
   ]
  },
  {
   "cell_type": "markdown",
   "metadata": {},
   "source": [
    "#### 2-1. 개념"
   ]
  },
  {
   "cell_type": "markdown",
   "metadata": {},
   "source": [
    "- 정확하게 미분과 반대되는 개념, 즉 반-미분(anti-derivative)\n",
    "- 도함수 $f(x)$가 미분되기 전의 함수를 의미"
   ]
  },
  {
   "cell_type": "markdown",
   "metadata": {},
   "source": [
    "$$ \\dfrac{dF(x)}{dx} = f(x) \\;\\;\\leftrightarrow\\;\\; F(x) = \\int_{}^{} f(x) dx + C $$"
   ]
  },
  {
   "cell_type": "markdown",
   "metadata": {},
   "source": [
    "#### 2-2. 편미분의 부정적분"
   ]
  },
  {
   "cell_type": "markdown",
   "metadata": {},
   "source": [
    "1) $f(x, y)$가 함수 $F_1(x, y)$를 $x$로 편미분한 함수이면"
   ]
  },
  {
   "cell_type": "markdown",
   "metadata": {},
   "source": [
    "$$ \\dfrac{\\partial F_1(x, y)}{\\partial x} = f(x, y) \\; \\leftrightarrow \\; F_1(x, y) = \\int_{}^{} f(x, y) dx + C(y) $$"
   ]
  },
  {
   "cell_type": "markdown",
   "metadata": {},
   "source": [
    "2) $f(x, y)$가 함수 $F_2(x, y)$를 $y$로 편미분한 함수이면"
   ]
  },
  {
   "cell_type": "markdown",
   "metadata": {},
   "source": [
    "$$\\dfrac{\\partial F_2(x, y)}{\\partial y} = f(x, y) \\; \\leftrightarrow \\; F_2(x, y) = \\int_{}^{} f(x, y) dy + C(x) \\\\ $$"
   ]
  },
  {
   "cell_type": "markdown",
   "metadata": {},
   "source": [
    "#### 2-3. 2차 도함수의 부정적분 "
   ]
  },
  {
   "cell_type": "markdown",
   "metadata": {},
   "source": [
    "$f(x, y)$가 함수 $F_3(x, y)$를 $x$로 편미분한 후 $y$로 편미분한 이차 도함수면"
   ]
  },
  {
   "cell_type": "markdown",
   "metadata": {},
   "source": [
    "$$ \\dfrac{\\partial^2 F_3(x)}{\\partial x \\partial y} = f(x, y) \\; \\leftrightarrow \\; F_3(x, y) = \\iint f(x, y) dxdy$$"
   ]
  },
  {
   "cell_type": "markdown",
   "metadata": {},
   "source": [
    "### 3. SymPy"
   ]
  },
  {
   "cell_type": "markdown",
   "metadata": {},
   "source": [
    "- sympy.integrate()를 통해 부정적분 계산\n",
    "- 두 개의 변수가 있을 땐 어떤 변수를 기준으로 적분을 할지 지정해야 함"
   ]
  },
  {
   "cell_type": "code",
   "execution_count": null,
   "metadata": {},
   "outputs": [],
   "source": [
    "import sympy"
   ]
  },
  {
   "cell_type": "code",
   "execution_count": 22,
   "metadata": {},
   "outputs": [],
   "source": [
    "sympy.init_printing(use_latex='mathjax')"
   ]
  },
  {
   "cell_type": "code",
   "execution_count": 32,
   "metadata": {},
   "outputs": [
    {
     "data": {
      "text/latex": [
       "$$x e^{x} + e^{x}$$"
      ],
      "text/plain": [
       "   x    x\n",
       "x⋅ℯ  + ℯ "
      ]
     },
     "execution_count": 32,
     "metadata": {},
     "output_type": "execute_result"
    }
   ],
   "source": [
    "x = sympy.symbols('x')\n",
    "f = x * sympy.exp(x) + sympy.exp(x)\n",
    "f"
   ]
  },
  {
   "cell_type": "code",
   "execution_count": 33,
   "metadata": {},
   "outputs": [
    {
     "data": {
      "text/latex": [
       "$$x e^{x}$$"
      ],
      "text/plain": [
       "   x\n",
       "x⋅ℯ "
      ]
     },
     "execution_count": 33,
     "metadata": {},
     "output_type": "execute_result"
    }
   ],
   "source": [
    "# 부정적분 구하기 (integrate)\n",
    "F = sympy.integrate(f) ; F"
   ]
  },
  {
   "cell_type": "code",
   "execution_count": 34,
   "metadata": {},
   "outputs": [
    {
     "data": {
      "text/latex": [
       "$$2 x + y$$"
      ],
      "text/plain": [
       "2⋅x + y"
      ]
     },
     "execution_count": 34,
     "metadata": {},
     "output_type": "execute_result"
    }
   ],
   "source": [
    "x, y = sympy.symbols('x y')\n",
    "f = 2 * x + y\n",
    "f"
   ]
  },
  {
   "cell_type": "code",
   "execution_count": 35,
   "metadata": {},
   "outputs": [
    {
     "data": {
      "text/latex": [
       "$$x^{2} + x y$$"
      ],
      "text/plain": [
       " 2      \n",
       "x  + x⋅y"
      ]
     },
     "execution_count": 35,
     "metadata": {},
     "output_type": "execute_result"
    }
   ],
   "source": [
    "# x를 기준으로 부정적분 구하기\n",
    "sympy.integrate(f, x)"
   ]
  },
  {
   "cell_type": "markdown",
   "metadata": {},
   "source": [
    "### 4. 정적분 (definite integral)"
   ]
  },
  {
   "cell_type": "markdown",
   "metadata": {},
   "source": [
    "#### 3-1. 개념"
   ]
  },
  {
   "cell_type": "markdown",
   "metadata": {},
   "source": [
    "독립변수 $x$가 어떤 구간 $[a,b]$사이일 때 그 구간에서 함수 $f(x)$와 $x$축이 이루는 면적"
   ]
  },
  {
   "cell_type": "markdown",
   "metadata": {},
   "source": [
    "$$\\int_{a}^{b} f(x) dx $$"
   ]
  },
  {
   "cell_type": "markdown",
   "metadata": {},
   "source": [
    "#### 3-2. 정적분 특징"
   ]
  },
  {
   "cell_type": "markdown",
   "metadata": {},
   "source": [
    "- 정적분은 함수의 면적을 구하는 방법\n",
    "- 부정적분과는 다른 개념이지만 부정적분을 이용하여 정적분을 구할 수 있음\n",
    "- 이를 미적분학의 기본 정리(Fundamental Theorem of Calculus)라 함\n",
    "- 부정적분의 식에서 구간 [a, b]를 대입한 값의 차이를 통해 면적을 구함"
   ]
  },
  {
   "cell_type": "markdown",
   "metadata": {},
   "source": [
    "#### 3-3. 정적분을 구하는 문제를 풀어보기"
   ]
  },
  {
   "cell_type": "markdown",
   "metadata": {},
   "source": [
    "$$ \\int_0^2 ( x^3 - 3x^2 + x + 6) dx $$ "
   ]
  },
  {
   "cell_type": "code",
   "execution_count": 9,
   "metadata": {},
   "outputs": [
    {
     "data": {
      "text/latex": [
       "$$x^{3} - 3 x^{2} + x + 6$$"
      ],
      "text/plain": [
       " 3      2        \n",
       "x  - 3⋅x  + x + 6"
      ]
     },
     "execution_count": 9,
     "metadata": {},
     "output_type": "execute_result"
    }
   ],
   "source": [
    "# x 변수를 선언\n",
    "x = sympy.symbols('x')\n",
    "f = x ** 3 - 3 * x ** 2 + x + 6\n",
    "f"
   ]
  },
  {
   "cell_type": "code",
   "execution_count": 10,
   "metadata": {},
   "outputs": [
    {
     "data": {
      "text/latex": [
       "$$\\frac{x^{4}}{4} - x^{3} + \\frac{x^{2}}{2} + 6 x$$"
      ],
      "text/plain": [
       " 4         2      \n",
       "x     3   x       \n",
       "── - x  + ── + 6⋅x\n",
       "4         2       "
      ]
     },
     "execution_count": 10,
     "metadata": {},
     "output_type": "execute_result"
    }
   ],
   "source": [
    "# 부정적분의 식을 구함\n",
    "F = sympy.integrate(f); F"
   ]
  },
  {
   "cell_type": "code",
   "execution_count": 12,
   "metadata": {},
   "outputs": [
    {
     "data": {
      "text/latex": [
       "$$10.0$$"
      ],
      "text/plain": [
       "10.0000000000000"
      ]
     },
     "execution_count": 12,
     "metadata": {},
     "output_type": "execute_result"
    }
   ],
   "source": [
    "# [2,0] 구간의 차를 구함\n",
    "(F.subs(x, 2) - F.subs(x, 0)).evalf()"
   ]
  },
  {
   "cell_type": "markdown",
   "metadata": {},
   "source": [
    "#### 3-4. 수치적분 (numerical integration)"
   ]
  },
  {
   "cell_type": "markdown",
   "metadata": {},
   "source": [
    "- 함수를 아주 자은 구간으로 나눠 실제 면적을 계산해서 정적분을 구하는 방법\n",
    "- Scipy의 integrate 서브패키지의 quad(적분), dblquad(이중 적분), tplquad(삼중 적분) 등을 통해 수치적분을 이용"
   ]
  },
  {
   "cell_type": "code",
   "execution_count": 14,
   "metadata": {},
   "outputs": [],
   "source": [
    "import scipy as sp"
   ]
  },
  {
   "cell_type": "code",
   "execution_count": 16,
   "metadata": {},
   "outputs": [],
   "source": [
    "import scipy.integrate"
   ]
  },
  {
   "cell_type": "code",
   "execution_count": 79,
   "metadata": {
    "scrolled": true
   },
   "outputs": [
    {
     "data": {
      "text/latex": [
       "$$\\left ( 10.0, \\quad 1.1102230246251565e-13\\right )$$"
      ],
      "text/plain": [
       "(10.0, 1.1102230246251565e-13)"
      ]
     },
     "execution_count": 79,
     "metadata": {},
     "output_type": "execute_result"
    }
   ],
   "source": [
    "def f(x):\n",
    "    return x ** 3 - 3 * x ** 2 + x + 6\n",
    "\n",
    "sp.integrate.quad(f, 0, 2)  # f라는 부정적분의 식에서 0~2구간의 넓이를 구한다는 의미\n",
    "\n",
    "# 값에서 뒤에 소수점은 오차의 상한값을 의미"
   ]
  },
  {
   "cell_type": "markdown",
   "metadata": {},
   "source": [
    "#### 3-5. 다변수 정적분"
   ]
  },
  {
   "cell_type": "markdown",
   "metadata": {},
   "source": [
    "1) 두 변수로 이중적분 하는 경우"
   ]
  },
  {
   "cell_type": "markdown",
   "metadata": {},
   "source": [
    "(1) 2차원 평면에서 주어진 사각형 영역 아래의 부피를 구하는 것과 같음"
   ]
  },
  {
   "cell_type": "markdown",
   "metadata": {},
   "source": [
    "<img src=\"https://datascienceschool.net/upfiles/19e208495ee448a38bf55af511affe11.gif\">"
   ]
  },
  {
   "cell_type": "markdown",
   "metadata": {},
   "source": [
    "$$ \\text{부피} = \\int_{y=c}^{y=d} \\int_{x=a}^{x=b} f(x, y) dx dy $$"
   ]
  },
  {
   "cell_type": "markdown",
   "metadata": {},
   "source": [
    "(2) 수치 이중 적분을 하려면 Scipy의 integrate 서브패키지의 dblquad 명령을 사용"
   ]
  },
  {
   "cell_type": "code",
   "execution_count": 36,
   "metadata": {},
   "outputs": [
    {
     "data": {
      "text/latex": [
       "$$\\left ( 0.4999999999999961, \\quad 1.0684538743333441e-08\\right )$$"
      ],
      "text/plain": [
       "(0.4999999999999961, 1.0684538743333441e-08)"
      ]
     },
     "execution_count": 36,
     "metadata": {},
     "output_type": "execute_result"
    }
   ],
   "source": [
    "def f(x, y):\n",
    "    return np.exp(-x * y) / y**2\n",
    "\n",
    "\n",
    "sp.integrate.dblquad(f, 1, np.inf, lambda x: 0, lambda x: np.inf)"
   ]
  },
  {
   "cell_type": "markdown",
   "metadata": {},
   "source": [
    "2) 하나의 변수로 단일 적분하는 경우"
   ]
  },
  {
   "cell_type": "markdown",
   "metadata": {},
   "source": [
    "$ f(x, y) $가 2차원 함수이지만 하나의 변수만 진짜 입력 변수고 나머지 하나는 상수"
   ]
  },
  {
   "cell_type": "markdown",
   "metadata": {},
   "source": [
    "$$ f(x, y) = 4x^2 + 4xy + y^2 $$"
   ]
  },
  {
   "cell_type": "markdown",
   "metadata": {},
   "source": [
    "위 식에서 변수 $x$ 만 진짜 입력 변수로 보고 $y$를 상수로 보면"
   ]
  },
  {
   "cell_type": "markdown",
   "metadata": {},
   "source": [
    "$$ f(x; y) = 4x^2 + (4y)x + (y^2) $$"
   ]
  },
  {
   "cell_type": "markdown",
   "metadata": {},
   "source": [
    "$y$가 변수가 아니라는 점을 강조하기 위해 표시된 것 (괄호, 세미콜론)"
   ]
  },
  {
   "cell_type": "markdown",
   "metadata": {},
   "source": [
    "### 연습문제"
   ]
  },
  {
   "cell_type": "markdown",
   "metadata": {},
   "source": [
    "#### `연습 문제 1` 다음 부정적분을 구하라.\n",
    "\n",
    "1.\n",
    "$ \\int 3x^2 dx $\n",
    "\n",
    "2.\n",
    "$ \\int (3x^2 - 6x + 1)dx $\n",
    "\n",
    "3.\n",
    "$ \\int \\left( 2 + 6x + 4\\exp(x) + \\dfrac{5}{x} \\right) dx $ \n",
    "\n",
    "4.\n",
    "$ \\int \\frac{2x}{x^2 - 1} dx $"
   ]
  },
  {
   "cell_type": "markdown",
   "metadata": {},
   "source": [
    "#### `답안`\n",
    "1. $ x^3 $\n",
    "2. $ x^3 - 3x^2 + x $\n",
    "3. $ 2x + 3x^2 + 4\\exp(x) + 5\\log(x) $\n",
    "4. $ \\log(x^2 -1) $"
   ]
  },
  {
   "cell_type": "markdown",
   "metadata": {},
   "source": [
    "#### `연습 문제 2` 다음 부정적분을 구하라.\n",
    "\n",
    "1.\n",
    "$ \\int \\left( 1 + xy \\right) dx $\n",
    "\n",
    "2.\n",
    "$ \\int xy\\exp({x^2 + y^2}) dx $\n",
    "\n"
   ]
  },
  {
   "cell_type": "markdown",
   "metadata": {},
   "source": [
    "#### `답안`\n",
    "1. $ \\dfrac{1}{2}x^2y + x + f(y) $\n",
    "2. $ \\dfrac{1}{2}y \\exp(x^2+y^2) $"
   ]
  },
  {
   "cell_type": "markdown",
   "metadata": {},
   "source": [
    "#### `연습 문제 3` 다음 부정적분을 구하라.\n",
    "\n",
    "$ \\iint xy \\exp({x^2 + y^2}) dxdy $"
   ]
  },
  {
   "cell_type": "markdown",
   "metadata": {},
   "source": [
    "#### `답안`\n",
    "\n",
    "$ \\dfrac{1}{4}\\exp(x^2+y^2) $"
   ]
  },
  {
   "cell_type": "markdown",
   "metadata": {},
   "source": [
    "#### `연습 문제 4`\n",
    "\n",
    "지금까지 구한 연습 문제의 답을 SymPy를 사용하여 구하라."
   ]
  },
  {
   "cell_type": "code",
   "execution_count": 39,
   "metadata": {},
   "outputs": [
    {
     "data": {
      "text/latex": [
       "$$x^{3}$$"
      ],
      "text/plain": [
       " 3\n",
       "x "
      ]
     },
     "execution_count": 39,
     "metadata": {},
     "output_type": "execute_result"
    }
   ],
   "source": [
    "# 연습문제 1-1\n",
    "x = sympy.symbols('x')\n",
    "f = 3 * x ** 2\n",
    "sympy.integrate(f)\n"
   ]
  },
  {
   "cell_type": "code",
   "execution_count": 40,
   "metadata": {},
   "outputs": [
    {
     "data": {
      "text/latex": [
       "$$x^{3} - 3 x^{2} + x$$"
      ],
      "text/plain": [
       " 3      2    \n",
       "x  - 3⋅x  + x"
      ]
     },
     "execution_count": 40,
     "metadata": {},
     "output_type": "execute_result"
    }
   ],
   "source": [
    "# 연습문제 1-2\n",
    "x = sympy.symbols('x')\n",
    "f = 3 * x ** 2 - 6 * x + 1\n",
    "sympy.integrate(f)"
   ]
  },
  {
   "cell_type": "code",
   "execution_count": 47,
   "metadata": {},
   "outputs": [
    {
     "data": {
      "text/latex": [
       "$$3 x^{2} + 2 x + 4 e^{x} + 5 \\log{\\left (x \\right )}$$"
      ],
      "text/plain": [
       "   2            x           \n",
       "3⋅x  + 2⋅x + 4⋅ℯ  + 5⋅log(x)"
      ]
     },
     "execution_count": 47,
     "metadata": {},
     "output_type": "execute_result"
    }
   ],
   "source": [
    "# 연습문제 1-3\n",
    "x = sympy.symbols('x')\n",
    "f = 2 + 6 * x + 4 * sympy.exp(x) + 5/x\n",
    "sympy.integrate(f)"
   ]
  },
  {
   "cell_type": "code",
   "execution_count": 50,
   "metadata": {},
   "outputs": [
    {
     "data": {
      "text/latex": [
       "$$\\log{\\left (x^{2} - 1 \\right )}$$"
      ],
      "text/plain": [
       "   ⎛ 2    ⎞\n",
       "log⎝x  - 1⎠"
      ]
     },
     "execution_count": 50,
     "metadata": {},
     "output_type": "execute_result"
    }
   ],
   "source": [
    "# 연습문제 1-4\n",
    "x = sympy.symbols('x')\n",
    "f = 2 * x / (x ** 2 - 1)\n",
    "sympy.integrate(f)"
   ]
  },
  {
   "cell_type": "code",
   "execution_count": 58,
   "metadata": {},
   "outputs": [
    {
     "data": {
      "text/latex": [
       "$$\\left ( \\frac{x^{2} y}{2} + x, \\quad \\frac{x y^{2}}{2} + y\\right )$$"
      ],
      "text/plain": [
       "⎛ 2           2    ⎞\n",
       "⎜x ⋅y      x⋅y     ⎟\n",
       "⎜──── + x, ──── + y⎟\n",
       "⎝ 2         2      ⎠"
      ]
     },
     "execution_count": 58,
     "metadata": {},
     "output_type": "execute_result"
    }
   ],
   "source": [
    "# 연습문제 2-1\n",
    "x, y = sympy.symbols('x y')\n",
    "f = 1 + x * y\n",
    "\n",
    "# x로 적분, y로 적분\n",
    "sympy.integrate(f, x), sympy.integrate(f, y) "
   ]
  },
  {
   "cell_type": "code",
   "execution_count": 59,
   "metadata": {},
   "outputs": [
    {
     "data": {
      "text/latex": [
       "$$\\left ( \\frac{y}{2} e^{x^{2} + y^{2}}, \\quad \\frac{x}{2} e^{x^{2} + y^{2}}\\right )$$"
      ],
      "text/plain": [
       "⎛    2    2      2    2⎞\n",
       "⎜   x  + y      x  + y ⎟\n",
       "⎜y⋅ℯ         x⋅ℯ       ⎟\n",
       "⎜──────────, ──────────⎟\n",
       "⎝    2           2     ⎠"
      ]
     },
     "execution_count": 59,
     "metadata": {},
     "output_type": "execute_result"
    }
   ],
   "source": [
    "# 연습문제 2-2\n",
    "x, y = sympy.symbols('x y')\n",
    "f = x * y * sympy.exp(x ** 2 + y ** 2)\n",
    "\n",
    "# x로 적분, y로 적분\n",
    "sympy.integrate(f, x), sympy.integrate(f, y) "
   ]
  },
  {
   "cell_type": "code",
   "execution_count": 62,
   "metadata": {},
   "outputs": [
    {
     "data": {
      "text/latex": [
       "$$\\frac{1}{4} e^{x^{2} + y^{2}}$$"
      ],
      "text/plain": [
       "  2    2\n",
       " x  + y \n",
       "ℯ       \n",
       "────────\n",
       "   4    "
      ]
     },
     "execution_count": 62,
     "metadata": {},
     "output_type": "execute_result"
    }
   ],
   "source": [
    "# 연습문제 3\n",
    "x, y = sympy.symbols('x y')\n",
    "f = x * y * sympy.exp(x ** 2 + y ** 2)\n",
    "F = sympy.integrate(f, x) # x로 적분\n",
    "F = sympy.integrate(F, y) # 적분한 식에서 y로 적분\n",
    "F"
   ]
  },
  {
   "cell_type": "markdown",
   "metadata": {},
   "source": [
    "#### `연습 문제 5`\n",
    "\n",
    "다음 정적분의 값을 부정적분과 수치적분 두 가지 방법으로 구하라.\n",
    "\n",
    "1.\n",
    "$ \\int_0^1 (3x^2 - 6x + 1)dx $\n",
    "\n",
    "2.\n",
    "$ \\int_1^{10} \\left( 2 + 6x + 4\\exp(x) + \\dfrac{5}{x} \\right) dx $"
   ]
  },
  {
   "cell_type": "markdown",
   "metadata": {},
   "source": [
    "#### `답안`"
   ]
  },
  {
   "cell_type": "markdown",
   "metadata": {},
   "source": [
    "1.부정적분"
   ]
  },
  {
   "cell_type": "code",
   "execution_count": 72,
   "metadata": {},
   "outputs": [
    {
     "data": {
      "text/latex": [
       "$$-1.0$$"
      ],
      "text/plain": [
       "-1.00000000000000"
      ]
     },
     "execution_count": 72,
     "metadata": {},
     "output_type": "execute_result"
    }
   ],
   "source": [
    "# 연습문제 5-1\n",
    "x = sympy.symbols('x')\n",
    "f = 3 * x ** 2 - 6 * x + 1\n",
    "F = sympy.integrate(f)\n",
    "(F.subs(x, 1) - F.subs(x, 0)).evalf()"
   ]
  },
  {
   "cell_type": "code",
   "execution_count": 77,
   "metadata": {},
   "outputs": [
    {
     "data": {
      "text/latex": [
       "$$88421.502977378$$"
      ],
      "text/plain": [
       "88421.5029773780"
      ]
     },
     "execution_count": 77,
     "metadata": {},
     "output_type": "execute_result"
    }
   ],
   "source": [
    "# 연습문제 5-2\n",
    "x = sympy.symbols('x')\n",
    "f = 2 + 6 * x + 4 * sympy.exp(x) + 5/x\n",
    "F = sympy.integrate(f)\n",
    "(F.subs(x, 10) - F.subs(x, 1)).evalf()"
   ]
  },
  {
   "cell_type": "markdown",
   "metadata": {},
   "source": [
    "2.수치적분"
   ]
  },
  {
   "cell_type": "code",
   "execution_count": 78,
   "metadata": {},
   "outputs": [
    {
     "data": {
      "text/latex": [
       "$$\\left ( -1.0, \\quad 1.3085085171449517e-14\\right )$$"
      ],
      "text/plain": [
       "(-1.0, 1.3085085171449517e-14)"
      ]
     },
     "execution_count": 78,
     "metadata": {},
     "output_type": "execute_result"
    }
   ],
   "source": [
    "# 연습문제 5-1\n",
    "def f(x):\n",
    "    return 3 * x ** 2 - 6 * x + 1\n",
    "\n",
    "sp.integrate.quad(f, 0, 1)"
   ]
  },
  {
   "cell_type": "code",
   "execution_count": 80,
   "metadata": {},
   "outputs": [
    {
     "data": {
      "text/latex": [
       "$$\\left ( 88421.50297737827, \\quad 1.5276890734473408e-06\\right )$$"
      ],
      "text/plain": [
       "(88421.50297737827, 1.5276890734473408e-06)"
      ]
     },
     "execution_count": 80,
     "metadata": {},
     "output_type": "execute_result"
    }
   ],
   "source": [
    "# 연습문제 5-2\n",
    "def f(x):\n",
    "    return 2 + 6 * x + 4 * sympy.exp(x) + 5/x\n",
    "\n",
    "sp.integrate.quad(f, 1, 10)"
   ]
  },
  {
   "cell_type": "markdown",
   "metadata": {},
   "source": [
    "#### `연습 문제 6`\n",
    "\n",
    "다음 정적분의 값을 구하라.\n",
    "\n",
    "$ \\int_{-1}^1 \\int_{-1}^1 \\left( 1 + xy \\right) dxdy $"
   ]
  },
  {
   "cell_type": "markdown",
   "metadata": {},
   "source": [
    "#### `답안`"
   ]
  },
  {
   "cell_type": "code",
   "execution_count": 90,
   "metadata": {},
   "outputs": [
    {
     "data": {
      "text/latex": [
       "$$4.0$$"
      ],
      "text/plain": [
       "4.00000000000000"
      ]
     },
     "execution_count": 90,
     "metadata": {},
     "output_type": "execute_result"
    }
   ],
   "source": [
    "x, y = sympy.symbols('x y')\n",
    "f = 1 + x * y\n",
    "F = sympy.integrate(f, x)\n",
    "F1 = (F.subs(x, 1) - F.subs(x, -1))\n",
    "\n",
    "F2 = sympy.integrate(F1, y)\n",
    "F2 = (F2.subs(y, 1) - F2.subs(y, -1)).evalf()\n",
    "F2"
   ]
  }
 ],
 "metadata": {
  "kernelspec": {
   "display_name": "Python 3",
   "language": "python",
   "name": "python3"
  },
  "language_info": {
   "codemirror_mode": {
    "name": "ipython",
    "version": 3
   },
   "file_extension": ".py",
   "mimetype": "text/x-python",
   "name": "python",
   "nbconvert_exporter": "python",
   "pygments_lexer": "ipython3",
   "version": "3.6.4"
  }
 },
 "nbformat": 4,
 "nbformat_minor": 2
}
