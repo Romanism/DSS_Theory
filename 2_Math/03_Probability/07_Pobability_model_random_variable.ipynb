{
 "cells": [
  {
   "cell_type": "markdown",
   "metadata": {},
   "source": [
    "### 1. 확률 모형 (Probability model)"
   ]
  },
  {
   "cell_type": "markdown",
   "metadata": {},
   "source": [
    "일반적으로 조사(research) 또는 실험(experiment)를 통해 데이터를 수집"
   ]
  },
  {
   "cell_type": "code",
   "execution_count": 6,
   "metadata": {},
   "outputs": [
    {
     "data": {
      "text/plain": [
       "array([5, 6, 1, 4, 4, 4, 2, 4, 6, 3, 5, 1, 1, 5, 3, 2, 1, 2, 6, 2, 6, 1])"
      ]
     },
     "execution_count": 6,
     "metadata": {},
     "output_type": "execute_result"
    }
   ],
   "source": [
    "x = np.array([5, 6, 1, 4, 4, 4, 2, 4, 6, 3, 5, 1, 1, 5, 3, 2, 1, 2, 6, 2, 6, 1])\n",
    "x"
   ]
  },
  {
   "cell_type": "markdown",
   "metadata": {},
   "source": [
    "1) 정의"
   ]
  },
  {
   "cell_type": "markdown",
   "metadata": {},
   "source": [
    "- 특정한 특성을 가지는 데이터 표본을 만들어 내는 주사위 또는 기계 등\n",
    "- 확률 모형론은 데이터의 개별적인 값은 의미가 없고 데이터 전체의 특성이 중요하다고 주장"
   ]
  },
  {
   "cell_type": "markdown",
   "metadata": {},
   "source": [
    "2) 특징"
   ]
  },
  {
   "cell_type": "markdown",
   "metadata": {},
   "source": [
    "[1] 확률 모형으로부터 데이터를 여러번 만들때, 데이터 값은 매번 달라짐 (확률 모형 변화 X)\n",
    "\n",
    "[2] 확률 모형은 우리가 직접 관찰할 수 없음, 다만 확률 모형이 이러한 것이라고 추정하고 가정할 뿐\n",
    "\n",
    "[3] 확률모형에서 만들어지는 데이터 값은 확률 모형이 가진 특성을 반영"
   ]
  },
  {
   "cell_type": "markdown",
   "metadata": {},
   "source": [
    "그림넣기"
   ]
  },
  {
   "cell_type": "markdown",
   "metadata": {},
   "source": [
    "3) 용어"
   ]
  },
  {
   "cell_type": "markdown",
   "metadata": {},
   "source": [
    "[1] 실현 (realization) - 주사위를 던져서 데이터를 생성하는 과정\n",
    "\n",
    "[2] 샘플링 (Sampling) -  데이터 생성 + 데이터 집합에서 일부 데이터만 선택하는 과정"
   ]
  },
  {
   "cell_type": "markdown",
   "metadata": {},
   "source": [
    "4) 데이터 분석 과정"
   ]
  },
  {
   "cell_type": "markdown",
   "metadata": {},
   "source": [
    "[1] 데이터를 확보\n",
    "\n",
    "[2] 확보된 데이터를 어떤 확률 모형의 표본으로 가정\n",
    "\n",
    "[3] 해당 확률 모형의 종류를 결정하고 모수를 추정\n",
    "\n",
    "[4] 구해진 확률 모형으로부터 다음에 생성될 데이터나 데이터 특성을 예측"
   ]
  },
  {
   "cell_type": "markdown",
   "metadata": {},
   "source": [
    "### 2. 확률 변수 (Random variable)"
   ]
  },
  {
   "cell_type": "markdown",
   "metadata": {},
   "source": [
    "1) 정의"
   ]
  },
  {
   "cell_type": "markdown",
   "metadata": {},
   "source": [
    "- 표본 공간의 모든 표본에 대해 어떤 실수 값을 붙인 것 (확률 모형을 숫자로 바꿈)\n",
    "- 표본 공간을 정의역으로, 실수를 공역으로 가지는 함수\n",
    "- 한마디로, 표본이 숫자인 확률모형"
   ]
  },
  {
   "cell_type": "markdown",
   "metadata": {},
   "source": [
    "$$ \\omega \\in \\Omega \\;\\;\\; \\xrightarrow{X} \\;\\;\\; \\text{실수 } x \\in \\mathbb{R} $$\n",
    "\n",
    "$$ X(\\omega) = x, \\;\\; x \\in \\mathbf{R} $$"
   ]
  },
  {
   "cell_type": "markdown",
   "metadata": {},
   "source": [
    "2) 특징"
   ]
  },
  {
   "cell_type": "markdown",
   "metadata": {},
   "source": [
    "- 이벤트를 하나의 수직선으로 나타낼 수 있음 (실수의 집합)\n",
    "- 하나의 구간으로 이벤트를 나타낼 수 있음\n",
    "- 구간에 대해서 얘기했을 땐 표현하기 쉽다 (시작점, 끝점)"
   ]
  },
  {
   "cell_type": "markdown",
   "metadata": {},
   "source": [
    "3) 종류"
   ]
  },
  {
   "cell_type": "markdown",
   "metadata": {},
   "source": [
    "[1] 이산 확률 변수 (Discrete random variable)"
   ]
  },
  {
   "cell_type": "markdown",
   "metadata": {},
   "source": [
    "- 확률 변수 값이 연속적이지 않고 떨어져 있는 경우\n",
    "- ex) 주사위는 $\\{⚀,⚁,⚂,⚃,⚄,⚅\\}$ 는 확률 변수를 1, 2, 3, 4, 5, 6을 가짐\n",
    "- 이산확룰 변수의 정의는 값의 이산성이지 가능한 경우가 유한하다는 점이 아님"
   ]
  },
  {
   "cell_type": "markdown",
   "metadata": {},
   "source": [
    "[2] 연속 확률 변수 (Continuous random variable)"
   ]
  },
  {
   "cell_type": "markdown",
   "metadata": {},
   "source": [
    "- 확률 변수 값이 연속적 (continuous)인 경우\n",
    "- ex) 시계바늘 문제에서 시계바늘이 특정한 시각을 가리킬 확률\n",
    "- 특정 시점의 확률은 0으로 구하기 힘들기 때문에 구간 설정을 통해 확률을 구함"
   ]
  },
  {
   "cell_type": "markdown",
   "metadata": {},
   "source": [
    "$$P(\\{ a \\leq X < b \\}) = P(\\{ \\omega ; a \\leq X(\\omega) < b \\})  $$"
   ]
  }
 ],
 "metadata": {
  "kernelspec": {
   "display_name": "Python 3",
   "language": "python",
   "name": "python3"
  },
  "language_info": {
   "codemirror_mode": {
    "name": "ipython",
    "version": 3
   },
   "file_extension": ".py",
   "mimetype": "text/x-python",
   "name": "python",
   "nbconvert_exporter": "python",
   "pygments_lexer": "ipython3",
   "version": "3.6.4"
  }
 },
 "nbformat": 4,
 "nbformat_minor": 2
}
