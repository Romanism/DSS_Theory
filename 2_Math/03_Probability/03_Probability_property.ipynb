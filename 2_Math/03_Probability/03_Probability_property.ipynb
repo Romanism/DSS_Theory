{
 "cells": [
  {
   "cell_type": "markdown",
   "metadata": {},
   "source": [
    "### 1. 확률의 의미"
   ]
  },
  {
   "cell_type": "markdown",
   "metadata": {},
   "source": [
    "1) 빈도주의 관점"
   ]
  },
  {
   "cell_type": "markdown",
   "metadata": {},
   "source": [
    "반복적으로 선택된 표본이 사건(부분집합) $A$의 원소가 될 경향을 사건의 확률이라 정의"
   ]
  },
  {
   "cell_type": "markdown",
   "metadata": {},
   "source": [
    "2) 베이지안 관점"
   ]
  },
  {
   "cell_type": "markdown",
   "metadata": {},
   "source": [
    "[1] 정의"
   ]
  },
  {
   "cell_type": "markdown",
   "metadata": {},
   "source": [
    "- 이미 발생한 사건의 진실에 대해 알고자 하는 것\n",
    "- 이미 발생한 일이 특정 사건에 속한다는 가설(hypothesis), 명제(proposition), 주장(assertion)의 신뢰도"
   ]
  },
  {
   "cell_type": "markdown",
   "metadata": {},
   "source": [
    "[2] 의미"
   ]
  },
  {
   "cell_type": "markdown",
   "metadata": {},
   "source": [
    "- 발생한 표본(답)이 포함되어 있을 가능성이 높은 후보의 집합\n",
    "- 이 사건에 속한 후보 집합 안에 발생한 표본(답)이 있다는 명제 혹은 주장"
   ]
  },
  {
   "cell_type": "markdown",
   "metadata": {},
   "source": [
    "### 2. 사건의 발생"
   ]
  },
  {
   "cell_type": "markdown",
   "metadata": {},
   "source": [
    "사건(부분집합) 즉 후보군 안에 정말로 선택된 표본이 있음을 알게 되었다는 것을 의미"
   ]
  },
  {
   "cell_type": "markdown",
   "metadata": {},
   "source": [
    "### 3. 확률의 성질"
   ]
  },
  {
   "cell_type": "markdown",
   "metadata": {},
   "source": [
    "1) 공집합인 사건의 확률은 0"
   ]
  },
  {
   "cell_type": "markdown",
   "metadata": {},
   "source": [
    "(증명)\n",
    "\n",
    "$$P(A \\cup \\emptyset) = P(A) = P(A) + P(\\emptyset)$$\n",
    "\n",
    "$$ \\therefore P(\\emptyset) = 0 $$"
   ]
  },
  {
   "cell_type": "markdown",
   "metadata": {},
   "source": [
    "2) $\\; P(A^C) = 1 - P(A) $"
   ]
  },
  {
   "cell_type": "markdown",
   "metadata": {},
   "source": [
    "(증명)\n",
    "\n",
    "$$P(A \\cup A^C) = P(\\Omega) = 1 = P(A) + P(A^C)$$\n",
    "\n",
    "$$ \\therefore P(A^C) = 1 - P(A) $$"
   ]
  },
  {
   "cell_type": "markdown",
   "metadata": {},
   "source": [
    "3) $\\; P(A \\cup B) = P(A) + P(B) – P(A \\cap B) $"
   ]
  },
  {
   "cell_type": "markdown",
   "metadata": {},
   "source": [
    "(증명)\n",
    "\n",
    "$$\n",
    "\\begin{eqnarray*}\n",
    "P(A \\cup B) \n",
    "&=& P(A \\cup (B\\cap A^C)) \\\\\\\\\n",
    "&=& P(A) + P(B\\cap A^C) \\\\\\\\\n",
    "&=& P(A) + P(B\\cap A^C) + P(A ∩ B) – P(A ∩ B) \\\\\\\\\n",
    "&=& P(A) + P((A^C\\cap B) ∪ (A ∩ B)) – P(A ∩ B) \\\\\\\\\n",
    "&=& P(A) + P(B) – P(A ∩ B) \n",
    "\\end{eqnarray*} \n",
    "$$"
   ]
  },
  {
   "cell_type": "markdown",
   "metadata": {},
   "source": [
    "4) 전체 확률의 법칙 (전확률 법칙)"
   ]
  },
  {
   "cell_type": "markdown",
   "metadata": {},
   "source": [
    "[1] 공식"
   ]
  },
  {
   "cell_type": "markdown",
   "metadata": {},
   "source": [
    "$$ P(A) = \\sum_i P(A \\cap C_i) $$"
   ]
  },
  {
   "cell_type": "markdown",
   "metadata": {},
   "source": [
    "[2] 조건"
   ]
  },
  {
   "cell_type": "markdown",
   "metadata": {},
   "source": [
    "- 서로 교집합이 없어야 함 ($ C_i \\cap C_j = \\emptyset \\;\\;\\; (i \\neq j)$)\n",
    "- 모두 합쳤을 때 전체 표본 공간이어야 함 ($ C_1 \\cup C_2 \\cup \\cdots  = \\Omega $)"
   ]
  },
  {
   "cell_type": "markdown",
   "metadata": {},
   "source": [
    "[3] 이해하기"
   ]
  },
  {
   "cell_type": "markdown",
   "metadata": {},
   "source": [
    "한 살 남자의 사건의 확률 + 두 살 남자의 사건의 확률 + $\\cdots$ = 남자라는 사건의 확률"
   ]
  },
  {
   "cell_type": "markdown",
   "metadata": {},
   "source": [
    "[4] 증명"
   ]
  },
  {
   "cell_type": "markdown",
   "metadata": {},
   "source": [
    "$$\n",
    "\\begin{eqnarray}\n",
    "A \n",
    "&=& A \\cap \\Omega \\\\\n",
    "&=& A \\cap (C_1 \\cup C_2 \\cup \\cdots ) \\\\\n",
    "&=& (A \\cap C_1) \\cup (A \\cap C_2) \\cup \\cdots  \\\\\n",
    "\\end{eqnarray}\n",
    "$$"
   ]
  },
  {
   "cell_type": "markdown",
   "metadata": {},
   "source": [
    "$$ P(A) = P(A \\cap C_1) + P(A \\cap C_2) + \\cdots = \\sum_i P(A\\cap C_i) $$"
   ]
  },
  {
   "cell_type": "markdown",
   "metadata": {},
   "source": [
    "### 연습 문제"
   ]
  },
  {
   "cell_type": "markdown",
   "metadata": {},
   "source": [
    "#### ``연습 문제 1``\n",
    "\n",
    "위 표본 집합과 사건의 원소의 갯수와 확률을 마음대로 정해 본다. 이 값은 다음 연습 문제에서 사용하게 된다."
   ]
  },
  {
   "cell_type": "markdown",
   "metadata": {},
   "source": [
    "- a1 - 남, 머리 짧음, 26세\n",
    "- a2 - 남, 머리 김, 33세\n",
    "- a3 - 여, 머리 김, 56세\n",
    "- a4 - 남, 머리 짧음, 66세\n",
    "- a5 - 여, 머리 짧음, 52세\n",
    "- a6 - 남, 머리 짦음, 57세\n",
    "- a7 - 여, 머리 김, 22세\n",
    "- a8 - 여, 머리 짧음, 87세\n",
    "- a9 - 남, 머리 김, 12세\n",
    "- a10 - 여, 머리 짧음, 25세\n",
    "- a11 - 여, 머리 김, 63세\n",
    "- a12 - 남, 머리 짦음, 23"
   ]
  },
  {
   "cell_type": "markdown",
   "metadata": {},
   "source": [
    "#### ``연습 문제 2``\n",
    "\n",
    "앞 연습 문제에서 정한 확률 값을 이용하여 확률의 성질 2, 3, 4번이 성립하는지 확인해 본다."
   ]
  },
  {
   "cell_type": "code",
   "execution_count": null,
   "metadata": {},
   "outputs": [],
   "source": []
  }
 ],
 "metadata": {
  "kernelspec": {
   "display_name": "Python 3",
   "language": "python",
   "name": "python3"
  },
  "language_info": {
   "codemirror_mode": {
    "name": "ipython",
    "version": 3
   },
   "file_extension": ".py",
   "mimetype": "text/x-python",
   "name": "python",
   "nbconvert_exporter": "python",
   "pygments_lexer": "ipython3",
   "version": "3.6.4"
  }
 },
 "nbformat": 4,
 "nbformat_minor": 2
}
