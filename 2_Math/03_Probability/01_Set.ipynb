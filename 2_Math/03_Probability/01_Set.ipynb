{
 "cells": [
  {
   "cell_type": "markdown",
   "metadata": {},
   "source": [
    "### 집합"
   ]
  },
  {
   "cell_type": "markdown",
   "metadata": {},
   "source": [
    "확률을 수학적으로 정의하기 위해 필요한 개념"
   ]
  },
  {
   "cell_type": "markdown",
   "metadata": {},
   "source": [
    "### 1. 집합과 원소"
   ]
  },
  {
   "cell_type": "markdown",
   "metadata": {},
   "source": [
    "1) 집합 (set) : 구별 가능한 객첵의 모임, 알파벳 대문자 사용"
   ]
  },
  {
   "cell_type": "markdown",
   "metadata": {},
   "source": [
    "$$ B = \\{ H, T \\} $$\n",
    "\n",
    "$$ C = \\{ ◆, ♥, ♠, ♣ \\} $$"
   ]
  },
  {
   "cell_type": "markdown",
   "metadata": {},
   "source": [
    "2) 원소 (element) : 집합에 포함된 객체들, 알파벳 소문자 사용"
   ]
  },
  {
   "cell_type": "markdown",
   "metadata": {},
   "source": [
    "3) 집합과 원소의 관계 : $ x \\in A $ (A집합에 x 원소가 포함)"
   ]
  },
  {
   "cell_type": "code",
   "execution_count": 2,
   "metadata": {},
   "outputs": [
    {
     "data": {
      "text/plain": [
       "{1, 2, 3}"
      ]
     },
     "execution_count": 2,
     "metadata": {},
     "output_type": "execute_result"
    }
   ],
   "source": [
    "# 집합의 표현방법1. set - 변경 가능한 뮤터블(mutable)자료형\n",
    "A = set([1, 2, 3, 3, 2])  # 중복된 자료는 없어진다.\n",
    "A"
   ]
  },
  {
   "cell_type": "code",
   "execution_count": 3,
   "metadata": {},
   "outputs": [
    {
     "data": {
      "text/plain": [
       "frozenset({'H', 'T'})"
      ]
     },
     "execution_count": 3,
     "metadata": {},
     "output_type": "execute_result"
    }
   ],
   "source": [
    "# 집합의 표현방법2. frozenset - 변경 불가능한 임뮤터블(immutable)자료형\n",
    "B = frozenset(['H', 'T'])\n",
    "B"
   ]
  },
  {
   "cell_type": "markdown",
   "metadata": {},
   "source": [
    "### 2. 집합의 크기 (cardinality, 카디널리티)"
   ]
  },
  {
   "cell_type": "markdown",
   "metadata": {},
   "source": [
    "집합이 가지는 원소의 갯수, $||$ 기호나 $\\text{card}$ 기호를 사용"
   ]
  },
  {
   "cell_type": "markdown",
   "metadata": {},
   "source": [
    "$$ |A| = \\text{card}(A) = 3 $$"
   ]
  },
  {
   "cell_type": "code",
   "execution_count": 4,
   "metadata": {},
   "outputs": [
    {
     "data": {
      "text/plain": [
       "3"
      ]
     },
     "execution_count": 4,
     "metadata": {},
     "output_type": "execute_result"
    }
   ],
   "source": [
    "# 집합의 크기 구하기 (len)\n",
    "len(A)"
   ]
  },
  {
   "cell_type": "markdown",
   "metadata": {},
   "source": [
    "### 3. 합집합과 교집합"
   ]
  },
  {
   "cell_type": "markdown",
   "metadata": {},
   "source": [
    "1) 합집합 (Union) : 각 집합의 원소를 모두 포함하는 집합, $\\cup$ 기호를 사용"
   ]
  },
  {
   "cell_type": "markdown",
   "metadata": {},
   "source": [
    "$$ A \\cup B $$"
   ]
  },
  {
   "cell_type": "code",
   "execution_count": 7,
   "metadata": {},
   "outputs": [
    {
     "name": "stdout",
     "output_type": "stream",
     "text": [
      "{1, 2, 3, 4, 6}\n",
      "{1, 2, 3, 4, 6}\n"
     ]
    }
   ],
   "source": [
    "# 합집합 구하기 (union, |)\n",
    "A1 = set([1, 2, 3, 4])\n",
    "A2 = set([2, 4, 6])\n",
    "print(A1.union(A2))\n",
    "print(A2|A1)"
   ]
  },
  {
   "cell_type": "markdown",
   "metadata": {},
   "source": [
    "2) 교집합 (intersection) : 두 사건 모두에 속하는 원소로만 이루어진 집합, $\\cap$ 기호를 사용"
   ]
  },
  {
   "cell_type": "markdown",
   "metadata": {},
   "source": [
    "$$ A \\cap B $$"
   ]
  },
  {
   "cell_type": "code",
   "execution_count": 8,
   "metadata": {},
   "outputs": [
    {
     "name": "stdout",
     "output_type": "stream",
     "text": [
      "{2, 4}\n",
      "{2, 4}\n"
     ]
    }
   ],
   "source": [
    "# 교집합 구하기 (intersection, &)\n",
    "print(A1.intersection(A2))\n",
    "print(A2&A1)"
   ]
  },
  {
   "cell_type": "markdown",
   "metadata": {},
   "source": [
    "### 4. 전체 집합과 부분 집합"
   ]
  },
  {
   "cell_type": "markdown",
   "metadata": {},
   "source": [
    "1) 전체집합 (Omega) : 어떤 집합의 원소 중 모든것을 포함하는 집합\n",
    "\n",
    "2) 부분집합 (subset) : 집합의 원소 중 일부만 포함하는 집합, 모든 집합은 자기 자신의 부분집합\n",
    "\n",
    "3) 진부분집합 (proper subset) : 원소의 크기가 더 작은 부분집합"
   ]
  },
  {
   "cell_type": "markdown",
   "metadata": {},
   "source": [
    "ex) 집합 A는 집합 $\\Omega$의 부분집합\n",
    "\n",
    "$$ A \\subset \\Omega $$"
   ]
  },
  {
   "cell_type": "code",
   "execution_count": 9,
   "metadata": {},
   "outputs": [
    {
     "data": {
      "text/plain": [
       "False"
      ]
     },
     "execution_count": 9,
     "metadata": {},
     "output_type": "execute_result"
    }
   ],
   "source": [
    "# 부분집합인지 확인하는 방법 1. issubset\n",
    "A2.issubset(A1) # A2 집합이 A1의 부분집합인가?"
   ]
  },
  {
   "cell_type": "code",
   "execution_count": 10,
   "metadata": {},
   "outputs": [
    {
     "data": {
      "text/plain": [
       "False"
      ]
     },
     "execution_count": 10,
     "metadata": {},
     "output_type": "execute_result"
    }
   ],
   "source": [
    "# 부분집합인지 확인하는 방법 2. 부등호\n",
    "A2 <= A1"
   ]
  },
  {
   "cell_type": "code",
   "execution_count": 11,
   "metadata": {},
   "outputs": [
    {
     "data": {
      "text/plain": [
       "True"
      ]
     },
     "execution_count": 11,
     "metadata": {},
     "output_type": "execute_result"
    }
   ],
   "source": [
    "A2.issubset(A2) # 모든 집합은 자기 자신의 부분집합"
   ]
  },
  {
   "cell_type": "markdown",
   "metadata": {},
   "source": [
    "### 5. 차집합과 여집합"
   ]
  },
  {
   "cell_type": "markdown",
   "metadata": {},
   "source": [
    "1) 차집합 (difference) : 집합 $A$엔 속하고 집합 $B$에는 속하지 않는 원소로 이뤄진 $A$의 부분집합"
   ]
  },
  {
   "cell_type": "markdown",
   "metadata": {},
   "source": [
    "$$ A-B $$"
   ]
  },
  {
   "cell_type": "code",
   "execution_count": 14,
   "metadata": {},
   "outputs": [
    {
     "name": "stdout",
     "output_type": "stream",
     "text": [
      "{1, 3}\n",
      "{1, 3}\n"
     ]
    }
   ],
   "source": [
    "# 차집합 구하기 (difference, -)\n",
    "print(A1.difference(A2))\n",
    "print(A1 - A2)"
   ]
  },
  {
   "cell_type": "markdown",
   "metadata": {},
   "source": [
    "2) 여집합 (completion) : 전체집합 $\\Omega$ 중 $A$에 속하지 않은 원소로만 이루어진 부분집합"
   ]
  },
  {
   "cell_type": "markdown",
   "metadata": {},
   "source": [
    "$$ A^C = \\Omega - A $$"
   ]
  },
  {
   "cell_type": "markdown",
   "metadata": {},
   "source": [
    "### 6. 공집합 (null set)"
   ]
  },
  {
   "cell_type": "markdown",
   "metadata": {},
   "source": [
    "1) 정의 : 아무런 원소도 포함하지 않는 집합, $\\emptyset$로 표시"
   ]
  },
  {
   "cell_type": "markdown",
   "metadata": {},
   "source": [
    "2) 공집합은 모든 원소의 부분집합"
   ]
  },
  {
   "cell_type": "markdown",
   "metadata": {},
   "source": [
    "$$ \\emptyset \\subset A, \\;\\text{ for all } A $$"
   ]
  },
  {
   "cell_type": "markdown",
   "metadata": {},
   "source": [
    "3) 여집합과 원래의 집합의 교집합은 공집합"
   ]
  },
  {
   "cell_type": "markdown",
   "metadata": {},
   "source": [
    "$$ A \\cap A^C = \\emptyset $$"
   ]
  },
  {
   "cell_type": "code",
   "execution_count": 15,
   "metadata": {},
   "outputs": [
    {
     "data": {
      "text/plain": [
       "set()"
      ]
     },
     "execution_count": 15,
     "metadata": {},
     "output_type": "execute_result"
    }
   ],
   "source": [
    "# 공집합 구하기 \n",
    "nullset = set([])\n",
    "nullset"
   ]
  },
  {
   "cell_type": "markdown",
   "metadata": {},
   "source": [
    "### 7. 합집합과 교집합의 분배법칙"
   ]
  },
  {
   "cell_type": "markdown",
   "metadata": {},
   "source": [
    "$$   A ∪ (B ∩ C) = (A ∪ B) ∩ (A ∪ C)  $$\n",
    "\n",
    "$$   A ∩ (B ∪ C) = (A ∩ B) ∪ (A ∩ C)  $$"
   ]
  },
  {
   "cell_type": "markdown",
   "metadata": {},
   "source": [
    "### 연습 문제"
   ]
  },
  {
   "cell_type": "markdown",
   "metadata": {},
   "source": [
    "#### ``연습 문제1 ``\n",
    "\n",
    "다음 집합의 부분 집합을 생각한다.\n",
    "\n",
    "$$ \\Omega = \\{ HH, HT, TH, TT \\} $$\n",
    "\n",
    "\n",
    "1. 이 집합의 부분 집합의 갯수는?\n",
    "2. 이 집합의 모든 부분집합을 `frozenset` 자료형 객체로 만들고 이를 원소로 가지는 `set` 객체를 만든다."
   ]
  },
  {
   "cell_type": "code",
   "execution_count": null,
   "metadata": {},
   "outputs": [],
   "source": []
  },
  {
   "cell_type": "markdown",
   "metadata": {},
   "source": [
    "#### ``연습 문제 2``\n",
    "\n",
    "다음 세 집합 $A$, $B$, $C$에 대해 위에서 말한 두가지 분배법칙이 성립하는지 파이썬 코드로 증명하라.\n",
    "\n",
    "$$ A = \\{ 1, 3, 5 \\} $$\n",
    "\n",
    "$$ B = \\{ 1, 2, 3 \\} $$\n",
    "\n",
    "$$ C = \\{ 2, 4, 6 \\} $$"
   ]
  },
  {
   "cell_type": "code",
   "execution_count": null,
   "metadata": {},
   "outputs": [],
   "source": []
  }
 ],
 "metadata": {
  "kernelspec": {
   "display_name": "Python 3",
   "language": "python",
   "name": "python3"
  },
  "language_info": {
   "codemirror_mode": {
    "name": "ipython",
    "version": 3
   },
   "file_extension": ".py",
   "mimetype": "text/x-python",
   "name": "python",
   "nbconvert_exporter": "python",
   "pygments_lexer": "ipython3",
   "version": "3.6.4"
  }
 },
 "nbformat": 4,
 "nbformat_minor": 2
}
