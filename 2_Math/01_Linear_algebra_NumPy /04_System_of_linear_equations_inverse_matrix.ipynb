{
 "cells": [
  {
   "cell_type": "markdown",
   "metadata": {},
   "source": [
    "### 연립 방정식과 역행렬"
   ]
  },
  {
   "cell_type": "markdown",
   "metadata": {},
   "source": [
    "- 선형예측 모형에서의 포인트는 가중치를 구하는 것\n",
    "- 연립방정식과 역행렬을 이용해 선형 모형의 가중치 벡터를 구해봄"
   ]
  },
  {
   "cell_type": "markdown",
   "metadata": {},
   "source": [
    "### 1. 선형 연립 방정식 (System of linear equations)"
   ]
  },
  {
   "cell_type": "markdown",
   "metadata": {},
   "source": [
    "$x_1, x_2, \\cdots, x_M$ 이라는 $M$ 개의 미지수를 가지는 $N$개의 선형 방정식"
   ]
  },
  {
   "cell_type": "markdown",
   "metadata": {},
   "source": [
    "$$\n",
    "\\begin{matrix}\n",
    "a_{11} x_1 & + \\;& a_{12} x_2   &\\; + \\cdots + \\;& a_{1M} x_M &\\; = \\;& b_1 \\\\\n",
    "a_{21} x_1 & + \\;& a_{22} x_2   &\\; + \\cdots + \\;& a_{2M} x_M &\\; = \\;& b_2 \\\\\n",
    "\\vdots\\;\\;\\; &   & \\vdots\\;\\;\\; &                & \\vdots\\;\\;\\; &     & \\;\\vdots \\\\\n",
    "a_{N1} x_1 & + \\;& a_{N2} x_2   &\\; + \\cdots + \\;& a_{NM} x_M &\\; = \\;& b_N \\\\\n",
    "\\end{matrix}\n",
    "$$"
   ]
  },
  {
   "cell_type": "markdown",
   "metadata": {},
   "source": [
    "$$\n",
    "Ax = b \n",
    "\\;\\;\\;\\;\\;\n",
    "\\rightarrow\n",
    "\\;\\;\\;\\;\\;\n",
    "\\begin{bmatrix}\n",
    "a_{11} & a_{12} & \\cdots & a_{1M} \\\\\n",
    "a_{21} & a_{22} & \\cdots & a_{2M} \\\\\n",
    "\\vdots & \\vdots & \\ddots & \\vdots \\\\\n",
    "a_{N1} & a_{N2} & \\cdots & a_{NM} \\\\\n",
    "\\end{bmatrix}\n",
    "\\begin{bmatrix}\n",
    "x_1 \\\\ x_2 \\\\ \\vdots \\\\ x_M\n",
    "\\end{bmatrix}\n",
    "=\n",
    "\\begin{bmatrix}\n",
    "b_1 \\\\ b_2 \\\\ \\vdots \\\\ b_N\n",
    "\\end{bmatrix}\n",
    "$$"
   ]
  },
  {
   "cell_type": "markdown",
   "metadata": {},
   "source": [
    "ex) 선형 연립 방정식"
   ]
  },
  {
   "cell_type": "markdown",
   "metadata": {},
   "source": [
    "$$\n",
    "\\begin{alignat}{7}\n",
    "3x_1 &&\\; + \\;&& 2x_2             &&\\; - \\;&& x_3  &&\\; = \\;&& 1 & \\\\\n",
    "2x_1 &&\\; - \\;&& 2x_2             &&\\; + \\;&& 4x_3 &&\\; = \\;&& -2 & \\\\\n",
    "-x_1 &&\\; + \\;&& \\tfrac{1}{2} x_2 &&\\; - \\;&& x_3  &&\\; = \\;&& 0 &\n",
    "\\end{alignat}\n",
    "$$"
   ]
  },
  {
   "cell_type": "markdown",
   "metadata": {},
   "source": [
    "$$\n",
    "Ax = b, \\;\\;\\;\\; \n",
    "\\begin{bmatrix}\n",
    " 3 &  2 & -1 \\\\\n",
    " 2 & -2 &  4 \\\\\n",
    "-1 & \\tfrac{1}{2} & 1 \\\\\n",
    "\\end{bmatrix}\n",
    "\\begin{bmatrix}\n",
    "x_1 \\\\ x_2 \\\\ x_3\n",
    "\\end{bmatrix}\n",
    "= \\begin{bmatrix}\n",
    "1 \\\\ -2 \\\\ 0\n",
    "\\end{bmatrix}\n",
    "$$"
   ]
  },
  {
   "cell_type": "markdown",
   "metadata": {},
   "source": [
    "여기서 문제는 벡터 x(가중치)를 구하기 위해 $\\dfrac{b}{A}$를 해야 하는데 행렬은 이게 불가능"
   ]
  },
  {
   "cell_type": "markdown",
   "metadata": {},
   "source": [
    "### 2. 역행렬 (Inverse matrix)"
   ]
  },
  {
   "cell_type": "markdown",
   "metadata": {},
   "source": [
    "1) 정의"
   ]
  },
  {
   "cell_type": "markdown",
   "metadata": {},
   "source": [
    "- 행렬의 나눗셈을 해결하기 위한 성질\n",
    "- 역행렬이 항상 존재하는 것은 아님\n",
    "- 역행렬이 존재하는 행렬을 가역행렬(invertible matrix), 정칙행렬(regular matrix), 비특이행렬(non-singular matrix)이라 함\n",
    "- 역행렬이 존재하지 않는 행렬을 비가역행렬(non-invertible matrix), 특이행렬(singular matrix), 퇴화행렬(degenerate matrix)이라 함"
   ]
  },
  {
   "cell_type": "markdown",
   "metadata": {},
   "source": [
    "$$ A^{-1} A = A A^{-1} = I $$"
   ]
  },
  {
   "cell_type": "markdown",
   "metadata": {},
   "source": [
    "2) 공식"
   ]
  },
  {
   "cell_type": "markdown",
   "metadata": {},
   "source": [
    "$$ A^{-1} = \\dfrac{1}{\\det A} C^T = \\dfrac{1}{\\det A} \n",
    "\\begin{bmatrix}\n",
    "C_{1,1} &\\cdots& C_{N, 1}\\\\\n",
    "\\vdots &\\ddots &\\vdots\\\\\n",
    "C_{1,N} &\\cdots &C_{N,N}\\\\\n",
    "\\end{bmatrix}\n",
    "$$"
   ]
  },
  {
   "cell_type": "markdown",
   "metadata": {},
   "source": [
    "- 코팩터로 이루어진 행렬 $C$을 코팩터 행렬이라 함\n",
    "- 코팩터 행렬의 전치 행렬 $C^T$를 어드조인트 행렬(*$\\text{adj}(A)$*)이라 함\n",
    "- 역행렬은 행렬식($\\det A$)이 0이 아닌 경우에만 존재"
   ]
  },
  {
   "cell_type": "markdown",
   "metadata": {},
   "source": [
    "3) 성질"
   ]
  },
  {
   "cell_type": "markdown",
   "metadata": {},
   "source": [
    "[1] $ (A^{T})^{-1} = (A^{-1})^{T} $"
   ]
  },
  {
   "cell_type": "markdown",
   "metadata": {},
   "source": [
    "[2] $ (AB)^{-1} = B^{-1} A^{-1} $"
   ]
  },
  {
   "cell_type": "markdown",
   "metadata": {},
   "source": [
    "[3] $ (ABC)^{-1} = C^{-1} B^{-1} A^{-1} $"
   ]
  },
  {
   "cell_type": "markdown",
   "metadata": {},
   "source": [
    "### 3. 선형 연립 방정식과 역행렬의 해"
   ]
  },
  {
   "cell_type": "markdown",
   "metadata": {},
   "source": [
    "- 미지수의 수와 방정식의 수가 같으면 행렬 A는 정방행렬이 됨"
   ]
  },
  {
   "cell_type": "markdown",
   "metadata": {},
   "source": [
    "$ Ax = b\\;\\;\\rightarrow \\;\\;A^{-1}Ax = A^{-1}b\\;\\;\\rightarrow \\;\\;Ix = A^{-1}b\\;\\;\\rightarrow \\;\\;x = A^{-1}b$  "
   ]
  },
  {
   "cell_type": "markdown",
   "metadata": {},
   "source": [
    "ex) 선형 연립 방정식에서 $x_1, x_2, x_3$를 NumPy로 구해보기\n",
    "\n",
    "$$\n",
    "Ax = b, \\;\\;\\;\\; \n",
    "\\begin{bmatrix}\n",
    " 3 &  2 & -1 \\\\\n",
    " 2 & -2 &  4 \\\\\n",
    "-1 & \\tfrac{1}{2} & 1 \\\\\n",
    "\\end{bmatrix}\n",
    "\\begin{bmatrix}\n",
    "x_1 \\\\ x_2 \\\\ x_3\n",
    "\\end{bmatrix}\n",
    "= \\begin{bmatrix}\n",
    "1 \\\\ -2 \\\\ 0\n",
    "\\end{bmatrix}\n",
    "$$"
   ]
  },
  {
   "cell_type": "code",
   "execution_count": 1,
   "metadata": {},
   "outputs": [
    {
     "data": {
      "text/plain": [
       "array([[-0.04347826],\n",
       "       [ 0.43478261],\n",
       "       [-0.26086957]])"
      ]
     },
     "execution_count": 1,
     "metadata": {},
     "output_type": "execute_result"
    }
   ],
   "source": [
    "# 선형 연립방정식의 해 구하기\n",
    "# 방법 1. 직접 역행렬 구하기\n",
    "A = np.array([[3, 2, -1], [2, -2, 4], [-1, 1/2, 1]])\n",
    "b = np.array([[1], [-2], [0]])\n",
    "Ainv = np.linalg.inv(A) # A역행렬 구하기\n",
    "np.dot(Ainv, b)"
   ]
  },
  {
   "cell_type": "code",
   "execution_count": 2,
   "metadata": {
    "scrolled": true
   },
   "outputs": [
    {
     "name": "stderr",
     "output_type": "stream",
     "text": [
      "/usr/local/lib/python3.6/site-packages/ipykernel_launcher.py:2: FutureWarning: `rcond` parameter will change to the default of machine precision times ``max(M, N)`` where M and N are the input matrix dimensions.\n",
      "To use the future default and silence this warning we advise to pass `rcond=None`, to keep using the old, explicitly pass `rcond=-1`.\n",
      "  \n"
     ]
    },
    {
     "data": {
      "text/plain": [
       "array([[-0.04347826],\n",
       "       [ 0.43478261],\n",
       "       [-0.26086957]])"
      ]
     },
     "execution_count": 2,
     "metadata": {},
     "output_type": "execute_result"
    }
   ],
   "source": [
    "# 방법 2. 함수로 구하기\n",
    "x, resid, rank, s = np.linalg.lstsq(A, b)\n",
    "x"
   ]
  },
  {
   "cell_type": "markdown",
   "metadata": {},
   "source": [
    "### 4. 최소 자승 문제"
   ]
  },
  {
   "cell_type": "markdown",
   "metadata": {},
   "source": [
    "1) 미지수의 수와 방정식의 수를 고려"
   ]
  },
  {
   "cell_type": "markdown",
   "metadata": {},
   "source": [
    "- 방정식의 수가 미지수의 수와 같음 ($N = M$)\n",
    "- 방정식의 수가 미지수의 수보다 적음 ($N < M$) - 무수히 많은 해가 존재할 수 있음\n",
    "- 방정식의 수가 미지수의 수보다 많음 ($N > M$) - 해가 없을 수 있음"
   ]
  },
  {
   "cell_type": "markdown",
   "metadata": {},
   "source": [
    "2) 최소 자승(Least Square)"
   ]
  },
  {
   "cell_type": "markdown",
   "metadata": {},
   "source": [
    "- 데이터를 다루는 경우는 대부분 3번에서 이루어짐 (해가 없을 수 있음)\n",
    "- 따라서 정확하진 않아도 최대한 비슷하게 만들 필요성이 있음 ($ Ax \\approx b $)\n",
    "- 이렇게 좌변과 우변의 차이, 잔차를 최소화 하는 것을 최소 자승이라 함"
   ]
  },
  {
   "cell_type": "markdown",
   "metadata": {},
   "source": [
    "[1] 선형 연립 방정식 문제를 좌변과 우변의 차이를 최소화하는 문제로 바꿔서 생각"
   ]
  },
  {
   "cell_type": "markdown",
   "metadata": {},
   "source": [
    "$$ e = Ax-b $$"
   ]
  },
  {
   "cell_type": "markdown",
   "metadata": {},
   "source": [
    "[2] 잔차를 최소화 한다는 것은 벡터의 크기, 즉 놈을 최소화 하는 것과 같음"
   ]
  },
  {
   "cell_type": "markdown",
   "metadata": {},
   "source": [
    "$$ e^Te = \\Vert e \\Vert^2 = (Ax-b)^T(Ax-b) $$"
   ]
  },
  {
   "cell_type": "markdown",
   "metadata": {},
   "source": [
    "[3] 이 값을 최소화 하는 $x$를 찾는 표현"
   ]
  },
  {
   "cell_type": "markdown",
   "metadata": {},
   "source": [
    "$$ x = \\text{arg} \\min_x e^Te = \\text{arg} \\min_x  \\; (Ax-b)^T(Ax-b) $$"
   ]
  },
  {
   "cell_type": "markdown",
   "metadata": {},
   "source": [
    "$\\text{arg} \\min_x f(x)$ 는 함수 $f(x)$를 가장 작게 만드는 $x$ 값을 의미"
   ]
  },
  {
   "cell_type": "markdown",
   "metadata": {},
   "source": [
    "3) 최소 자승 공식"
   ]
  },
  {
   "cell_type": "markdown",
   "metadata": {},
   "source": [
    "[1] $ Ax \\approx b $식에 양변에 $A^T$를 곱한 값이 같다고 가정"
   ]
  },
  {
   "cell_type": "markdown",
   "metadata": {},
   "source": [
    "$$ A^TAx = A^Tb $$"
   ]
  },
  {
   "cell_type": "markdown",
   "metadata": {},
   "source": [
    "[2] $A^TA$의 역행렬 $(A^TA)^{-1}$이 존재한다고 가정"
   ]
  },
  {
   "cell_type": "markdown",
   "metadata": {},
   "source": [
    "$$ (A^TA)^{-1}(A^TA)x = (A^TA)^{-1}A^Tb $$"
   ]
  },
  {
   "cell_type": "markdown",
   "metadata": {},
   "source": [
    "$$ x = (A^TA)^{-1}A^T b $$"
   ]
  },
  {
   "cell_type": "markdown",
   "metadata": {},
   "source": [
    "[3] 여기에서 행렬 $(A^TA)^{-1}A^T$ 를 행렬 $A$의 의사 역행렬(pseudo inverse)이라함"
   ]
  },
  {
   "cell_type": "markdown",
   "metadata": {},
   "source": [
    "$$ A^{+} = (A^TA)^{-1}A^T $$\n",
    "\n",
    "$$ x = A^+ b $$"
   ]
  },
  {
   "cell_type": "markdown",
   "metadata": {},
   "source": [
    "ex) 최소 자승 문제 풀기\n",
    "\n",
    "$$\n",
    "Ax = b, \\;\\;\\;\\; \n",
    "\\begin{bmatrix}\n",
    " 2 & 3 & -2 \\\\\n",
    " 3 & 5 & 6 \\\\\n",
    " 2 & 4 & 3 \\\\\n",
    " 0 & 1 & 2 \\\\\n",
    "\\end{bmatrix}\n",
    "\\begin{bmatrix}\n",
    "x_1 \\\\ x_2 \\\\ x_3\n",
    "\\end{bmatrix}\n",
    "= \\begin{bmatrix}\n",
    "-5 \\\\ 12 \\\\ 7 \\\\ 6\n",
    "\\end{bmatrix}\n",
    "$$"
   ]
  },
  {
   "cell_type": "code",
   "execution_count": 3,
   "metadata": {},
   "outputs": [
    {
     "data": {
      "text/plain": [
       "array([[-3.12352941],\n",
       "       [ 1.78235294],\n",
       "       [ 2.07058824]])"
      ]
     },
     "execution_count": 3,
     "metadata": {},
     "output_type": "execute_result"
    }
   ],
   "source": [
    "# 최소자승 문제 구하기\n",
    "# 방법 1. 의사 역행렬를 직접 계산\n",
    "A = np.array([[2, 3, -2], [3, 5, 6], [2, 4, 3], [0, 1, 2]])\n",
    "b = np.array([[-5], [12], [7], [6]])\n",
    "Apinv = np.dot(np.linalg.inv(np.dot(A.T, A)), A.T) # 의사 역행렬 구하기 \n",
    "x = np.dot(Apinv, b) # 의사 역행렬 X b\n",
    "x"
   ]
  },
  {
   "cell_type": "code",
   "execution_count": 4,
   "metadata": {},
   "outputs": [
    {
     "name": "stderr",
     "output_type": "stream",
     "text": [
      "/usr/local/lib/python3.6/site-packages/ipykernel_launcher.py:2: FutureWarning: `rcond` parameter will change to the default of machine precision times ``max(M, N)`` where M and N are the input matrix dimensions.\n",
      "To use the future default and silence this warning we advise to pass `rcond=None`, to keep using the old, explicitly pass `rcond=-1`.\n",
      "  \n"
     ]
    },
    {
     "data": {
      "text/plain": [
       "array([[-3.12352941],\n",
       "       [ 1.78235294],\n",
       "       [ 2.07058824]])"
      ]
     },
     "execution_count": 4,
     "metadata": {},
     "output_type": "execute_result"
    }
   ],
   "source": [
    "# 방법 2. lstsq 명령을 이용\n",
    "x, resid, rank, s = np.linalg.lstsq(A, b) # cf) resid는 오차 벡터의 크기 (제곱합)\n",
    "x "
   ]
  },
  {
   "cell_type": "markdown",
   "metadata": {},
   "source": [
    "### 연습 문제"
   ]
  },
  {
   "cell_type": "markdown",
   "metadata": {},
   "source": [
    "#### ``연습 문제 1``\n",
    "\n",
    "코팩터 식을 사용하여 다음 역행렬을 계산해 보아라.\n",
    "\n",
    "1. $$\n",
    "\\begin{bmatrix} \n",
    "2 & 0 \\\\\n",
    "0 & 1  \n",
    "\\end{bmatrix}^{-1}\n",
    "$$\n",
    "\n",
    "2. $$\n",
    "\\begin{bmatrix} \n",
    "\\dfrac{1}{\\sqrt{2}} & -\\dfrac{1}{\\sqrt{2}} \\\\\n",
    "\\dfrac{1}{\\sqrt{2}} &  \\dfrac{1}{\\sqrt{2}} \n",
    "\\end{bmatrix}^{-1}\n",
    "$$"
   ]
  },
  {
   "cell_type": "code",
   "execution_count": null,
   "metadata": {},
   "outputs": [],
   "source": []
  },
  {
   "cell_type": "markdown",
   "metadata": {},
   "source": [
    "#### ``연습 문제 2``\n",
    "\n",
    "보스턴 집값 문제를 선형 예측 모형 $Xw=\\hat{y}$로 풀었을 때의 가중치 벡터 $w$를 구하라. 행렬과 벡터 데이터는 다음과 같이 얻을 수 있다. 여기에서는 문제를 간단하게 하기 위해 입력 데이터를 CRIM, NOX, RM, AGE의 4종류로 제한하였고 데이터도 4개만 사용하였다.\n",
    "\n",
    "```\n",
    "from sklearn.datasets import load_boston\n",
    "boston = load_boston()\n",
    "X = boston.data\n",
    "y = boston.target\n",
    "A = X[:4, [0, 4, 5, 6]]  # 'CRIM', 'NOX', 'RM', 'AGE'\n",
    "b = y[:4]\n",
    "```\n",
    "\n",
    "이렇게 구한 가중치의 크기나 부호가 우리의 직관이나 경험과 일치하는지 살펴보라."
   ]
  },
  {
   "cell_type": "code",
   "execution_count": null,
   "metadata": {},
   "outputs": [],
   "source": []
  },
  {
   "cell_type": "markdown",
   "metadata": {},
   "source": [
    "#### ``연습 문제 3``\n",
    "\n",
    "보스턴 집값 문제를 선형 예측 모형 $Xw=\\hat{y}$로 풀었을 때의 가중치 벡터 $w$를 최소 자승 방법으로 구하라. 행렬과 벡터 데이터는 다음과 같이 얻을 수 있다.\n",
    "\n",
    "```\n",
    "from sklearn.datasets import load_boston\n",
    "boston = load_boston()\n",
    "X = boston.data\n",
    "y = boston.target\n",
    "```\n",
    "\n",
    "이렇게 구한 가중치의 부호가 우리의 직관이나 경험과 일치하는지 살펴보라. 또  CRIM, NOX, RM, AGE의 가중치가 위에서 구한 값과 어떻게 달라지는지 살펴보라."
   ]
  },
  {
   "cell_type": "code",
   "execution_count": null,
   "metadata": {},
   "outputs": [],
   "source": []
  }
 ],
 "metadata": {
  "kernelspec": {
   "display_name": "Python 3",
   "language": "python",
   "name": "python3"
  },
  "language_info": {
   "codemirror_mode": {
    "name": "ipython",
    "version": 3
   },
   "file_extension": ".py",
   "mimetype": "text/x-python",
   "name": "python",
   "nbconvert_exporter": "python",
   "pygments_lexer": "ipython3",
   "version": "3.6.4"
  }
 },
 "nbformat": 4,
 "nbformat_minor": 2
}
