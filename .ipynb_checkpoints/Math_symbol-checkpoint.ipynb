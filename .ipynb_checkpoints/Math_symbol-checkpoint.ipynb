{
 "cells": [
  {
   "cell_type": "markdown",
   "metadata": {},
   "source": [
    "### Math symbol (수학기호)"
   ]
  },
  {
   "cell_type": "markdown",
   "metadata": {},
   "source": [
    "그리스 문자와 몇가지 기본적인 수학 연산 기호를 알아야 함 (외우기)"
   ]
  },
  {
   "cell_type": "markdown",
   "metadata": {},
   "source": [
    "#### 1. 그리스 문자"
   ]
  },
  {
   "cell_type": "markdown",
   "metadata": {},
   "source": [
    "<table class=\"table-bordered\" style=\"width:80%\">\n",
    "  <tr>\n",
    "    <td>**알파벳 대문자**</td>\n",
    "    <td>**알파벳 소문자**</td>\n",
    "    <td>**영어 이름**</td> \n",
    "    <td>**한글 표기**</td> \n",
    "  </tr>\n",
    "  <tr>\n",
    "    <td>$A$</td>\n",
    "    <td>$\\alpha$</td>\n",
    "    <td>alpha</td>\n",
    "    <td>알파</td>\n",
    "  </tr>\n",
    "  <tr>\n",
    "    <td>$B$</td> \n",
    "    <td>$\\beta$</td>\n",
    "    <td>beta</td> \n",
    "    <td>베타</td> \n",
    "  </tr>\n",
    "  <tr>\n",
    "    <td>$\\Gamma$</td> \n",
    "    <td>$\\gamma$</td>\n",
    "    <td>gamma</td> \n",
    "    <td>감마</td> \n",
    "  </tr>\n",
    "  <tr>\n",
    "    <td>$\\Delta$</td> \n",
    "    <td>$\\delta$</td>\n",
    "    <td>delta</td> \n",
    "    <td>델타</td> \n",
    "  </tr>\n",
    "  <tr>\n",
    "    <td>$E$</td> \n",
    "    <td>$\\epsilon$</td>\n",
    "    <td>epsilon</td> \n",
    "    <td>엡실론</td> \n",
    "  </tr>\n",
    "  <tr>\n",
    "    <td>$Z$</td> \n",
    "    <td>$\\zeta$</td>\n",
    "    <td>zeta</td> \n",
    "    <td>제타</td> \n",
    "  </tr>\n",
    "  <tr>\n",
    "    <td>$H$ </td> \n",
    "    <td>$\\eta$</td>\n",
    "    <td>eta</td> \n",
    "    <td>에타</td> \n",
    "  </tr>\n",
    "    <tr>\n",
    "    <td>$\\Theta$</td> \n",
    "    <td>$\\theta$</td>\n",
    "    <td>theta</td> \n",
    "    <td>쎄타</td> \n",
    "  </tr>\n",
    "  <tr>\n",
    "    <td>$K$</td> \n",
    "    <td>$\\kappa$</td>\n",
    "    <td>kappa</td> \n",
    "    <td>카파</td> \n",
    "  </tr>\n",
    "  <tr>\n",
    "    <td>$\\Lambda$</td> \n",
    "    <td>$\\lambda$</td>\n",
    "    <td>lambda</td> \n",
    "    <td>람다</td> \n",
    "  </tr>\n",
    "  <tr>\n",
    "    <td>$M$</td> \n",
    "    <td>$\\mu$</td>\n",
    "    <td>mu</td> \n",
    "    <td>뮤</td> \n",
    "  </tr>\n",
    "  <tr>\n",
    "    <td>$N$</td> \n",
    "    <td>$\\nu$</td>\n",
    "    <td>nu</td> \n",
    "    <td>뉴</td> \n",
    "  </tr>\n",
    "    <tr>\n",
    "    <td>$\\Xi$</td> \n",
    "    <td>$\\xi$</td>\n",
    "    <td>xi</td> \n",
    "    <td>크싸이</td> \n",
    "  </tr>\n",
    "  <tr>\n",
    "    <td>$\\Pi$</td> \n",
    "    <td>$\\pi$</td>\n",
    "    <td>phi</td> \n",
    "    <td>파이</td> \n",
    "  </tr>\n",
    "  <tr>\n",
    "    <td>$P$</td> \n",
    "    <td>$\\rho$</td>\n",
    "    <td>rho</td> \n",
    "    <td>로</td> \n",
    "  </tr>\n",
    "  <tr>\n",
    "    <td>$\\Sigma$</td> \n",
    "    <td>$\\sigma$</td>\n",
    "    <td>sigma</td> \n",
    "    <td>시그마</td> \n",
    "  </tr>\n",
    "  <tr>\n",
    "    <td>$T$</td> \n",
    "    <td>$\\tau$</td>\n",
    "    <td>tau</td> \n",
    "    <td>타우</td> \n",
    "  </tr>\n",
    "  <tr>\n",
    "    <td>$\\Phi$ </td> \n",
    "    <td>$\\phi$</td>\n",
    "    <td>phi</td> \n",
    "    <td>파이/피</td> \n",
    "  </tr>\n",
    "  <tr>\n",
    "    <td>$X$</td> \n",
    "    <td>$\\chi$</td>\n",
    "    <td>chi</td> \n",
    "    <td>카이</td> \n",
    "  </tr>\n",
    "  <tr>\n",
    "    <td>$\\Psi$</td> \n",
    "    <td>$\\psi$</td>\n",
    "    <td>psi</td> \n",
    "    <td>프사이</td> \n",
    "  </tr>\n",
    "  <tr>\n",
    "    <td>$\\Omega$</td> \n",
    "    <td>$\\omega$</td>\n",
    "    <td>omega</td> \n",
    "    <td>오메가</td> \n",
    "  </tr>\n",
    "</table>\n",
    "\n"
   ]
  },
  {
   "cell_type": "markdown",
   "metadata": {},
   "source": [
    "#### 2. 주의해야할 기호 (헷갈림 주의)"
   ]
  },
  {
   "cell_type": "markdown",
   "metadata": {},
   "source": [
    "<table class=\"table-bordered\" style=\"width:50%\">\n",
    "  <tr>\n",
    "    <td>**그리스 문자**</td>\n",
    "    <td>**영어**</td> \n",
    "  </tr>\n",
    "  <tr>\n",
    "    <td>$\\alpha$ (알파)</td>\n",
    "    <td>a (영어)</td>\n",
    "  </tr>\n",
    "  <tr>\n",
    "    <td>$\\beta$ (베타)</td> \n",
    "    <td>b (영어)</td> \n",
    "  </tr>\n",
    "  <tr>\n",
    "    <td>$\\gamma$ (감마)</td> \n",
    "    <td>r (영어)</td>\n",
    "  </tr>\n",
    "  <tr>\n",
    "    <td>$\\epsilon$ (엡실론)</td> \n",
    "    <td>e (영어)</td>\n",
    "  </tr>\n",
    "  <tr>\n",
    "    <td>$\\kappa$ (카파)</td> \n",
    "    <td>k (영어)</td>\n",
    "  </tr>\n",
    "  <tr>\n",
    "    <td>$\\nu$ (뉴)</td> \n",
    "    <td>v (영어)</td>\n",
    "  </tr>\n",
    "  <tr>\n",
    "    <td>$\\rho$ (로)</td> \n",
    "    <td>p (영어)</td>\n",
    "  </tr>\n",
    "    <tr>\n",
    "    <td>$\\sigma$ (시그마)</td> \n",
    "    <td>6 (숫자)</td>\n",
    "  </tr>\n",
    "  <tr>\n",
    "    <td>$\\omega$ (오메가)</td> \n",
    "    <td>w (영어)</td>\n",
    "  </tr>\n",
    "</table>"
   ]
  },
  {
   "cell_type": "markdown",
   "metadata": {},
   "source": [
    "#### 3. Sum / Product"
   ]
  },
  {
   "cell_type": "markdown",
   "metadata": {},
   "source": [
    "1) Sum"
   ]
  },
  {
   "cell_type": "markdown",
   "metadata": {},
   "source": [
    "$$ \\sum_{i=1}^N x_i = x_1 + x_2 + \\ldots + x_N $$"
   ]
  },
  {
   "cell_type": "markdown",
   "metadata": {},
   "source": [
    "2) Product"
   ]
  },
  {
   "cell_type": "markdown",
   "metadata": {},
   "source": [
    "$$ \\prod_{i=1}^N x_i = x_1 \\times x_2 \\times \\ldots \\times x_N $$"
   ]
  },
  {
   "cell_type": "markdown",
   "metadata": {},
   "source": [
    "**example**"
   ]
  },
  {
   "cell_type": "markdown",
   "metadata": {},
   "source": [
    "ex1) $$ \\sum_{i=1}^4 i =1 + 2 + 3 + 4 $$"
   ]
  },
  {
   "cell_type": "markdown",
   "metadata": {},
   "source": [
    "ex2) $$ \\prod_{m=1}^3\\prod_{n=4}^5 m + 2n = (1 + 2\\cdot 4) \\cdot (1 + 2\\cdot 5) \\cdot (2 + 2\\cdot 4) \\cdot (2 + 2\\cdot 5)\\cdot (3 + 2\\cdot 4) \\cdot (3 + 2\\cdot 5)  $$"
   ]
  }
 ],
 "metadata": {
  "kernelspec": {
   "display_name": "Python 3",
   "language": "python",
   "name": "python3"
  },
  "language_info": {
   "codemirror_mode": {
    "name": "ipython",
    "version": 3
   },
   "file_extension": ".py",
   "mimetype": "text/x-python",
   "name": "python",
   "nbconvert_exporter": "python",
   "pygments_lexer": "ipython3",
   "version": "3.6.4"
  }
 },
 "nbformat": 4,
 "nbformat_minor": 2
}
